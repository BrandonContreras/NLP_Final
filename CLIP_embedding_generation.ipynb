{
  "nbformat": 4,
  "nbformat_minor": 0,
  "metadata": {
    "kernelspec": {
      "display_name": "Python 3",
      "language": "python",
      "name": "python3"
    },
    "language_info": {
      "codemirror_mode": {
        "name": "ipython",
        "version": 3
      },
      "file_extension": ".py",
      "mimetype": "text/x-python",
      "name": "python",
      "nbconvert_exporter": "python",
      "pygments_lexer": "ipython3",
      "version": "3.8.3"
    },
    "colab": {
      "name": "CLIP_embedding_generation.ipynb",
      "provenance": [],
      "collapsed_sections": [],
      "machine_shape": "hm"
    },
    "accelerator": "GPU",
    "widgets": {
      "application/vnd.jupyter.widget-state+json": {
        "b999775b46f140a297e3b1e2e4580386": {
          "model_module": "@jupyter-widgets/controls",
          "model_name": "HBoxModel",
          "state": {
            "_view_name": "HBoxView",
            "_dom_classes": [],
            "_model_name": "HBoxModel",
            "_view_module": "@jupyter-widgets/controls",
            "_model_module_version": "1.5.0",
            "_view_count": null,
            "_view_module_version": "1.5.0",
            "box_style": "",
            "layout": "IPY_MODEL_2a3520b4cec441159bd5964e7258ec57",
            "_model_module": "@jupyter-widgets/controls",
            "children": [
              "IPY_MODEL_919d7a820aee44a29717fa2fb3c75a8a",
              "IPY_MODEL_5ef43d28ed994876a14f84068ae238d7"
            ]
          }
        },
        "2a3520b4cec441159bd5964e7258ec57": {
          "model_module": "@jupyter-widgets/base",
          "model_name": "LayoutModel",
          "state": {
            "_view_name": "LayoutView",
            "grid_template_rows": null,
            "right": null,
            "justify_content": null,
            "_view_module": "@jupyter-widgets/base",
            "overflow": null,
            "_model_module_version": "1.2.0",
            "_view_count": null,
            "flex_flow": null,
            "width": null,
            "min_width": null,
            "border": null,
            "align_items": null,
            "bottom": null,
            "_model_module": "@jupyter-widgets/base",
            "top": null,
            "grid_column": null,
            "overflow_y": null,
            "overflow_x": null,
            "grid_auto_flow": null,
            "grid_area": null,
            "grid_template_columns": null,
            "flex": null,
            "_model_name": "LayoutModel",
            "justify_items": null,
            "grid_row": null,
            "max_height": null,
            "align_content": null,
            "visibility": null,
            "align_self": null,
            "height": null,
            "min_height": null,
            "padding": null,
            "grid_auto_rows": null,
            "grid_gap": null,
            "max_width": null,
            "order": null,
            "_view_module_version": "1.2.0",
            "grid_template_areas": null,
            "object_position": null,
            "object_fit": null,
            "grid_auto_columns": null,
            "margin": null,
            "display": null,
            "left": null
          }
        },
        "919d7a820aee44a29717fa2fb3c75a8a": {
          "model_module": "@jupyter-widgets/controls",
          "model_name": "FloatProgressModel",
          "state": {
            "_view_name": "ProgressView",
            "style": "IPY_MODEL_23ee04e9c04842f195afc8c3aaae810a",
            "_dom_classes": [],
            "description": "100%",
            "_model_name": "FloatProgressModel",
            "bar_style": "success",
            "max": 3785,
            "_view_module": "@jupyter-widgets/controls",
            "_model_module_version": "1.5.0",
            "value": 3785,
            "_view_count": null,
            "_view_module_version": "1.5.0",
            "orientation": "horizontal",
            "min": 0,
            "description_tooltip": null,
            "_model_module": "@jupyter-widgets/controls",
            "layout": "IPY_MODEL_7983170b3f6c40d69bc3a7c53317b933"
          }
        },
        "5ef43d28ed994876a14f84068ae238d7": {
          "model_module": "@jupyter-widgets/controls",
          "model_name": "HTMLModel",
          "state": {
            "_view_name": "HTMLView",
            "style": "IPY_MODEL_9a5241f06b96415fac2458136981b432",
            "_dom_classes": [],
            "description": "",
            "_model_name": "HTMLModel",
            "placeholder": "​",
            "_view_module": "@jupyter-widgets/controls",
            "_model_module_version": "1.5.0",
            "value": " 3785/3785 [1:15:49&lt;00:00,  1.20s/it]",
            "_view_count": null,
            "_view_module_version": "1.5.0",
            "description_tooltip": null,
            "_model_module": "@jupyter-widgets/controls",
            "layout": "IPY_MODEL_7159555057374c989047b24239323d9b"
          }
        },
        "23ee04e9c04842f195afc8c3aaae810a": {
          "model_module": "@jupyter-widgets/controls",
          "model_name": "ProgressStyleModel",
          "state": {
            "_view_name": "StyleView",
            "_model_name": "ProgressStyleModel",
            "description_width": "initial",
            "_view_module": "@jupyter-widgets/base",
            "_model_module_version": "1.5.0",
            "_view_count": null,
            "_view_module_version": "1.2.0",
            "bar_color": null,
            "_model_module": "@jupyter-widgets/controls"
          }
        },
        "7983170b3f6c40d69bc3a7c53317b933": {
          "model_module": "@jupyter-widgets/base",
          "model_name": "LayoutModel",
          "state": {
            "_view_name": "LayoutView",
            "grid_template_rows": null,
            "right": null,
            "justify_content": null,
            "_view_module": "@jupyter-widgets/base",
            "overflow": null,
            "_model_module_version": "1.2.0",
            "_view_count": null,
            "flex_flow": null,
            "width": null,
            "min_width": null,
            "border": null,
            "align_items": null,
            "bottom": null,
            "_model_module": "@jupyter-widgets/base",
            "top": null,
            "grid_column": null,
            "overflow_y": null,
            "overflow_x": null,
            "grid_auto_flow": null,
            "grid_area": null,
            "grid_template_columns": null,
            "flex": null,
            "_model_name": "LayoutModel",
            "justify_items": null,
            "grid_row": null,
            "max_height": null,
            "align_content": null,
            "visibility": null,
            "align_self": null,
            "height": null,
            "min_height": null,
            "padding": null,
            "grid_auto_rows": null,
            "grid_gap": null,
            "max_width": null,
            "order": null,
            "_view_module_version": "1.2.0",
            "grid_template_areas": null,
            "object_position": null,
            "object_fit": null,
            "grid_auto_columns": null,
            "margin": null,
            "display": null,
            "left": null
          }
        },
        "9a5241f06b96415fac2458136981b432": {
          "model_module": "@jupyter-widgets/controls",
          "model_name": "DescriptionStyleModel",
          "state": {
            "_view_name": "StyleView",
            "_model_name": "DescriptionStyleModel",
            "description_width": "",
            "_view_module": "@jupyter-widgets/base",
            "_model_module_version": "1.5.0",
            "_view_count": null,
            "_view_module_version": "1.2.0",
            "_model_module": "@jupyter-widgets/controls"
          }
        },
        "7159555057374c989047b24239323d9b": {
          "model_module": "@jupyter-widgets/base",
          "model_name": "LayoutModel",
          "state": {
            "_view_name": "LayoutView",
            "grid_template_rows": null,
            "right": null,
            "justify_content": null,
            "_view_module": "@jupyter-widgets/base",
            "overflow": null,
            "_model_module_version": "1.2.0",
            "_view_count": null,
            "flex_flow": null,
            "width": null,
            "min_width": null,
            "border": null,
            "align_items": null,
            "bottom": null,
            "_model_module": "@jupyter-widgets/base",
            "top": null,
            "grid_column": null,
            "overflow_y": null,
            "overflow_x": null,
            "grid_auto_flow": null,
            "grid_area": null,
            "grid_template_columns": null,
            "flex": null,
            "_model_name": "LayoutModel",
            "justify_items": null,
            "grid_row": null,
            "max_height": null,
            "align_content": null,
            "visibility": null,
            "align_self": null,
            "height": null,
            "min_height": null,
            "padding": null,
            "grid_auto_rows": null,
            "grid_gap": null,
            "max_width": null,
            "order": null,
            "_view_module_version": "1.2.0",
            "grid_template_areas": null,
            "object_position": null,
            "object_fit": null,
            "grid_auto_columns": null,
            "margin": null,
            "display": null,
            "left": null
          }
        },
        "249d4cc0134f40b59dedbd6bf9b1961a": {
          "model_module": "@jupyter-widgets/controls",
          "model_name": "HBoxModel",
          "state": {
            "_view_name": "HBoxView",
            "_dom_classes": [],
            "_model_name": "HBoxModel",
            "_view_module": "@jupyter-widgets/controls",
            "_model_module_version": "1.5.0",
            "_view_count": null,
            "_view_module_version": "1.5.0",
            "box_style": "",
            "layout": "IPY_MODEL_d42e39b4880e438492bb03b26e6dff50",
            "_model_module": "@jupyter-widgets/controls",
            "children": [
              "IPY_MODEL_b2c224af8f0244c68a3a16d800e42a82",
              "IPY_MODEL_99c6b8b61a3b43f1a834d063a0f063ab"
            ]
          }
        },
        "d42e39b4880e438492bb03b26e6dff50": {
          "model_module": "@jupyter-widgets/base",
          "model_name": "LayoutModel",
          "state": {
            "_view_name": "LayoutView",
            "grid_template_rows": null,
            "right": null,
            "justify_content": null,
            "_view_module": "@jupyter-widgets/base",
            "overflow": null,
            "_model_module_version": "1.2.0",
            "_view_count": null,
            "flex_flow": null,
            "width": null,
            "min_width": null,
            "border": null,
            "align_items": null,
            "bottom": null,
            "_model_module": "@jupyter-widgets/base",
            "top": null,
            "grid_column": null,
            "overflow_y": null,
            "overflow_x": null,
            "grid_auto_flow": null,
            "grid_area": null,
            "grid_template_columns": null,
            "flex": null,
            "_model_name": "LayoutModel",
            "justify_items": null,
            "grid_row": null,
            "max_height": null,
            "align_content": null,
            "visibility": null,
            "align_self": null,
            "height": null,
            "min_height": null,
            "padding": null,
            "grid_auto_rows": null,
            "grid_gap": null,
            "max_width": null,
            "order": null,
            "_view_module_version": "1.2.0",
            "grid_template_areas": null,
            "object_position": null,
            "object_fit": null,
            "grid_auto_columns": null,
            "margin": null,
            "display": null,
            "left": null
          }
        },
        "b2c224af8f0244c68a3a16d800e42a82": {
          "model_module": "@jupyter-widgets/controls",
          "model_name": "FloatProgressModel",
          "state": {
            "_view_name": "ProgressView",
            "style": "IPY_MODEL_389004a31c544cae8204020d5a34bd1f",
            "_dom_classes": [],
            "description": "100%",
            "_model_name": "FloatProgressModel",
            "bar_style": "success",
            "max": 3811,
            "_view_module": "@jupyter-widgets/controls",
            "_model_module_version": "1.5.0",
            "value": 3811,
            "_view_count": null,
            "_view_module_version": "1.5.0",
            "orientation": "horizontal",
            "min": 0,
            "description_tooltip": null,
            "_model_module": "@jupyter-widgets/controls",
            "layout": "IPY_MODEL_35737ed1d85d4e5c96782a80d3636a7a"
          }
        },
        "99c6b8b61a3b43f1a834d063a0f063ab": {
          "model_module": "@jupyter-widgets/controls",
          "model_name": "HTMLModel",
          "state": {
            "_view_name": "HTMLView",
            "style": "IPY_MODEL_fa782b4df0bb4cd0b83de0805d295607",
            "_dom_classes": [],
            "description": "",
            "_model_name": "HTMLModel",
            "placeholder": "​",
            "_view_module": "@jupyter-widgets/controls",
            "_model_module_version": "1.5.0",
            "value": " 3811/3811 [42:42&lt;00:00,  1.49it/s]",
            "_view_count": null,
            "_view_module_version": "1.5.0",
            "description_tooltip": null,
            "_model_module": "@jupyter-widgets/controls",
            "layout": "IPY_MODEL_ea26246f9eff4271bac61af7a7e00515"
          }
        },
        "389004a31c544cae8204020d5a34bd1f": {
          "model_module": "@jupyter-widgets/controls",
          "model_name": "ProgressStyleModel",
          "state": {
            "_view_name": "StyleView",
            "_model_name": "ProgressStyleModel",
            "description_width": "initial",
            "_view_module": "@jupyter-widgets/base",
            "_model_module_version": "1.5.0",
            "_view_count": null,
            "_view_module_version": "1.2.0",
            "bar_color": null,
            "_model_module": "@jupyter-widgets/controls"
          }
        },
        "35737ed1d85d4e5c96782a80d3636a7a": {
          "model_module": "@jupyter-widgets/base",
          "model_name": "LayoutModel",
          "state": {
            "_view_name": "LayoutView",
            "grid_template_rows": null,
            "right": null,
            "justify_content": null,
            "_view_module": "@jupyter-widgets/base",
            "overflow": null,
            "_model_module_version": "1.2.0",
            "_view_count": null,
            "flex_flow": null,
            "width": null,
            "min_width": null,
            "border": null,
            "align_items": null,
            "bottom": null,
            "_model_module": "@jupyter-widgets/base",
            "top": null,
            "grid_column": null,
            "overflow_y": null,
            "overflow_x": null,
            "grid_auto_flow": null,
            "grid_area": null,
            "grid_template_columns": null,
            "flex": null,
            "_model_name": "LayoutModel",
            "justify_items": null,
            "grid_row": null,
            "max_height": null,
            "align_content": null,
            "visibility": null,
            "align_self": null,
            "height": null,
            "min_height": null,
            "padding": null,
            "grid_auto_rows": null,
            "grid_gap": null,
            "max_width": null,
            "order": null,
            "_view_module_version": "1.2.0",
            "grid_template_areas": null,
            "object_position": null,
            "object_fit": null,
            "grid_auto_columns": null,
            "margin": null,
            "display": null,
            "left": null
          }
        },
        "fa782b4df0bb4cd0b83de0805d295607": {
          "model_module": "@jupyter-widgets/controls",
          "model_name": "DescriptionStyleModel",
          "state": {
            "_view_name": "StyleView",
            "_model_name": "DescriptionStyleModel",
            "description_width": "",
            "_view_module": "@jupyter-widgets/base",
            "_model_module_version": "1.5.0",
            "_view_count": null,
            "_view_module_version": "1.2.0",
            "_model_module": "@jupyter-widgets/controls"
          }
        },
        "ea26246f9eff4271bac61af7a7e00515": {
          "model_module": "@jupyter-widgets/base",
          "model_name": "LayoutModel",
          "state": {
            "_view_name": "LayoutView",
            "grid_template_rows": null,
            "right": null,
            "justify_content": null,
            "_view_module": "@jupyter-widgets/base",
            "overflow": null,
            "_model_module_version": "1.2.0",
            "_view_count": null,
            "flex_flow": null,
            "width": null,
            "min_width": null,
            "border": null,
            "align_items": null,
            "bottom": null,
            "_model_module": "@jupyter-widgets/base",
            "top": null,
            "grid_column": null,
            "overflow_y": null,
            "overflow_x": null,
            "grid_auto_flow": null,
            "grid_area": null,
            "grid_template_columns": null,
            "flex": null,
            "_model_name": "LayoutModel",
            "justify_items": null,
            "grid_row": null,
            "max_height": null,
            "align_content": null,
            "visibility": null,
            "align_self": null,
            "height": null,
            "min_height": null,
            "padding": null,
            "grid_auto_rows": null,
            "grid_gap": null,
            "max_width": null,
            "order": null,
            "_view_module_version": "1.2.0",
            "grid_template_areas": null,
            "object_position": null,
            "object_fit": null,
            "grid_auto_columns": null,
            "margin": null,
            "display": null,
            "left": null
          }
        },
        "6376c629768e48a0bcdc3483df271175": {
          "model_module": "@jupyter-widgets/controls",
          "model_name": "HBoxModel",
          "state": {
            "_view_name": "HBoxView",
            "_dom_classes": [],
            "_model_name": "HBoxModel",
            "_view_module": "@jupyter-widgets/controls",
            "_model_module_version": "1.5.0",
            "_view_count": null,
            "_view_module_version": "1.5.0",
            "box_style": "",
            "layout": "IPY_MODEL_268256f4653a4a38859eb31fe03f28e4",
            "_model_module": "@jupyter-widgets/controls",
            "children": [
              "IPY_MODEL_ad5883279c7b42c3b1b40fbbf098ebb5",
              "IPY_MODEL_2edccbad562140aa8b1d252b2370a213"
            ]
          }
        },
        "268256f4653a4a38859eb31fe03f28e4": {
          "model_module": "@jupyter-widgets/base",
          "model_name": "LayoutModel",
          "state": {
            "_view_name": "LayoutView",
            "grid_template_rows": null,
            "right": null,
            "justify_content": null,
            "_view_module": "@jupyter-widgets/base",
            "overflow": null,
            "_model_module_version": "1.2.0",
            "_view_count": null,
            "flex_flow": null,
            "width": null,
            "min_width": null,
            "border": null,
            "align_items": null,
            "bottom": null,
            "_model_module": "@jupyter-widgets/base",
            "top": null,
            "grid_column": null,
            "overflow_y": null,
            "overflow_x": null,
            "grid_auto_flow": null,
            "grid_area": null,
            "grid_template_columns": null,
            "flex": null,
            "_model_name": "LayoutModel",
            "justify_items": null,
            "grid_row": null,
            "max_height": null,
            "align_content": null,
            "visibility": null,
            "align_self": null,
            "height": null,
            "min_height": null,
            "padding": null,
            "grid_auto_rows": null,
            "grid_gap": null,
            "max_width": null,
            "order": null,
            "_view_module_version": "1.2.0",
            "grid_template_areas": null,
            "object_position": null,
            "object_fit": null,
            "grid_auto_columns": null,
            "margin": null,
            "display": null,
            "left": null
          }
        },
        "ad5883279c7b42c3b1b40fbbf098ebb5": {
          "model_module": "@jupyter-widgets/controls",
          "model_name": "FloatProgressModel",
          "state": {
            "_view_name": "ProgressView",
            "style": "IPY_MODEL_8727f703f7dc4ac89d3731856d1a625b",
            "_dom_classes": [],
            "description": "100%",
            "_model_name": "FloatProgressModel",
            "bar_style": "success",
            "max": 3785,
            "_view_module": "@jupyter-widgets/controls",
            "_model_module_version": "1.5.0",
            "value": 3785,
            "_view_count": null,
            "_view_module_version": "1.5.0",
            "orientation": "horizontal",
            "min": 0,
            "description_tooltip": null,
            "_model_module": "@jupyter-widgets/controls",
            "layout": "IPY_MODEL_00a3126480f24ce3a68df27944fe0c49"
          }
        },
        "2edccbad562140aa8b1d252b2370a213": {
          "model_module": "@jupyter-widgets/controls",
          "model_name": "HTMLModel",
          "state": {
            "_view_name": "HTMLView",
            "style": "IPY_MODEL_859d02a7b0564f54b7d9b4dc45c1b1ff",
            "_dom_classes": [],
            "description": "",
            "_model_name": "HTMLModel",
            "placeholder": "​",
            "_view_module": "@jupyter-widgets/controls",
            "_model_module_version": "1.5.0",
            "value": " 3785/3785 [29:26&lt;00:00,  2.14it/s]",
            "_view_count": null,
            "_view_module_version": "1.5.0",
            "description_tooltip": null,
            "_model_module": "@jupyter-widgets/controls",
            "layout": "IPY_MODEL_67026b5e801f4051b2d6ece0efb1350a"
          }
        },
        "8727f703f7dc4ac89d3731856d1a625b": {
          "model_module": "@jupyter-widgets/controls",
          "model_name": "ProgressStyleModel",
          "state": {
            "_view_name": "StyleView",
            "_model_name": "ProgressStyleModel",
            "description_width": "initial",
            "_view_module": "@jupyter-widgets/base",
            "_model_module_version": "1.5.0",
            "_view_count": null,
            "_view_module_version": "1.2.0",
            "bar_color": null,
            "_model_module": "@jupyter-widgets/controls"
          }
        },
        "00a3126480f24ce3a68df27944fe0c49": {
          "model_module": "@jupyter-widgets/base",
          "model_name": "LayoutModel",
          "state": {
            "_view_name": "LayoutView",
            "grid_template_rows": null,
            "right": null,
            "justify_content": null,
            "_view_module": "@jupyter-widgets/base",
            "overflow": null,
            "_model_module_version": "1.2.0",
            "_view_count": null,
            "flex_flow": null,
            "width": null,
            "min_width": null,
            "border": null,
            "align_items": null,
            "bottom": null,
            "_model_module": "@jupyter-widgets/base",
            "top": null,
            "grid_column": null,
            "overflow_y": null,
            "overflow_x": null,
            "grid_auto_flow": null,
            "grid_area": null,
            "grid_template_columns": null,
            "flex": null,
            "_model_name": "LayoutModel",
            "justify_items": null,
            "grid_row": null,
            "max_height": null,
            "align_content": null,
            "visibility": null,
            "align_self": null,
            "height": null,
            "min_height": null,
            "padding": null,
            "grid_auto_rows": null,
            "grid_gap": null,
            "max_width": null,
            "order": null,
            "_view_module_version": "1.2.0",
            "grid_template_areas": null,
            "object_position": null,
            "object_fit": null,
            "grid_auto_columns": null,
            "margin": null,
            "display": null,
            "left": null
          }
        },
        "859d02a7b0564f54b7d9b4dc45c1b1ff": {
          "model_module": "@jupyter-widgets/controls",
          "model_name": "DescriptionStyleModel",
          "state": {
            "_view_name": "StyleView",
            "_model_name": "DescriptionStyleModel",
            "description_width": "",
            "_view_module": "@jupyter-widgets/base",
            "_model_module_version": "1.5.0",
            "_view_count": null,
            "_view_module_version": "1.2.0",
            "_model_module": "@jupyter-widgets/controls"
          }
        },
        "67026b5e801f4051b2d6ece0efb1350a": {
          "model_module": "@jupyter-widgets/base",
          "model_name": "LayoutModel",
          "state": {
            "_view_name": "LayoutView",
            "grid_template_rows": null,
            "right": null,
            "justify_content": null,
            "_view_module": "@jupyter-widgets/base",
            "overflow": null,
            "_model_module_version": "1.2.0",
            "_view_count": null,
            "flex_flow": null,
            "width": null,
            "min_width": null,
            "border": null,
            "align_items": null,
            "bottom": null,
            "_model_module": "@jupyter-widgets/base",
            "top": null,
            "grid_column": null,
            "overflow_y": null,
            "overflow_x": null,
            "grid_auto_flow": null,
            "grid_area": null,
            "grid_template_columns": null,
            "flex": null,
            "_model_name": "LayoutModel",
            "justify_items": null,
            "grid_row": null,
            "max_height": null,
            "align_content": null,
            "visibility": null,
            "align_self": null,
            "height": null,
            "min_height": null,
            "padding": null,
            "grid_auto_rows": null,
            "grid_gap": null,
            "max_width": null,
            "order": null,
            "_view_module_version": "1.2.0",
            "grid_template_areas": null,
            "object_position": null,
            "object_fit": null,
            "grid_auto_columns": null,
            "margin": null,
            "display": null,
            "left": null
          }
        },
        "5e28906d0c6e4fdf8204796681b7b4cc": {
          "model_module": "@jupyter-widgets/controls",
          "model_name": "HBoxModel",
          "state": {
            "_view_name": "HBoxView",
            "_dom_classes": [],
            "_model_name": "HBoxModel",
            "_view_module": "@jupyter-widgets/controls",
            "_model_module_version": "1.5.0",
            "_view_count": null,
            "_view_module_version": "1.5.0",
            "box_style": "",
            "layout": "IPY_MODEL_6c98161c0713482f87ba4288e6835914",
            "_model_module": "@jupyter-widgets/controls",
            "children": [
              "IPY_MODEL_9f9f9dd2c2414b318b77b39b3cf3f3d6",
              "IPY_MODEL_bb68d7db56444b30b2c1980af488a276"
            ]
          }
        },
        "6c98161c0713482f87ba4288e6835914": {
          "model_module": "@jupyter-widgets/base",
          "model_name": "LayoutModel",
          "state": {
            "_view_name": "LayoutView",
            "grid_template_rows": null,
            "right": null,
            "justify_content": null,
            "_view_module": "@jupyter-widgets/base",
            "overflow": null,
            "_model_module_version": "1.2.0",
            "_view_count": null,
            "flex_flow": null,
            "width": null,
            "min_width": null,
            "border": null,
            "align_items": null,
            "bottom": null,
            "_model_module": "@jupyter-widgets/base",
            "top": null,
            "grid_column": null,
            "overflow_y": null,
            "overflow_x": null,
            "grid_auto_flow": null,
            "grid_area": null,
            "grid_template_columns": null,
            "flex": null,
            "_model_name": "LayoutModel",
            "justify_items": null,
            "grid_row": null,
            "max_height": null,
            "align_content": null,
            "visibility": null,
            "align_self": null,
            "height": null,
            "min_height": null,
            "padding": null,
            "grid_auto_rows": null,
            "grid_gap": null,
            "max_width": null,
            "order": null,
            "_view_module_version": "1.2.0",
            "grid_template_areas": null,
            "object_position": null,
            "object_fit": null,
            "grid_auto_columns": null,
            "margin": null,
            "display": null,
            "left": null
          }
        },
        "9f9f9dd2c2414b318b77b39b3cf3f3d6": {
          "model_module": "@jupyter-widgets/controls",
          "model_name": "FloatProgressModel",
          "state": {
            "_view_name": "ProgressView",
            "style": "IPY_MODEL_30e1262be1e9435590ea755b9b4344f5",
            "_dom_classes": [],
            "description": "100%",
            "_model_name": "FloatProgressModel",
            "bar_style": "success",
            "max": 3811,
            "_view_module": "@jupyter-widgets/controls",
            "_model_module_version": "1.5.0",
            "value": 3811,
            "_view_count": null,
            "_view_module_version": "1.5.0",
            "orientation": "horizontal",
            "min": 0,
            "description_tooltip": null,
            "_model_module": "@jupyter-widgets/controls",
            "layout": "IPY_MODEL_2ce3f5fb42a84764817951a3e7939452"
          }
        },
        "bb68d7db56444b30b2c1980af488a276": {
          "model_module": "@jupyter-widgets/controls",
          "model_name": "HTMLModel",
          "state": {
            "_view_name": "HTMLView",
            "style": "IPY_MODEL_221d332db07b40e8bf8275368b83dcc6",
            "_dom_classes": [],
            "description": "",
            "_model_name": "HTMLModel",
            "placeholder": "​",
            "_view_module": "@jupyter-widgets/controls",
            "_model_module_version": "1.5.0",
            "value": " 3811/3811 [22:59&lt;00:00,  2.76it/s]",
            "_view_count": null,
            "_view_module_version": "1.5.0",
            "description_tooltip": null,
            "_model_module": "@jupyter-widgets/controls",
            "layout": "IPY_MODEL_69de81e6be81405b85b3be1faff50756"
          }
        },
        "30e1262be1e9435590ea755b9b4344f5": {
          "model_module": "@jupyter-widgets/controls",
          "model_name": "ProgressStyleModel",
          "state": {
            "_view_name": "StyleView",
            "_model_name": "ProgressStyleModel",
            "description_width": "initial",
            "_view_module": "@jupyter-widgets/base",
            "_model_module_version": "1.5.0",
            "_view_count": null,
            "_view_module_version": "1.2.0",
            "bar_color": null,
            "_model_module": "@jupyter-widgets/controls"
          }
        },
        "2ce3f5fb42a84764817951a3e7939452": {
          "model_module": "@jupyter-widgets/base",
          "model_name": "LayoutModel",
          "state": {
            "_view_name": "LayoutView",
            "grid_template_rows": null,
            "right": null,
            "justify_content": null,
            "_view_module": "@jupyter-widgets/base",
            "overflow": null,
            "_model_module_version": "1.2.0",
            "_view_count": null,
            "flex_flow": null,
            "width": null,
            "min_width": null,
            "border": null,
            "align_items": null,
            "bottom": null,
            "_model_module": "@jupyter-widgets/base",
            "top": null,
            "grid_column": null,
            "overflow_y": null,
            "overflow_x": null,
            "grid_auto_flow": null,
            "grid_area": null,
            "grid_template_columns": null,
            "flex": null,
            "_model_name": "LayoutModel",
            "justify_items": null,
            "grid_row": null,
            "max_height": null,
            "align_content": null,
            "visibility": null,
            "align_self": null,
            "height": null,
            "min_height": null,
            "padding": null,
            "grid_auto_rows": null,
            "grid_gap": null,
            "max_width": null,
            "order": null,
            "_view_module_version": "1.2.0",
            "grid_template_areas": null,
            "object_position": null,
            "object_fit": null,
            "grid_auto_columns": null,
            "margin": null,
            "display": null,
            "left": null
          }
        },
        "221d332db07b40e8bf8275368b83dcc6": {
          "model_module": "@jupyter-widgets/controls",
          "model_name": "DescriptionStyleModel",
          "state": {
            "_view_name": "StyleView",
            "_model_name": "DescriptionStyleModel",
            "description_width": "",
            "_view_module": "@jupyter-widgets/base",
            "_model_module_version": "1.5.0",
            "_view_count": null,
            "_view_module_version": "1.2.0",
            "_model_module": "@jupyter-widgets/controls"
          }
        },
        "69de81e6be81405b85b3be1faff50756": {
          "model_module": "@jupyter-widgets/base",
          "model_name": "LayoutModel",
          "state": {
            "_view_name": "LayoutView",
            "grid_template_rows": null,
            "right": null,
            "justify_content": null,
            "_view_module": "@jupyter-widgets/base",
            "overflow": null,
            "_model_module_version": "1.2.0",
            "_view_count": null,
            "flex_flow": null,
            "width": null,
            "min_width": null,
            "border": null,
            "align_items": null,
            "bottom": null,
            "_model_module": "@jupyter-widgets/base",
            "top": null,
            "grid_column": null,
            "overflow_y": null,
            "overflow_x": null,
            "grid_auto_flow": null,
            "grid_area": null,
            "grid_template_columns": null,
            "flex": null,
            "_model_name": "LayoutModel",
            "justify_items": null,
            "grid_row": null,
            "max_height": null,
            "align_content": null,
            "visibility": null,
            "align_self": null,
            "height": null,
            "min_height": null,
            "padding": null,
            "grid_auto_rows": null,
            "grid_gap": null,
            "max_width": null,
            "order": null,
            "_view_module_version": "1.2.0",
            "grid_template_areas": null,
            "object_position": null,
            "object_fit": null,
            "grid_auto_columns": null,
            "margin": null,
            "display": null,
            "left": null
          }
        },
        "9d293dd1da224b7481b80ced1a00c93c": {
          "model_module": "@jupyter-widgets/controls",
          "model_name": "HBoxModel",
          "state": {
            "_view_name": "HBoxView",
            "_dom_classes": [],
            "_model_name": "HBoxModel",
            "_view_module": "@jupyter-widgets/controls",
            "_model_module_version": "1.5.0",
            "_view_count": null,
            "_view_module_version": "1.5.0",
            "box_style": "",
            "layout": "IPY_MODEL_ea8648175c96460db8e3b097ac01944a",
            "_model_module": "@jupyter-widgets/controls",
            "children": [
              "IPY_MODEL_becc96b9a30f494ba1495081aba68a4a",
              "IPY_MODEL_52fb0ee0884c4c76848d1a4f9d2f2b2a"
            ]
          }
        },
        "ea8648175c96460db8e3b097ac01944a": {
          "model_module": "@jupyter-widgets/base",
          "model_name": "LayoutModel",
          "state": {
            "_view_name": "LayoutView",
            "grid_template_rows": null,
            "right": null,
            "justify_content": null,
            "_view_module": "@jupyter-widgets/base",
            "overflow": null,
            "_model_module_version": "1.2.0",
            "_view_count": null,
            "flex_flow": null,
            "width": null,
            "min_width": null,
            "border": null,
            "align_items": null,
            "bottom": null,
            "_model_module": "@jupyter-widgets/base",
            "top": null,
            "grid_column": null,
            "overflow_y": null,
            "overflow_x": null,
            "grid_auto_flow": null,
            "grid_area": null,
            "grid_template_columns": null,
            "flex": null,
            "_model_name": "LayoutModel",
            "justify_items": null,
            "grid_row": null,
            "max_height": null,
            "align_content": null,
            "visibility": null,
            "align_self": null,
            "height": null,
            "min_height": null,
            "padding": null,
            "grid_auto_rows": null,
            "grid_gap": null,
            "max_width": null,
            "order": null,
            "_view_module_version": "1.2.0",
            "grid_template_areas": null,
            "object_position": null,
            "object_fit": null,
            "grid_auto_columns": null,
            "margin": null,
            "display": null,
            "left": null
          }
        },
        "becc96b9a30f494ba1495081aba68a4a": {
          "model_module": "@jupyter-widgets/controls",
          "model_name": "FloatProgressModel",
          "state": {
            "_view_name": "ProgressView",
            "style": "IPY_MODEL_5341752b9d5649c88254efd330d7f5d2",
            "_dom_classes": [],
            "description": "100%",
            "_model_name": "FloatProgressModel",
            "bar_style": "success",
            "max": 3785,
            "_view_module": "@jupyter-widgets/controls",
            "_model_module_version": "1.5.0",
            "value": 3785,
            "_view_count": null,
            "_view_module_version": "1.5.0",
            "orientation": "horizontal",
            "min": 0,
            "description_tooltip": null,
            "_model_module": "@jupyter-widgets/controls",
            "layout": "IPY_MODEL_8d8490105fec42819408a2483a6bb975"
          }
        },
        "52fb0ee0884c4c76848d1a4f9d2f2b2a": {
          "model_module": "@jupyter-widgets/controls",
          "model_name": "HTMLModel",
          "state": {
            "_view_name": "HTMLView",
            "style": "IPY_MODEL_78ea747413754e2a8d2ce69a84516307",
            "_dom_classes": [],
            "description": "",
            "_model_name": "HTMLModel",
            "placeholder": "​",
            "_view_module": "@jupyter-widgets/controls",
            "_model_module_version": "1.5.0",
            "value": " 3785/3785 [02:11&lt;00:00, 28.68it/s]",
            "_view_count": null,
            "_view_module_version": "1.5.0",
            "description_tooltip": null,
            "_model_module": "@jupyter-widgets/controls",
            "layout": "IPY_MODEL_0678e9dd88a543a7a7e4daedca0e8d07"
          }
        },
        "5341752b9d5649c88254efd330d7f5d2": {
          "model_module": "@jupyter-widgets/controls",
          "model_name": "ProgressStyleModel",
          "state": {
            "_view_name": "StyleView",
            "_model_name": "ProgressStyleModel",
            "description_width": "initial",
            "_view_module": "@jupyter-widgets/base",
            "_model_module_version": "1.5.0",
            "_view_count": null,
            "_view_module_version": "1.2.0",
            "bar_color": null,
            "_model_module": "@jupyter-widgets/controls"
          }
        },
        "8d8490105fec42819408a2483a6bb975": {
          "model_module": "@jupyter-widgets/base",
          "model_name": "LayoutModel",
          "state": {
            "_view_name": "LayoutView",
            "grid_template_rows": null,
            "right": null,
            "justify_content": null,
            "_view_module": "@jupyter-widgets/base",
            "overflow": null,
            "_model_module_version": "1.2.0",
            "_view_count": null,
            "flex_flow": null,
            "width": null,
            "min_width": null,
            "border": null,
            "align_items": null,
            "bottom": null,
            "_model_module": "@jupyter-widgets/base",
            "top": null,
            "grid_column": null,
            "overflow_y": null,
            "overflow_x": null,
            "grid_auto_flow": null,
            "grid_area": null,
            "grid_template_columns": null,
            "flex": null,
            "_model_name": "LayoutModel",
            "justify_items": null,
            "grid_row": null,
            "max_height": null,
            "align_content": null,
            "visibility": null,
            "align_self": null,
            "height": null,
            "min_height": null,
            "padding": null,
            "grid_auto_rows": null,
            "grid_gap": null,
            "max_width": null,
            "order": null,
            "_view_module_version": "1.2.0",
            "grid_template_areas": null,
            "object_position": null,
            "object_fit": null,
            "grid_auto_columns": null,
            "margin": null,
            "display": null,
            "left": null
          }
        },
        "78ea747413754e2a8d2ce69a84516307": {
          "model_module": "@jupyter-widgets/controls",
          "model_name": "DescriptionStyleModel",
          "state": {
            "_view_name": "StyleView",
            "_model_name": "DescriptionStyleModel",
            "description_width": "",
            "_view_module": "@jupyter-widgets/base",
            "_model_module_version": "1.5.0",
            "_view_count": null,
            "_view_module_version": "1.2.0",
            "_model_module": "@jupyter-widgets/controls"
          }
        },
        "0678e9dd88a543a7a7e4daedca0e8d07": {
          "model_module": "@jupyter-widgets/base",
          "model_name": "LayoutModel",
          "state": {
            "_view_name": "LayoutView",
            "grid_template_rows": null,
            "right": null,
            "justify_content": null,
            "_view_module": "@jupyter-widgets/base",
            "overflow": null,
            "_model_module_version": "1.2.0",
            "_view_count": null,
            "flex_flow": null,
            "width": null,
            "min_width": null,
            "border": null,
            "align_items": null,
            "bottom": null,
            "_model_module": "@jupyter-widgets/base",
            "top": null,
            "grid_column": null,
            "overflow_y": null,
            "overflow_x": null,
            "grid_auto_flow": null,
            "grid_area": null,
            "grid_template_columns": null,
            "flex": null,
            "_model_name": "LayoutModel",
            "justify_items": null,
            "grid_row": null,
            "max_height": null,
            "align_content": null,
            "visibility": null,
            "align_self": null,
            "height": null,
            "min_height": null,
            "padding": null,
            "grid_auto_rows": null,
            "grid_gap": null,
            "max_width": null,
            "order": null,
            "_view_module_version": "1.2.0",
            "grid_template_areas": null,
            "object_position": null,
            "object_fit": null,
            "grid_auto_columns": null,
            "margin": null,
            "display": null,
            "left": null
          }
        },
        "0221091f5f5b470faa3862527f6ddd1e": {
          "model_module": "@jupyter-widgets/controls",
          "model_name": "HBoxModel",
          "state": {
            "_view_name": "HBoxView",
            "_dom_classes": [],
            "_model_name": "HBoxModel",
            "_view_module": "@jupyter-widgets/controls",
            "_model_module_version": "1.5.0",
            "_view_count": null,
            "_view_module_version": "1.5.0",
            "box_style": "",
            "layout": "IPY_MODEL_f8aab5ab06d94fafab764c82efb86c11",
            "_model_module": "@jupyter-widgets/controls",
            "children": [
              "IPY_MODEL_713e45600f014720b8412b4744c9e9c7",
              "IPY_MODEL_89956d2a05e143d794e6ef6b92240014"
            ]
          }
        },
        "f8aab5ab06d94fafab764c82efb86c11": {
          "model_module": "@jupyter-widgets/base",
          "model_name": "LayoutModel",
          "state": {
            "_view_name": "LayoutView",
            "grid_template_rows": null,
            "right": null,
            "justify_content": null,
            "_view_module": "@jupyter-widgets/base",
            "overflow": null,
            "_model_module_version": "1.2.0",
            "_view_count": null,
            "flex_flow": null,
            "width": null,
            "min_width": null,
            "border": null,
            "align_items": null,
            "bottom": null,
            "_model_module": "@jupyter-widgets/base",
            "top": null,
            "grid_column": null,
            "overflow_y": null,
            "overflow_x": null,
            "grid_auto_flow": null,
            "grid_area": null,
            "grid_template_columns": null,
            "flex": null,
            "_model_name": "LayoutModel",
            "justify_items": null,
            "grid_row": null,
            "max_height": null,
            "align_content": null,
            "visibility": null,
            "align_self": null,
            "height": null,
            "min_height": null,
            "padding": null,
            "grid_auto_rows": null,
            "grid_gap": null,
            "max_width": null,
            "order": null,
            "_view_module_version": "1.2.0",
            "grid_template_areas": null,
            "object_position": null,
            "object_fit": null,
            "grid_auto_columns": null,
            "margin": null,
            "display": null,
            "left": null
          }
        },
        "713e45600f014720b8412b4744c9e9c7": {
          "model_module": "@jupyter-widgets/controls",
          "model_name": "FloatProgressModel",
          "state": {
            "_view_name": "ProgressView",
            "style": "IPY_MODEL_417bf2745bfd4cfdb71869da37841c20",
            "_dom_classes": [],
            "description": "100%",
            "_model_name": "FloatProgressModel",
            "bar_style": "success",
            "max": 3811,
            "_view_module": "@jupyter-widgets/controls",
            "_model_module_version": "1.5.0",
            "value": 3811,
            "_view_count": null,
            "_view_module_version": "1.5.0",
            "orientation": "horizontal",
            "min": 0,
            "description_tooltip": null,
            "_model_module": "@jupyter-widgets/controls",
            "layout": "IPY_MODEL_c7e873e6a6244322b6e5745f8c1e5c12"
          }
        },
        "89956d2a05e143d794e6ef6b92240014": {
          "model_module": "@jupyter-widgets/controls",
          "model_name": "HTMLModel",
          "state": {
            "_view_name": "HTMLView",
            "style": "IPY_MODEL_a2102e5034e540618c55a8722a6532e6",
            "_dom_classes": [],
            "description": "",
            "_model_name": "HTMLModel",
            "placeholder": "​",
            "_view_module": "@jupyter-widgets/controls",
            "_model_module_version": "1.5.0",
            "value": " 3811/3811 [02:15&lt;00:00, 28.14it/s]",
            "_view_count": null,
            "_view_module_version": "1.5.0",
            "description_tooltip": null,
            "_model_module": "@jupyter-widgets/controls",
            "layout": "IPY_MODEL_0b306ff5509249cc9be409bd62180653"
          }
        },
        "417bf2745bfd4cfdb71869da37841c20": {
          "model_module": "@jupyter-widgets/controls",
          "model_name": "ProgressStyleModel",
          "state": {
            "_view_name": "StyleView",
            "_model_name": "ProgressStyleModel",
            "description_width": "initial",
            "_view_module": "@jupyter-widgets/base",
            "_model_module_version": "1.5.0",
            "_view_count": null,
            "_view_module_version": "1.2.0",
            "bar_color": null,
            "_model_module": "@jupyter-widgets/controls"
          }
        },
        "c7e873e6a6244322b6e5745f8c1e5c12": {
          "model_module": "@jupyter-widgets/base",
          "model_name": "LayoutModel",
          "state": {
            "_view_name": "LayoutView",
            "grid_template_rows": null,
            "right": null,
            "justify_content": null,
            "_view_module": "@jupyter-widgets/base",
            "overflow": null,
            "_model_module_version": "1.2.0",
            "_view_count": null,
            "flex_flow": null,
            "width": null,
            "min_width": null,
            "border": null,
            "align_items": null,
            "bottom": null,
            "_model_module": "@jupyter-widgets/base",
            "top": null,
            "grid_column": null,
            "overflow_y": null,
            "overflow_x": null,
            "grid_auto_flow": null,
            "grid_area": null,
            "grid_template_columns": null,
            "flex": null,
            "_model_name": "LayoutModel",
            "justify_items": null,
            "grid_row": null,
            "max_height": null,
            "align_content": null,
            "visibility": null,
            "align_self": null,
            "height": null,
            "min_height": null,
            "padding": null,
            "grid_auto_rows": null,
            "grid_gap": null,
            "max_width": null,
            "order": null,
            "_view_module_version": "1.2.0",
            "grid_template_areas": null,
            "object_position": null,
            "object_fit": null,
            "grid_auto_columns": null,
            "margin": null,
            "display": null,
            "left": null
          }
        },
        "a2102e5034e540618c55a8722a6532e6": {
          "model_module": "@jupyter-widgets/controls",
          "model_name": "DescriptionStyleModel",
          "state": {
            "_view_name": "StyleView",
            "_model_name": "DescriptionStyleModel",
            "description_width": "",
            "_view_module": "@jupyter-widgets/base",
            "_model_module_version": "1.5.0",
            "_view_count": null,
            "_view_module_version": "1.2.0",
            "_model_module": "@jupyter-widgets/controls"
          }
        },
        "0b306ff5509249cc9be409bd62180653": {
          "model_module": "@jupyter-widgets/base",
          "model_name": "LayoutModel",
          "state": {
            "_view_name": "LayoutView",
            "grid_template_rows": null,
            "right": null,
            "justify_content": null,
            "_view_module": "@jupyter-widgets/base",
            "overflow": null,
            "_model_module_version": "1.2.0",
            "_view_count": null,
            "flex_flow": null,
            "width": null,
            "min_width": null,
            "border": null,
            "align_items": null,
            "bottom": null,
            "_model_module": "@jupyter-widgets/base",
            "top": null,
            "grid_column": null,
            "overflow_y": null,
            "overflow_x": null,
            "grid_auto_flow": null,
            "grid_area": null,
            "grid_template_columns": null,
            "flex": null,
            "_model_name": "LayoutModel",
            "justify_items": null,
            "grid_row": null,
            "max_height": null,
            "align_content": null,
            "visibility": null,
            "align_self": null,
            "height": null,
            "min_height": null,
            "padding": null,
            "grid_auto_rows": null,
            "grid_gap": null,
            "max_width": null,
            "order": null,
            "_view_module_version": "1.2.0",
            "grid_template_areas": null,
            "object_position": null,
            "object_fit": null,
            "grid_auto_columns": null,
            "margin": null,
            "display": null,
            "left": null
          }
        }
      }
    }
  },
  "cells": [
    {
      "cell_type": "markdown",
      "metadata": {
        "id": "MWqXLMle2uxw"
      },
      "source": [
        "# Import COCO dataset and REFER assets"
      ]
    },
    {
      "cell_type": "code",
      "metadata": {
        "id": "lva7ytgo2uxx",
        "colab": {
          "base_uri": "https://localhost:8080/"
        },
        "outputId": "635b5cf4-5cf2-41e0-cc79-bf6ceb98d8fd"
      },
      "source": [
        "from google.colab import drive\n",
        "drive.mount('/content/gdrive')\n",
        "\n",
        "import sys\n",
        "sys.path.append('/content/gdrive/MyDrive/coco')\n",
        "sys.path.append('/content/gdrive/MyDrive')\n",
        "\n",
        "from refer import REFER\n",
        "import numpy as np\n",
        "import skimage.io as sio\n",
        "import matplotlib.pyplot as plt\n",
        "import os\n",
        "from PIL import Image\n",
        "\n",
        "data_root = '/content/gdrive/MyDrive/coco'  # contains refclef, refcoco, refcoco+, refcocog and images\n",
        "dataset = 'refcoco' \n",
        "splitBy = 'unc'\n",
        "refer = REFER(data_root, dataset, splitBy)\n",
        "\n",
        "print ('dataset [%s_%s] contains: ' % (dataset, splitBy))\n",
        "print ('%s expressions for %s refs in %s images.' % (len(refer.Sents), len(refer.getRefIds()), len(refer.getImgIds())))\n",
        "\n",
        "# Creating sets of refs for train, eval, and testing.\n",
        "TRAIN_IDS = refer.getRefIds(split='train')\n",
        "EVAL_IDS = refer.getRefIds(split='val')\n",
        "TEST_IDS = refer.getRefIds(split='test')"
      ],
      "execution_count": null,
      "outputs": [
        {
          "output_type": "stream",
          "text": [
            "Drive already mounted at /content/gdrive; to attempt to forcibly remount, call drive.mount(\"/content/gdrive\", force_remount=True).\n",
            "loading dataset refcoco into memory...\n",
            "creating index...\n",
            "index created.\n",
            "DONE (t=13.38s)\n",
            "dataset [refcoco_unc] contains: \n",
            "142210 expressions for 50000 refs in 19994 images.\n"
          ],
          "name": "stdout"
        }
      ]
    },
    {
      "cell_type": "markdown",
      "metadata": {
        "id": "hG0KS2vS2uxy"
      },
      "source": [
        "# Import CLIP assets and model"
      ]
    },
    {
      "cell_type": "code",
      "metadata": {
        "id": "QF4BxfBf2uxz",
        "colab": {
          "base_uri": "https://localhost:8080/"
        },
        "outputId": "b96b7923-989b-4415-ea84-7f0d960874be"
      },
      "source": [
        "# For CLIP model\n",
        "!pip install sentence-transformers --quiet\n",
        "\n",
        "import sentence_transformers\n",
        "from sentence_transformers import SentenceTransformer, util\n",
        "import glob\n",
        "import torch\n",
        "import pickle\n",
        "import zipfile\n",
        "from IPython.display import display\n",
        "from IPython.display import Image as IPImage\n",
        "from collections import defaultdict\n",
        "import tqdm.notebook as tq\n",
        "from io import BytesIO\n",
        "#torch.set_num_threads(4)\n",
        "\n",
        "from torch import cuda\n",
        "device = 'cuda' if cuda.is_available() else 'cpu'\n",
        "print(device)\n",
        "\n",
        "# Load the respective CLIP model. Embeds both images and text into same vector space.\n",
        "CLIP_model = SentenceTransformer('clip-ViT-B-32').to(device)"
      ],
      "execution_count": null,
      "outputs": [
        {
          "output_type": "stream",
          "text": [
            "cuda\n"
          ],
          "name": "stdout"
        },
        {
          "output_type": "stream",
          "text": [
            "/usr/local/lib/python3.7/dist-packages/torchvision/transforms/transforms.py:258: UserWarning: Argument interpolation should be of type InterpolationMode instead of int. Please, use InterpolationMode enum.\n",
            "  \"Argument interpolation should be of type InterpolationMode instead of int. \"\n"
          ],
          "name": "stderr"
        }
      ]
    },
    {
      "cell_type": "markdown",
      "metadata": {
        "id": "wgsbosHE2ux0"
      },
      "source": [
        "# Compute and Gather Training Data\n"
      ]
    },
    {
      "cell_type": "markdown",
      "metadata": {
        "id": "ASNb7AZVlXa5"
      },
      "source": [
        "\n",
        "## 1. Compute CLIP embeddings of COCO images\n",
        "* Stored in a dictionary that has ImageId as key and list of features as the value."
      ]
    },
    {
      "cell_type": "code",
      "metadata": {
        "id": "nI-qnawhWg3C"
      },
      "source": [
        "def get_clip_embedding(raw_input):\n",
        "    # Computes embedding for both text AND images.\n",
        "    clip_emb = CLIP_model.encode(raw_input, convert_to_tensor=True)\n",
        "    return clip_emb\n",
        "\n",
        "def compute_img_embeddings(img_diction, ref_split):\n",
        "  \n",
        "  for ref_id in tq.tqdm(ref_split):\n",
        "    curr_ref = refer.Refs[ref_id]\n",
        "\n",
        "    img_id = curr_ref['image_id']\n",
        "    curr_img = refer.Imgs[img_id]\n",
        "    full_path = refer.IMAGE_DIR + '/' + curr_img['file_name']\n",
        "            \n",
        "    clip_emb = get_clip_embedding(Image.open(full_path))\n",
        "    img_diction[img_id].append(clip_emb)\n",
        "\n",
        "  return None"
      ],
      "execution_count": null,
      "outputs": []
    },
    {
      "cell_type": "code",
      "metadata": {
        "id": "rnqR_gnkuI-Q"
      },
      "source": [
        "# TRAIN IMG FEATURES ~ 4 hours\n",
        "\n",
        "# ImgId to list of features that have been computed\n",
        "#train_img_feats = defaultdict(list)\n",
        "\n",
        "#compute_img_embeddings(train_img_feats, TRAIN_IDS)\n",
        "# Save coco train image embeddings to file\n",
        "#with open('train_img_embeddings.pickle', 'wb') as handle:\n",
        " # pickle.dump(train_img_feats, handle)\n",
        "\n",
        "# Open\n",
        "#with open('/content/gdrive/MyDrive/train_img_embeddings.pickle', 'rb') as handle:\n",
        " # test = pickle.load(handle)"
      ],
      "execution_count": null,
      "outputs": []
    },
    {
      "cell_type": "code",
      "metadata": {
        "colab": {
          "base_uri": "https://localhost:8080/",
          "height": 66,
          "referenced_widgets": [
            "b999775b46f140a297e3b1e2e4580386",
            "2a3520b4cec441159bd5964e7258ec57",
            "919d7a820aee44a29717fa2fb3c75a8a",
            "5ef43d28ed994876a14f84068ae238d7",
            "23ee04e9c04842f195afc8c3aaae810a",
            "7983170b3f6c40d69bc3a7c53317b933",
            "9a5241f06b96415fac2458136981b432",
            "7159555057374c989047b24239323d9b"
          ]
        },
        "id": "JPf5nEtNxOyC",
        "outputId": "c6c1a581-4270-49b5-a217-90458097e031"
      },
      "source": [
        "# TEST IMG FEATURES\n",
        "\n",
        "test_img_feats = defaultdict(list)\n",
        "compute_img_embeddings(test_img_feats, TEST_IDS)\n",
        "\n",
        "# Save coco train image embeddings to file\n",
        "with open('/content/gdrive/MyDrive/embeddings/test_img_embeddings.pickle', 'wb') as handle:\n",
        "  pickle.dump(test_img_feats, handle)"
      ],
      "execution_count": null,
      "outputs": [
        {
          "output_type": "display_data",
          "data": {
            "application/vnd.jupyter.widget-view+json": {
              "model_id": "b999775b46f140a297e3b1e2e4580386",
              "version_minor": 0,
              "version_major": 2
            },
            "text/plain": [
              "HBox(children=(FloatProgress(value=0.0, max=3785.0), HTML(value='')))"
            ]
          },
          "metadata": {
            "tags": []
          }
        },
        {
          "output_type": "stream",
          "text": [
            "\n"
          ],
          "name": "stdout"
        }
      ]
    },
    {
      "cell_type": "code",
      "metadata": {
        "colab": {
          "base_uri": "https://localhost:8080/",
          "height": 66,
          "referenced_widgets": [
            "249d4cc0134f40b59dedbd6bf9b1961a",
            "d42e39b4880e438492bb03b26e6dff50",
            "b2c224af8f0244c68a3a16d800e42a82",
            "99c6b8b61a3b43f1a834d063a0f063ab",
            "389004a31c544cae8204020d5a34bd1f",
            "35737ed1d85d4e5c96782a80d3636a7a",
            "fa782b4df0bb4cd0b83de0805d295607",
            "ea26246f9eff4271bac61af7a7e00515"
          ]
        },
        "id": "vvFqo7Lt2eoc",
        "outputId": "89414438-8408-46a6-f0d9-456fdbac1439"
      },
      "source": [
        "# EVAL IMG FEATURES\n",
        "\n",
        "eval_img_feats = defaultdict(list)\n",
        "compute_img_embeddings(eval_img_feats, EVAL_IDS)\n",
        "\n",
        "# Save coco train image embeddings to file\n",
        "with open('/content/gdrive/MyDrive/embeddings/eval_img_embeddings.pickle', 'wb') as handle:\n",
        "  pickle.dump(eval_img_feats, handle)"
      ],
      "execution_count": null,
      "outputs": [
        {
          "output_type": "display_data",
          "data": {
            "application/vnd.jupyter.widget-view+json": {
              "model_id": "249d4cc0134f40b59dedbd6bf9b1961a",
              "version_minor": 0,
              "version_major": 2
            },
            "text/plain": [
              "HBox(children=(FloatProgress(value=0.0, max=3811.0), HTML(value='')))"
            ]
          },
          "metadata": {
            "tags": []
          }
        },
        {
          "output_type": "stream",
          "text": [
            "\n"
          ],
          "name": "stdout"
        }
      ]
    },
    {
      "cell_type": "markdown",
      "metadata": {
        "id": "Al3SsYE7w1HS"
      },
      "source": [
        "## 2. Compute CLIP embeddings of COCO annotations\n",
        "* Stored in a dictionary that has AnnId as key and list of features as the value."
      ]
    },
    {
      "cell_type": "code",
      "metadata": {
        "id": "oVcsQNEU7zjt"
      },
      "source": [
        "def get_annotation_embeddings(ann_embeddings, ref_split, show=False):\n",
        "  processed_img_ids = set()\n",
        "\n",
        "  for ref_id in tq.tqdm(ref_split):\n",
        "    try:\n",
        "      curr_ref = refer.Refs[ref_id]\n",
        "      img_id = curr_ref['image_id']\n",
        "\n",
        "      if img_id in processed_img_ids:\n",
        "        continue\n",
        "      else:\n",
        "        processed_img_ids.add(img_id)\n",
        "        \n",
        "      main_img = refer.Imgs[img_id]\n",
        "      main_img_data  = sio.imread(refer.IMAGE_DIR + '/' + main_img['file_name'])\n",
        "\n",
        "      if len(main_img_data.shape) < 3: continue\n",
        "\n",
        "      # Get all annotations for current image_id\n",
        "      img_anns = refer.imgToAnns[img_id]\n",
        "\n",
        "      # Get subimage for each annotation. \n",
        "      # DO ONLY ONCE, FOR EACHH ANNOTATION THOUGH!!\n",
        "      for curr_ann in img_anns:\n",
        "      \n",
        "        ann_id = curr_ann['id']\n",
        "        bb = refer.Anns[ann_id]['bbox']\n",
        "        bbox = [int(b) for b in bb]\n",
        "\n",
        "        # Pull sub-image out of main image\n",
        "        sub = main_img_data[bbox[1]:bbox[1]+bbox[3], bbox[0]:bbox[0]+bbox[2]]\n",
        "\n",
        "        if len(sub) == 0: continue \n",
        "\n",
        "        subimg = Image.fromarray(sub)\n",
        "\n",
        "        # Compute positional features\n",
        "        ih, iw, _ = main_img_data.shape\n",
        "        x,y,w,h = bb\n",
        "        # x1, relative\n",
        "        x1r = x / iw\n",
        "        # y1, relative\n",
        "        y1r = y / ih\n",
        "        # x2, relative\n",
        "        x2r = (x+w) / iw\n",
        "        # y2, relative\n",
        "        y2r = (y+h) / ih\n",
        "        # area\n",
        "        area = (w*h) / (iw*ih)\n",
        "        # ratio image sides (= orientation)\n",
        "        ratio = iw / ih\n",
        "        # distance from center (normalised)\n",
        "        cx = iw / 2\n",
        "        cy = ih / 2\n",
        "        bcx = x + w / 2\n",
        "        bcy = y + h / 2\n",
        "        distance = np.sqrt((bcx-cx)**2 + (bcy-cy)**2) / np.sqrt(cx**2+cy**2)\n",
        "        # Final array of pos-features\n",
        "        pos_feats = np.array([x1r,y1r,x2r,y2r,area,ratio,distance]).reshape(1,7)\n",
        "        # TODO: Reshape pos_feats into a flat numpy array\n",
        "        # convert subimg to jpg\n",
        "        rgb_im = subimg.convert(\"RGB\")\n",
        "\n",
        "        # Create temp. jpg file in order to get CLIP embedding.\n",
        "        with BytesIO() as f:\n",
        "          rgb_im.save(f, format='JPEG')\n",
        "          f.seek(0)\n",
        "          newjpg = Image.open(f)\n",
        "          subimg_embedding = get_clip_embedding(newjpg)\n",
        "\n",
        "          if show:\n",
        "            plt.figure()\n",
        "            ax = plt.gca()\n",
        "            ax.imshow(newjpg)\n",
        "            plt.show()\n",
        "\n",
        "        # Add features\n",
        "        ann_embeddings[ann_id].append(subimg_embedding)\n",
        "        ann_embeddings[ann_id].append(pos_feats)\n",
        "    except:\n",
        "        continue\n",
        "  return None"
      ],
      "execution_count": null,
      "outputs": []
    },
    {
      "cell_type": "code",
      "metadata": {
        "id": "7UWUsDhpq8W2"
      },
      "source": [
        "train_ann_embeddings = defaultdict(list)# 2:28 hrs, min\n",
        "get_annotation_embeddings(train_ann_embeddings, TRAIN_IDS)\n",
        "\n",
        "# Save coco train image embeddings to file\n",
        "with open('/content/gdrive/MyDrive/embeddings/train_ann_embeddingsII.pickle', 'wb') as handle:\n",
        "  pickle.dump(train_ann_embeddings, handle)"
      ],
      "execution_count": null,
      "outputs": []
    },
    {
      "cell_type": "code",
      "metadata": {
        "colab": {
          "base_uri": "https://localhost:8080/",
          "height": 66,
          "referenced_widgets": [
            "6376c629768e48a0bcdc3483df271175",
            "268256f4653a4a38859eb31fe03f28e4",
            "ad5883279c7b42c3b1b40fbbf098ebb5",
            "2edccbad562140aa8b1d252b2370a213",
            "8727f703f7dc4ac89d3731856d1a625b",
            "00a3126480f24ce3a68df27944fe0c49",
            "859d02a7b0564f54b7d9b4dc45c1b1ff",
            "67026b5e801f4051b2d6ece0efb1350a"
          ]
        },
        "id": "8HCBshHb4bUP",
        "outputId": "1febe03e-3160-451a-85f8-bc6a1b8940bc"
      },
      "source": [
        "# TEST ANN EMBEDDINGS\n",
        "test_ann_emb = defaultdict(list)\n",
        "get_annotation_embeddings(test_ann_emb, TEST_IDS)\n",
        "\n",
        "with open('/content/gdrive/MyDrive/embeddings/test_ann_embeddings.pickle', 'wb') as handle:\n",
        "  pickle.dump(test_ann_emb, handle)"
      ],
      "execution_count": null,
      "outputs": [
        {
          "output_type": "display_data",
          "data": {
            "application/vnd.jupyter.widget-view+json": {
              "model_id": "6376c629768e48a0bcdc3483df271175",
              "version_minor": 0,
              "version_major": 2
            },
            "text/plain": [
              "HBox(children=(FloatProgress(value=0.0, max=3785.0), HTML(value='')))"
            ]
          },
          "metadata": {
            "tags": []
          }
        },
        {
          "output_type": "stream",
          "text": [
            "\n"
          ],
          "name": "stdout"
        }
      ]
    },
    {
      "cell_type": "code",
      "metadata": {
        "colab": {
          "base_uri": "https://localhost:8080/",
          "height": 66,
          "referenced_widgets": [
            "5e28906d0c6e4fdf8204796681b7b4cc",
            "6c98161c0713482f87ba4288e6835914",
            "9f9f9dd2c2414b318b77b39b3cf3f3d6",
            "bb68d7db56444b30b2c1980af488a276",
            "30e1262be1e9435590ea755b9b4344f5",
            "2ce3f5fb42a84764817951a3e7939452",
            "221d332db07b40e8bf8275368b83dcc6",
            "69de81e6be81405b85b3be1faff50756"
          ]
        },
        "id": "Kd0WgaOP4beh",
        "outputId": "d28458e8-f326-4d1e-902b-f9ea7da4e33a"
      },
      "source": [
        "# EVAL ANN EMBEDDINGS\n",
        "eval_ann_emb = defaultdict(list)\n",
        "get_annotation_embeddings(eval_ann_emb, EVAL_IDS)\n",
        "\n",
        "with open('/content/gdrive/MyDrive/embeddings/eval_ann_embeddings.pickle', 'wb') as handle:\n",
        "  pickle.dump(eval_ann_emb, handle)"
      ],
      "execution_count": null,
      "outputs": [
        {
          "output_type": "display_data",
          "data": {
            "application/vnd.jupyter.widget-view+json": {
              "model_id": "5e28906d0c6e4fdf8204796681b7b4cc",
              "version_minor": 0,
              "version_major": 2
            },
            "text/plain": [
              "HBox(children=(FloatProgress(value=0.0, max=3811.0), HTML(value='')))"
            ]
          },
          "metadata": {
            "tags": []
          }
        },
        {
          "output_type": "stream",
          "text": [
            "\n"
          ],
          "name": "stdout"
        }
      ]
    },
    {
      "cell_type": "markdown",
      "metadata": {
        "id": "o6SWkI0-RUx-"
      },
      "source": [
        "## 3. Compute CLIP embeddings of COCO referring expressions\n",
        "* Stored in a dictionary that has AnnId as key and list of features as the value."
      ]
    },
    {
      "cell_type": "code",
      "metadata": {
        "id": "cqotp-xkmOSr"
      },
      "source": [
        "def compute_sentence_embeddings(sent_diction, ref_split):\n",
        "  \n",
        "  for ref_id in tq.tqdm(ref_split):\n",
        "    curr_ref = refer.Refs[ref_id]\n",
        "\n",
        "    # Gather embeddings for each sentence in ref\n",
        "    for sent in curr_ref['sentences']:\n",
        "      sent_emb = get_clip_embedding(sent['raw'])\n",
        "      sent_diction[sent['sent_id']].append(sent_emb)\n",
        "  return None"
      ],
      "execution_count": null,
      "outputs": []
    },
    {
      "cell_type": "code",
      "metadata": {
        "id": "aW_u9NiNlsAT",
        "colab": {
          "base_uri": "https://localhost:8080/",
          "height": 66,
          "referenced_widgets": [
            "9d293dd1da224b7481b80ced1a00c93c",
            "ea8648175c96460db8e3b097ac01944a",
            "becc96b9a30f494ba1495081aba68a4a",
            "52fb0ee0884c4c76848d1a4f9d2f2b2a",
            "5341752b9d5649c88254efd330d7f5d2",
            "8d8490105fec42819408a2483a6bb975",
            "78ea747413754e2a8d2ce69a84516307",
            "0678e9dd88a543a7a7e4daedca0e8d07"
          ]
        },
        "outputId": "4658b82f-dfc1-480f-bef3-b573be955862"
      },
      "source": [
        "# TEST SENT\n",
        "test_sent_embeddings = defaultdict(list)\n",
        "\n",
        "compute_sentence_embeddings(test_sent_embeddings, TEST_IDS)\n",
        "\n",
        "# Save coco train image embeddings to file\n",
        "with open('/content/gdrive/MyDrive/embeddings/test_sentence_embeddings.pickle', 'wb') as handle:\n",
        "  pickle.dump(test_sent_embeddings, handle)"
      ],
      "execution_count": null,
      "outputs": [
        {
          "output_type": "display_data",
          "data": {
            "application/vnd.jupyter.widget-view+json": {
              "model_id": "9d293dd1da224b7481b80ced1a00c93c",
              "version_minor": 0,
              "version_major": 2
            },
            "text/plain": [
              "HBox(children=(FloatProgress(value=0.0, max=3785.0), HTML(value='')))"
            ]
          },
          "metadata": {
            "tags": []
          }
        },
        {
          "output_type": "stream",
          "text": [
            "\n"
          ],
          "name": "stdout"
        }
      ]
    },
    {
      "cell_type": "code",
      "metadata": {
        "colab": {
          "base_uri": "https://localhost:8080/",
          "height": 66,
          "referenced_widgets": [
            "0221091f5f5b470faa3862527f6ddd1e",
            "f8aab5ab06d94fafab764c82efb86c11",
            "713e45600f014720b8412b4744c9e9c7",
            "89956d2a05e143d794e6ef6b92240014",
            "417bf2745bfd4cfdb71869da37841c20",
            "c7e873e6a6244322b6e5745f8c1e5c12",
            "a2102e5034e540618c55a8722a6532e6",
            "0b306ff5509249cc9be409bd62180653"
          ]
        },
        "id": "spi4zGrV3KdU",
        "outputId": "3ae280dc-3ca4-4fa0-977b-6ca0d1f6481c"
      },
      "source": [
        "# EVAL SENT\n",
        "eval_sent_emb = defaultdict(list)\n",
        "compute_sentence_embeddings(eval_sent_emb, EVAL_IDS)\n",
        "\n",
        "with open('/content/gdrive/MyDrive/embeddings/eval_sentence_embeddings.pickle', 'wb') as handle:\n",
        "  pickle.dump(eval_sent_emb, handle)"
      ],
      "execution_count": null,
      "outputs": [
        {
          "output_type": "display_data",
          "data": {
            "application/vnd.jupyter.widget-view+json": {
              "model_id": "0221091f5f5b470faa3862527f6ddd1e",
              "version_minor": 0,
              "version_major": 2
            },
            "text/plain": [
              "HBox(children=(FloatProgress(value=0.0, max=3811.0), HTML(value='')))"
            ]
          },
          "metadata": {
            "tags": []
          }
        },
        {
          "output_type": "stream",
          "text": [
            "\n"
          ],
          "name": "stdout"
        }
      ]
    },
    {
      "cell_type": "code",
      "metadata": {
        "colab": {
          "base_uri": "https://localhost:8080/"
        },
        "id": "CM-axNV0Hlx3",
        "outputId": "aecb0dce-4874-4efb-c721-8fffa94a393c"
      },
      "source": [
        "len(test_sent_embeddings)"
      ],
      "execution_count": null,
      "outputs": [
        {
          "output_type": "execute_result",
          "data": {
            "text/plain": [
              "10752"
            ]
          },
          "metadata": {
            "tags": []
          },
          "execution_count": 17
        }
      ]
    }
  ]
}