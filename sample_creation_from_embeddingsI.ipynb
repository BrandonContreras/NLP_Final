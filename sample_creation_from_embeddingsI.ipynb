{
  "nbformat": 4,
  "nbformat_minor": 0,
  "metadata": {
    "accelerator": "TPU",
    "colab": {
      "name": "sample_creation_from_embeddingsI.ipynb",
      "provenance": [],
      "collapsed_sections": [
        "Q38wHgE6bJvu",
        "va8pJfA_s49w",
        "BlpNzSQxrxGc",
        "1kyv-wRLFACv"
      ],
      "machine_shape": "hm"
    },
    "kernelspec": {
      "display_name": "Python 3",
      "name": "python3"
    },
    "language_info": {
      "name": "python"
    },
    "widgets": {
      "application/vnd.jupyter.widget-state+json": {
        "87406c3d0dbb4ec0822a269bff19f293": {
          "model_module": "@jupyter-widgets/controls",
          "model_name": "HBoxModel",
          "state": {
            "_dom_classes": [],
            "_model_module": "@jupyter-widgets/controls",
            "_model_module_version": "1.5.0",
            "_model_name": "HBoxModel",
            "_view_count": null,
            "_view_module": "@jupyter-widgets/controls",
            "_view_module_version": "1.5.0",
            "_view_name": "HBoxView",
            "box_style": "",
            "children": [
              "IPY_MODEL_5ba5c7f8ec434d019976757622b028e8",
              "IPY_MODEL_1b72d565a600477fbb8554127880882c"
            ],
            "layout": "IPY_MODEL_70786a18111d46af8b9297cb794e5a06"
          }
        },
        "5ba5c7f8ec434d019976757622b028e8": {
          "model_module": "@jupyter-widgets/controls",
          "model_name": "FloatProgressModel",
          "state": {
            "_dom_classes": [],
            "_model_module": "@jupyter-widgets/controls",
            "_model_module_version": "1.5.0",
            "_model_name": "FloatProgressModel",
            "_view_count": null,
            "_view_module": "@jupyter-widgets/controls",
            "_view_module_version": "1.5.0",
            "_view_name": "ProgressView",
            "bar_style": "success",
            "description": "100%",
            "description_tooltip": null,
            "layout": "IPY_MODEL_aa4d32bcd0f149048cbd9e2738f36b0b",
            "max": 42404,
            "min": 0,
            "orientation": "horizontal",
            "style": "IPY_MODEL_4bc0c3dce12843be9515d619b59b7006",
            "value": 42404
          }
        },
        "1b72d565a600477fbb8554127880882c": {
          "model_module": "@jupyter-widgets/controls",
          "model_name": "HTMLModel",
          "state": {
            "_dom_classes": [],
            "_model_module": "@jupyter-widgets/controls",
            "_model_module_version": "1.5.0",
            "_model_name": "HTMLModel",
            "_view_count": null,
            "_view_module": "@jupyter-widgets/controls",
            "_view_module_version": "1.5.0",
            "_view_name": "HTMLView",
            "description": "",
            "description_tooltip": null,
            "layout": "IPY_MODEL_8fd1ef16258d4ab4a64159cadac33a7b",
            "placeholder": "​",
            "style": "IPY_MODEL_d25be2e1d2134e728803f23113d5ccc4",
            "value": " 42404/42404 [15:44&lt;00:00, 44.91it/s]"
          }
        },
        "70786a18111d46af8b9297cb794e5a06": {
          "model_module": "@jupyter-widgets/base",
          "model_name": "LayoutModel",
          "state": {
            "_model_module": "@jupyter-widgets/base",
            "_model_module_version": "1.2.0",
            "_model_name": "LayoutModel",
            "_view_count": null,
            "_view_module": "@jupyter-widgets/base",
            "_view_module_version": "1.2.0",
            "_view_name": "LayoutView",
            "align_content": null,
            "align_items": null,
            "align_self": null,
            "border": null,
            "bottom": null,
            "display": null,
            "flex": null,
            "flex_flow": null,
            "grid_area": null,
            "grid_auto_columns": null,
            "grid_auto_flow": null,
            "grid_auto_rows": null,
            "grid_column": null,
            "grid_gap": null,
            "grid_row": null,
            "grid_template_areas": null,
            "grid_template_columns": null,
            "grid_template_rows": null,
            "height": null,
            "justify_content": null,
            "justify_items": null,
            "left": null,
            "margin": null,
            "max_height": null,
            "max_width": null,
            "min_height": null,
            "min_width": null,
            "object_fit": null,
            "object_position": null,
            "order": null,
            "overflow": null,
            "overflow_x": null,
            "overflow_y": null,
            "padding": null,
            "right": null,
            "top": null,
            "visibility": null,
            "width": null
          }
        },
        "aa4d32bcd0f149048cbd9e2738f36b0b": {
          "model_module": "@jupyter-widgets/base",
          "model_name": "LayoutModel",
          "state": {
            "_model_module": "@jupyter-widgets/base",
            "_model_module_version": "1.2.0",
            "_model_name": "LayoutModel",
            "_view_count": null,
            "_view_module": "@jupyter-widgets/base",
            "_view_module_version": "1.2.0",
            "_view_name": "LayoutView",
            "align_content": null,
            "align_items": null,
            "align_self": null,
            "border": null,
            "bottom": null,
            "display": null,
            "flex": null,
            "flex_flow": null,
            "grid_area": null,
            "grid_auto_columns": null,
            "grid_auto_flow": null,
            "grid_auto_rows": null,
            "grid_column": null,
            "grid_gap": null,
            "grid_row": null,
            "grid_template_areas": null,
            "grid_template_columns": null,
            "grid_template_rows": null,
            "height": null,
            "justify_content": null,
            "justify_items": null,
            "left": null,
            "margin": null,
            "max_height": null,
            "max_width": null,
            "min_height": null,
            "min_width": null,
            "object_fit": null,
            "object_position": null,
            "order": null,
            "overflow": null,
            "overflow_x": null,
            "overflow_y": null,
            "padding": null,
            "right": null,
            "top": null,
            "visibility": null,
            "width": null
          }
        },
        "4bc0c3dce12843be9515d619b59b7006": {
          "model_module": "@jupyter-widgets/controls",
          "model_name": "ProgressStyleModel",
          "state": {
            "_model_module": "@jupyter-widgets/controls",
            "_model_module_version": "1.5.0",
            "_model_name": "ProgressStyleModel",
            "_view_count": null,
            "_view_module": "@jupyter-widgets/base",
            "_view_module_version": "1.2.0",
            "_view_name": "StyleView",
            "bar_color": null,
            "description_width": "initial"
          }
        },
        "8fd1ef16258d4ab4a64159cadac33a7b": {
          "model_module": "@jupyter-widgets/base",
          "model_name": "LayoutModel",
          "state": {
            "_model_module": "@jupyter-widgets/base",
            "_model_module_version": "1.2.0",
            "_model_name": "LayoutModel",
            "_view_count": null,
            "_view_module": "@jupyter-widgets/base",
            "_view_module_version": "1.2.0",
            "_view_name": "LayoutView",
            "align_content": null,
            "align_items": null,
            "align_self": null,
            "border": null,
            "bottom": null,
            "display": null,
            "flex": null,
            "flex_flow": null,
            "grid_area": null,
            "grid_auto_columns": null,
            "grid_auto_flow": null,
            "grid_auto_rows": null,
            "grid_column": null,
            "grid_gap": null,
            "grid_row": null,
            "grid_template_areas": null,
            "grid_template_columns": null,
            "grid_template_rows": null,
            "height": null,
            "justify_content": null,
            "justify_items": null,
            "left": null,
            "margin": null,
            "max_height": null,
            "max_width": null,
            "min_height": null,
            "min_width": null,
            "object_fit": null,
            "object_position": null,
            "order": null,
            "overflow": null,
            "overflow_x": null,
            "overflow_y": null,
            "padding": null,
            "right": null,
            "top": null,
            "visibility": null,
            "width": null
          }
        },
        "d25be2e1d2134e728803f23113d5ccc4": {
          "model_module": "@jupyter-widgets/controls",
          "model_name": "DescriptionStyleModel",
          "state": {
            "_model_module": "@jupyter-widgets/controls",
            "_model_module_version": "1.5.0",
            "_model_name": "DescriptionStyleModel",
            "_view_count": null,
            "_view_module": "@jupyter-widgets/base",
            "_view_module_version": "1.2.0",
            "_view_name": "StyleView",
            "description_width": ""
          }
        },
        "70c8c063c9e6440594edc14d44f73716": {
          "model_module": "@jupyter-widgets/controls",
          "model_name": "HBoxModel",
          "state": {
            "_view_name": "HBoxView",
            "_dom_classes": [],
            "_model_name": "HBoxModel",
            "_view_module": "@jupyter-widgets/controls",
            "_model_module_version": "1.5.0",
            "_view_count": null,
            "_view_module_version": "1.5.0",
            "box_style": "",
            "layout": "IPY_MODEL_d33f136fb4c04cbaacd838008946eda9",
            "_model_module": "@jupyter-widgets/controls",
            "children": [
              "IPY_MODEL_8752a1a457a2444aba26ec8d450f61b6",
              "IPY_MODEL_1596799403be4abcb907ed961ef6e365"
            ]
          }
        },
        "d33f136fb4c04cbaacd838008946eda9": {
          "model_module": "@jupyter-widgets/base",
          "model_name": "LayoutModel",
          "state": {
            "_view_name": "LayoutView",
            "grid_template_rows": null,
            "right": null,
            "justify_content": null,
            "_view_module": "@jupyter-widgets/base",
            "overflow": null,
            "_model_module_version": "1.2.0",
            "_view_count": null,
            "flex_flow": null,
            "width": null,
            "min_width": null,
            "border": null,
            "align_items": null,
            "bottom": null,
            "_model_module": "@jupyter-widgets/base",
            "top": null,
            "grid_column": null,
            "overflow_y": null,
            "overflow_x": null,
            "grid_auto_flow": null,
            "grid_area": null,
            "grid_template_columns": null,
            "flex": null,
            "_model_name": "LayoutModel",
            "justify_items": null,
            "grid_row": null,
            "max_height": null,
            "align_content": null,
            "visibility": null,
            "align_self": null,
            "height": null,
            "min_height": null,
            "padding": null,
            "grid_auto_rows": null,
            "grid_gap": null,
            "max_width": null,
            "order": null,
            "_view_module_version": "1.2.0",
            "grid_template_areas": null,
            "object_position": null,
            "object_fit": null,
            "grid_auto_columns": null,
            "margin": null,
            "display": null,
            "left": null
          }
        },
        "8752a1a457a2444aba26ec8d450f61b6": {
          "model_module": "@jupyter-widgets/controls",
          "model_name": "FloatProgressModel",
          "state": {
            "_view_name": "ProgressView",
            "style": "IPY_MODEL_12be0943e7f34f21887aa1a1a14a80c7",
            "_dom_classes": [],
            "description": "100%",
            "_model_name": "FloatProgressModel",
            "bar_style": "success",
            "max": 21202,
            "_view_module": "@jupyter-widgets/controls",
            "_model_module_version": "1.5.0",
            "value": 21202,
            "_view_count": null,
            "_view_module_version": "1.5.0",
            "orientation": "horizontal",
            "min": 0,
            "description_tooltip": null,
            "_model_module": "@jupyter-widgets/controls",
            "layout": "IPY_MODEL_b3fc9bfcfb694c05b688ba3dab94d2f8"
          }
        },
        "1596799403be4abcb907ed961ef6e365": {
          "model_module": "@jupyter-widgets/controls",
          "model_name": "HTMLModel",
          "state": {
            "_view_name": "HTMLView",
            "style": "IPY_MODEL_42f1d9999d864635892a14e4406ffebd",
            "_dom_classes": [],
            "description": "",
            "_model_name": "HTMLModel",
            "placeholder": "​",
            "_view_module": "@jupyter-widgets/controls",
            "_model_module_version": "1.5.0",
            "value": " 21202/21202 [12:41&lt;00:00, 27.83it/s]",
            "_view_count": null,
            "_view_module_version": "1.5.0",
            "description_tooltip": null,
            "_model_module": "@jupyter-widgets/controls",
            "layout": "IPY_MODEL_5518e0bfbca2410183dfadc18b03b519"
          }
        },
        "12be0943e7f34f21887aa1a1a14a80c7": {
          "model_module": "@jupyter-widgets/controls",
          "model_name": "ProgressStyleModel",
          "state": {
            "_view_name": "StyleView",
            "_model_name": "ProgressStyleModel",
            "description_width": "initial",
            "_view_module": "@jupyter-widgets/base",
            "_model_module_version": "1.5.0",
            "_view_count": null,
            "_view_module_version": "1.2.0",
            "bar_color": null,
            "_model_module": "@jupyter-widgets/controls"
          }
        },
        "b3fc9bfcfb694c05b688ba3dab94d2f8": {
          "model_module": "@jupyter-widgets/base",
          "model_name": "LayoutModel",
          "state": {
            "_view_name": "LayoutView",
            "grid_template_rows": null,
            "right": null,
            "justify_content": null,
            "_view_module": "@jupyter-widgets/base",
            "overflow": null,
            "_model_module_version": "1.2.0",
            "_view_count": null,
            "flex_flow": null,
            "width": null,
            "min_width": null,
            "border": null,
            "align_items": null,
            "bottom": null,
            "_model_module": "@jupyter-widgets/base",
            "top": null,
            "grid_column": null,
            "overflow_y": null,
            "overflow_x": null,
            "grid_auto_flow": null,
            "grid_area": null,
            "grid_template_columns": null,
            "flex": null,
            "_model_name": "LayoutModel",
            "justify_items": null,
            "grid_row": null,
            "max_height": null,
            "align_content": null,
            "visibility": null,
            "align_self": null,
            "height": null,
            "min_height": null,
            "padding": null,
            "grid_auto_rows": null,
            "grid_gap": null,
            "max_width": null,
            "order": null,
            "_view_module_version": "1.2.0",
            "grid_template_areas": null,
            "object_position": null,
            "object_fit": null,
            "grid_auto_columns": null,
            "margin": null,
            "display": null,
            "left": null
          }
        },
        "42f1d9999d864635892a14e4406ffebd": {
          "model_module": "@jupyter-widgets/controls",
          "model_name": "DescriptionStyleModel",
          "state": {
            "_view_name": "StyleView",
            "_model_name": "DescriptionStyleModel",
            "description_width": "",
            "_view_module": "@jupyter-widgets/base",
            "_model_module_version": "1.5.0",
            "_view_count": null,
            "_view_module_version": "1.2.0",
            "_model_module": "@jupyter-widgets/controls"
          }
        },
        "5518e0bfbca2410183dfadc18b03b519": {
          "model_module": "@jupyter-widgets/base",
          "model_name": "LayoutModel",
          "state": {
            "_view_name": "LayoutView",
            "grid_template_rows": null,
            "right": null,
            "justify_content": null,
            "_view_module": "@jupyter-widgets/base",
            "overflow": null,
            "_model_module_version": "1.2.0",
            "_view_count": null,
            "flex_flow": null,
            "width": null,
            "min_width": null,
            "border": null,
            "align_items": null,
            "bottom": null,
            "_model_module": "@jupyter-widgets/base",
            "top": null,
            "grid_column": null,
            "overflow_y": null,
            "overflow_x": null,
            "grid_auto_flow": null,
            "grid_area": null,
            "grid_template_columns": null,
            "flex": null,
            "_model_name": "LayoutModel",
            "justify_items": null,
            "grid_row": null,
            "max_height": null,
            "align_content": null,
            "visibility": null,
            "align_self": null,
            "height": null,
            "min_height": null,
            "padding": null,
            "grid_auto_rows": null,
            "grid_gap": null,
            "max_width": null,
            "order": null,
            "_view_module_version": "1.2.0",
            "grid_template_areas": null,
            "object_position": null,
            "object_fit": null,
            "grid_auto_columns": null,
            "margin": null,
            "display": null,
            "left": null
          }
        },
        "56da35508c4b46b8a9e030013009fe86": {
          "model_module": "@jupyter-widgets/controls",
          "model_name": "HBoxModel",
          "state": {
            "_view_name": "HBoxView",
            "_dom_classes": [],
            "_model_name": "HBoxModel",
            "_view_module": "@jupyter-widgets/controls",
            "_model_module_version": "1.5.0",
            "_view_count": null,
            "_view_module_version": "1.5.0",
            "box_style": "",
            "layout": "IPY_MODEL_f94fc789c900489ca8e737c97b2d2ab9",
            "_model_module": "@jupyter-widgets/controls",
            "children": [
              "IPY_MODEL_1bdfb7eb98b4432db2a12bb2fc2ff177",
              "IPY_MODEL_ce175c9fd7034a0387f35e93de41fdb1"
            ]
          }
        },
        "f94fc789c900489ca8e737c97b2d2ab9": {
          "model_module": "@jupyter-widgets/base",
          "model_name": "LayoutModel",
          "state": {
            "_view_name": "LayoutView",
            "grid_template_rows": null,
            "right": null,
            "justify_content": null,
            "_view_module": "@jupyter-widgets/base",
            "overflow": null,
            "_model_module_version": "1.2.0",
            "_view_count": null,
            "flex_flow": null,
            "width": null,
            "min_width": null,
            "border": null,
            "align_items": null,
            "bottom": null,
            "_model_module": "@jupyter-widgets/base",
            "top": null,
            "grid_column": null,
            "overflow_y": null,
            "overflow_x": null,
            "grid_auto_flow": null,
            "grid_area": null,
            "grid_template_columns": null,
            "flex": null,
            "_model_name": "LayoutModel",
            "justify_items": null,
            "grid_row": null,
            "max_height": null,
            "align_content": null,
            "visibility": null,
            "align_self": null,
            "height": null,
            "min_height": null,
            "padding": null,
            "grid_auto_rows": null,
            "grid_gap": null,
            "max_width": null,
            "order": null,
            "_view_module_version": "1.2.0",
            "grid_template_areas": null,
            "object_position": null,
            "object_fit": null,
            "grid_auto_columns": null,
            "margin": null,
            "display": null,
            "left": null
          }
        },
        "1bdfb7eb98b4432db2a12bb2fc2ff177": {
          "model_module": "@jupyter-widgets/controls",
          "model_name": "FloatProgressModel",
          "state": {
            "_view_name": "ProgressView",
            "style": "IPY_MODEL_826a788990644bbfa59aa26d1272272a",
            "_dom_classes": [],
            "description": "100%",
            "_model_name": "FloatProgressModel",
            "bar_style": "success",
            "max": 21202,
            "_view_module": "@jupyter-widgets/controls",
            "_model_module_version": "1.5.0",
            "value": 21202,
            "_view_count": null,
            "_view_module_version": "1.5.0",
            "orientation": "horizontal",
            "min": 0,
            "description_tooltip": null,
            "_model_module": "@jupyter-widgets/controls",
            "layout": "IPY_MODEL_6d462daba97b43ebbbba808e6095df4a"
          }
        },
        "ce175c9fd7034a0387f35e93de41fdb1": {
          "model_module": "@jupyter-widgets/controls",
          "model_name": "HTMLModel",
          "state": {
            "_view_name": "HTMLView",
            "style": "IPY_MODEL_53b4ee5a23894958a178e9bf5892324f",
            "_dom_classes": [],
            "description": "",
            "_model_name": "HTMLModel",
            "placeholder": "​",
            "_view_module": "@jupyter-widgets/controls",
            "_model_module_version": "1.5.0",
            "value": " 21202/21202 [07:36&lt;00:00, 46.42it/s]",
            "_view_count": null,
            "_view_module_version": "1.5.0",
            "description_tooltip": null,
            "_model_module": "@jupyter-widgets/controls",
            "layout": "IPY_MODEL_1bd57a5725db4f0cb3f6dae576aded3a"
          }
        },
        "826a788990644bbfa59aa26d1272272a": {
          "model_module": "@jupyter-widgets/controls",
          "model_name": "ProgressStyleModel",
          "state": {
            "_view_name": "StyleView",
            "_model_name": "ProgressStyleModel",
            "description_width": "initial",
            "_view_module": "@jupyter-widgets/base",
            "_model_module_version": "1.5.0",
            "_view_count": null,
            "_view_module_version": "1.2.0",
            "bar_color": null,
            "_model_module": "@jupyter-widgets/controls"
          }
        },
        "6d462daba97b43ebbbba808e6095df4a": {
          "model_module": "@jupyter-widgets/base",
          "model_name": "LayoutModel",
          "state": {
            "_view_name": "LayoutView",
            "grid_template_rows": null,
            "right": null,
            "justify_content": null,
            "_view_module": "@jupyter-widgets/base",
            "overflow": null,
            "_model_module_version": "1.2.0",
            "_view_count": null,
            "flex_flow": null,
            "width": null,
            "min_width": null,
            "border": null,
            "align_items": null,
            "bottom": null,
            "_model_module": "@jupyter-widgets/base",
            "top": null,
            "grid_column": null,
            "overflow_y": null,
            "overflow_x": null,
            "grid_auto_flow": null,
            "grid_area": null,
            "grid_template_columns": null,
            "flex": null,
            "_model_name": "LayoutModel",
            "justify_items": null,
            "grid_row": null,
            "max_height": null,
            "align_content": null,
            "visibility": null,
            "align_self": null,
            "height": null,
            "min_height": null,
            "padding": null,
            "grid_auto_rows": null,
            "grid_gap": null,
            "max_width": null,
            "order": null,
            "_view_module_version": "1.2.0",
            "grid_template_areas": null,
            "object_position": null,
            "object_fit": null,
            "grid_auto_columns": null,
            "margin": null,
            "display": null,
            "left": null
          }
        },
        "53b4ee5a23894958a178e9bf5892324f": {
          "model_module": "@jupyter-widgets/controls",
          "model_name": "DescriptionStyleModel",
          "state": {
            "_view_name": "StyleView",
            "_model_name": "DescriptionStyleModel",
            "description_width": "",
            "_view_module": "@jupyter-widgets/base",
            "_model_module_version": "1.5.0",
            "_view_count": null,
            "_view_module_version": "1.2.0",
            "_model_module": "@jupyter-widgets/controls"
          }
        },
        "1bd57a5725db4f0cb3f6dae576aded3a": {
          "model_module": "@jupyter-widgets/base",
          "model_name": "LayoutModel",
          "state": {
            "_view_name": "LayoutView",
            "grid_template_rows": null,
            "right": null,
            "justify_content": null,
            "_view_module": "@jupyter-widgets/base",
            "overflow": null,
            "_model_module_version": "1.2.0",
            "_view_count": null,
            "flex_flow": null,
            "width": null,
            "min_width": null,
            "border": null,
            "align_items": null,
            "bottom": null,
            "_model_module": "@jupyter-widgets/base",
            "top": null,
            "grid_column": null,
            "overflow_y": null,
            "overflow_x": null,
            "grid_auto_flow": null,
            "grid_area": null,
            "grid_template_columns": null,
            "flex": null,
            "_model_name": "LayoutModel",
            "justify_items": null,
            "grid_row": null,
            "max_height": null,
            "align_content": null,
            "visibility": null,
            "align_self": null,
            "height": null,
            "min_height": null,
            "padding": null,
            "grid_auto_rows": null,
            "grid_gap": null,
            "max_width": null,
            "order": null,
            "_view_module_version": "1.2.0",
            "grid_template_areas": null,
            "object_position": null,
            "object_fit": null,
            "grid_auto_columns": null,
            "margin": null,
            "display": null,
            "left": null
          }
        },
        "625ad38a81a64570bd82c0f325bb1ecc": {
          "model_module": "@jupyter-widgets/controls",
          "model_name": "HBoxModel",
          "state": {
            "_view_name": "HBoxView",
            "_dom_classes": [],
            "_model_name": "HBoxModel",
            "_view_module": "@jupyter-widgets/controls",
            "_model_module_version": "1.5.0",
            "_view_count": null,
            "_view_module_version": "1.5.0",
            "box_style": "",
            "layout": "IPY_MODEL_fb1f4852e688465aad609ae133ff6f6d",
            "_model_module": "@jupyter-widgets/controls",
            "children": [
              "IPY_MODEL_f632f822e71e40dc85dc2930c6e82e89",
              "IPY_MODEL_418cccdb99e7449f8cdfe82800c6cb26"
            ]
          }
        },
        "fb1f4852e688465aad609ae133ff6f6d": {
          "model_module": "@jupyter-widgets/base",
          "model_name": "LayoutModel",
          "state": {
            "_view_name": "LayoutView",
            "grid_template_rows": null,
            "right": null,
            "justify_content": null,
            "_view_module": "@jupyter-widgets/base",
            "overflow": null,
            "_model_module_version": "1.2.0",
            "_view_count": null,
            "flex_flow": null,
            "width": null,
            "min_width": null,
            "border": null,
            "align_items": null,
            "bottom": null,
            "_model_module": "@jupyter-widgets/base",
            "top": null,
            "grid_column": null,
            "overflow_y": null,
            "overflow_x": null,
            "grid_auto_flow": null,
            "grid_area": null,
            "grid_template_columns": null,
            "flex": null,
            "_model_name": "LayoutModel",
            "justify_items": null,
            "grid_row": null,
            "max_height": null,
            "align_content": null,
            "visibility": null,
            "align_self": null,
            "height": null,
            "min_height": null,
            "padding": null,
            "grid_auto_rows": null,
            "grid_gap": null,
            "max_width": null,
            "order": null,
            "_view_module_version": "1.2.0",
            "grid_template_areas": null,
            "object_position": null,
            "object_fit": null,
            "grid_auto_columns": null,
            "margin": null,
            "display": null,
            "left": null
          }
        },
        "f632f822e71e40dc85dc2930c6e82e89": {
          "model_module": "@jupyter-widgets/controls",
          "model_name": "FloatProgressModel",
          "state": {
            "_view_name": "ProgressView",
            "style": "IPY_MODEL_f5749484502042b887b18ec2a5bc07eb",
            "_dom_classes": [],
            "description": "100%",
            "_model_name": "FloatProgressModel",
            "bar_style": "success",
            "max": 42404,
            "_view_module": "@jupyter-widgets/controls",
            "_model_module_version": "1.5.0",
            "value": 42404,
            "_view_count": null,
            "_view_module_version": "1.5.0",
            "orientation": "horizontal",
            "min": 0,
            "description_tooltip": null,
            "_model_module": "@jupyter-widgets/controls",
            "layout": "IPY_MODEL_0cf2f463aa31474e8398bebdbbe89af0"
          }
        },
        "418cccdb99e7449f8cdfe82800c6cb26": {
          "model_module": "@jupyter-widgets/controls",
          "model_name": "HTMLModel",
          "state": {
            "_view_name": "HTMLView",
            "style": "IPY_MODEL_04fac581bd354f7da9a4e87ff6f9a564",
            "_dom_classes": [],
            "description": "",
            "_model_name": "HTMLModel",
            "placeholder": "​",
            "_view_module": "@jupyter-widgets/controls",
            "_model_module_version": "1.5.0",
            "value": " 42404/42404 [52:47&lt;00:00, 13.39it/s]",
            "_view_count": null,
            "_view_module_version": "1.5.0",
            "description_tooltip": null,
            "_model_module": "@jupyter-widgets/controls",
            "layout": "IPY_MODEL_c070b4cf4960481b8c03f98a346628cf"
          }
        },
        "f5749484502042b887b18ec2a5bc07eb": {
          "model_module": "@jupyter-widgets/controls",
          "model_name": "ProgressStyleModel",
          "state": {
            "_view_name": "StyleView",
            "_model_name": "ProgressStyleModel",
            "description_width": "initial",
            "_view_module": "@jupyter-widgets/base",
            "_model_module_version": "1.5.0",
            "_view_count": null,
            "_view_module_version": "1.2.0",
            "bar_color": null,
            "_model_module": "@jupyter-widgets/controls"
          }
        },
        "0cf2f463aa31474e8398bebdbbe89af0": {
          "model_module": "@jupyter-widgets/base",
          "model_name": "LayoutModel",
          "state": {
            "_view_name": "LayoutView",
            "grid_template_rows": null,
            "right": null,
            "justify_content": null,
            "_view_module": "@jupyter-widgets/base",
            "overflow": null,
            "_model_module_version": "1.2.0",
            "_view_count": null,
            "flex_flow": null,
            "width": null,
            "min_width": null,
            "border": null,
            "align_items": null,
            "bottom": null,
            "_model_module": "@jupyter-widgets/base",
            "top": null,
            "grid_column": null,
            "overflow_y": null,
            "overflow_x": null,
            "grid_auto_flow": null,
            "grid_area": null,
            "grid_template_columns": null,
            "flex": null,
            "_model_name": "LayoutModel",
            "justify_items": null,
            "grid_row": null,
            "max_height": null,
            "align_content": null,
            "visibility": null,
            "align_self": null,
            "height": null,
            "min_height": null,
            "padding": null,
            "grid_auto_rows": null,
            "grid_gap": null,
            "max_width": null,
            "order": null,
            "_view_module_version": "1.2.0",
            "grid_template_areas": null,
            "object_position": null,
            "object_fit": null,
            "grid_auto_columns": null,
            "margin": null,
            "display": null,
            "left": null
          }
        },
        "04fac581bd354f7da9a4e87ff6f9a564": {
          "model_module": "@jupyter-widgets/controls",
          "model_name": "DescriptionStyleModel",
          "state": {
            "_view_name": "StyleView",
            "_model_name": "DescriptionStyleModel",
            "description_width": "",
            "_view_module": "@jupyter-widgets/base",
            "_model_module_version": "1.5.0",
            "_view_count": null,
            "_view_module_version": "1.2.0",
            "_model_module": "@jupyter-widgets/controls"
          }
        },
        "c070b4cf4960481b8c03f98a346628cf": {
          "model_module": "@jupyter-widgets/base",
          "model_name": "LayoutModel",
          "state": {
            "_view_name": "LayoutView",
            "grid_template_rows": null,
            "right": null,
            "justify_content": null,
            "_view_module": "@jupyter-widgets/base",
            "overflow": null,
            "_model_module_version": "1.2.0",
            "_view_count": null,
            "flex_flow": null,
            "width": null,
            "min_width": null,
            "border": null,
            "align_items": null,
            "bottom": null,
            "_model_module": "@jupyter-widgets/base",
            "top": null,
            "grid_column": null,
            "overflow_y": null,
            "overflow_x": null,
            "grid_auto_flow": null,
            "grid_area": null,
            "grid_template_columns": null,
            "flex": null,
            "_model_name": "LayoutModel",
            "justify_items": null,
            "grid_row": null,
            "max_height": null,
            "align_content": null,
            "visibility": null,
            "align_self": null,
            "height": null,
            "min_height": null,
            "padding": null,
            "grid_auto_rows": null,
            "grid_gap": null,
            "max_width": null,
            "order": null,
            "_view_module_version": "1.2.0",
            "grid_template_areas": null,
            "object_position": null,
            "object_fit": null,
            "grid_auto_columns": null,
            "margin": null,
            "display": null,
            "left": null
          }
        },
        "3a4868cbde7b4e1db438e9d010b37beb": {
          "model_module": "@jupyter-widgets/controls",
          "model_name": "HBoxModel",
          "state": {
            "_dom_classes": [],
            "_model_module": "@jupyter-widgets/controls",
            "_model_module_version": "1.5.0",
            "_model_name": "HBoxModel",
            "_view_count": null,
            "_view_module": "@jupyter-widgets/controls",
            "_view_module_version": "1.5.0",
            "_view_name": "HBoxView",
            "box_style": "",
            "children": [
              "IPY_MODEL_c1f9db88e64e4cc0a480a5bbd86dea1f",
              "IPY_MODEL_f42f245767f849a0b8c19ab8f5b7be61"
            ],
            "layout": "IPY_MODEL_45b16f77cf584b3dbb7b7d9da7fb44ce"
          }
        },
        "c1f9db88e64e4cc0a480a5bbd86dea1f": {
          "model_module": "@jupyter-widgets/controls",
          "model_name": "FloatProgressModel",
          "state": {
            "_dom_classes": [],
            "_model_module": "@jupyter-widgets/controls",
            "_model_module_version": "1.5.0",
            "_model_name": "FloatProgressModel",
            "_view_count": null,
            "_view_module": "@jupyter-widgets/controls",
            "_view_module_version": "1.5.0",
            "_view_name": "ProgressView",
            "bar_style": "success",
            "description": "100%",
            "description_tooltip": null,
            "layout": "IPY_MODEL_738aa35ccc1241ce85b885eacc80afb2",
            "max": 327977311,
            "min": 0,
            "orientation": "horizontal",
            "style": "IPY_MODEL_49a3ff9dc10a4109b4c1738e0086c1d1",
            "value": 327977311
          }
        },
        "f42f245767f849a0b8c19ab8f5b7be61": {
          "model_module": "@jupyter-widgets/controls",
          "model_name": "HTMLModel",
          "state": {
            "_dom_classes": [],
            "_model_module": "@jupyter-widgets/controls",
            "_model_module_version": "1.5.0",
            "_model_name": "HTMLModel",
            "_view_count": null,
            "_view_module": "@jupyter-widgets/controls",
            "_view_module_version": "1.5.0",
            "_view_name": "HTMLView",
            "description": "",
            "description_tooltip": null,
            "layout": "IPY_MODEL_ca7eda1147e045c29166a5fd0538d434",
            "placeholder": "​",
            "style": "IPY_MODEL_5760a56f7d6848259467ff7fe7108467",
            "value": " 328M/328M [00:26&lt;00:00, 12.5MB/s]"
          }
        },
        "45b16f77cf584b3dbb7b7d9da7fb44ce": {
          "model_module": "@jupyter-widgets/base",
          "model_name": "LayoutModel",
          "state": {
            "_model_module": "@jupyter-widgets/base",
            "_model_module_version": "1.2.0",
            "_model_name": "LayoutModel",
            "_view_count": null,
            "_view_module": "@jupyter-widgets/base",
            "_view_module_version": "1.2.0",
            "_view_name": "LayoutView",
            "align_content": null,
            "align_items": null,
            "align_self": null,
            "border": null,
            "bottom": null,
            "display": null,
            "flex": null,
            "flex_flow": null,
            "grid_area": null,
            "grid_auto_columns": null,
            "grid_auto_flow": null,
            "grid_auto_rows": null,
            "grid_column": null,
            "grid_gap": null,
            "grid_row": null,
            "grid_template_areas": null,
            "grid_template_columns": null,
            "grid_template_rows": null,
            "height": null,
            "justify_content": null,
            "justify_items": null,
            "left": null,
            "margin": null,
            "max_height": null,
            "max_width": null,
            "min_height": null,
            "min_width": null,
            "object_fit": null,
            "object_position": null,
            "order": null,
            "overflow": null,
            "overflow_x": null,
            "overflow_y": null,
            "padding": null,
            "right": null,
            "top": null,
            "visibility": null,
            "width": null
          }
        },
        "738aa35ccc1241ce85b885eacc80afb2": {
          "model_module": "@jupyter-widgets/base",
          "model_name": "LayoutModel",
          "state": {
            "_model_module": "@jupyter-widgets/base",
            "_model_module_version": "1.2.0",
            "_model_name": "LayoutModel",
            "_view_count": null,
            "_view_module": "@jupyter-widgets/base",
            "_view_module_version": "1.2.0",
            "_view_name": "LayoutView",
            "align_content": null,
            "align_items": null,
            "align_self": null,
            "border": null,
            "bottom": null,
            "display": null,
            "flex": null,
            "flex_flow": null,
            "grid_area": null,
            "grid_auto_columns": null,
            "grid_auto_flow": null,
            "grid_auto_rows": null,
            "grid_column": null,
            "grid_gap": null,
            "grid_row": null,
            "grid_template_areas": null,
            "grid_template_columns": null,
            "grid_template_rows": null,
            "height": null,
            "justify_content": null,
            "justify_items": null,
            "left": null,
            "margin": null,
            "max_height": null,
            "max_width": null,
            "min_height": null,
            "min_width": null,
            "object_fit": null,
            "object_position": null,
            "order": null,
            "overflow": null,
            "overflow_x": null,
            "overflow_y": null,
            "padding": null,
            "right": null,
            "top": null,
            "visibility": null,
            "width": null
          }
        },
        "49a3ff9dc10a4109b4c1738e0086c1d1": {
          "model_module": "@jupyter-widgets/controls",
          "model_name": "ProgressStyleModel",
          "state": {
            "_model_module": "@jupyter-widgets/controls",
            "_model_module_version": "1.5.0",
            "_model_name": "ProgressStyleModel",
            "_view_count": null,
            "_view_module": "@jupyter-widgets/base",
            "_view_module_version": "1.2.0",
            "_view_name": "StyleView",
            "bar_color": null,
            "description_width": "initial"
          }
        },
        "ca7eda1147e045c29166a5fd0538d434": {
          "model_module": "@jupyter-widgets/base",
          "model_name": "LayoutModel",
          "state": {
            "_model_module": "@jupyter-widgets/base",
            "_model_module_version": "1.2.0",
            "_model_name": "LayoutModel",
            "_view_count": null,
            "_view_module": "@jupyter-widgets/base",
            "_view_module_version": "1.2.0",
            "_view_name": "LayoutView",
            "align_content": null,
            "align_items": null,
            "align_self": null,
            "border": null,
            "bottom": null,
            "display": null,
            "flex": null,
            "flex_flow": null,
            "grid_area": null,
            "grid_auto_columns": null,
            "grid_auto_flow": null,
            "grid_auto_rows": null,
            "grid_column": null,
            "grid_gap": null,
            "grid_row": null,
            "grid_template_areas": null,
            "grid_template_columns": null,
            "grid_template_rows": null,
            "height": null,
            "justify_content": null,
            "justify_items": null,
            "left": null,
            "margin": null,
            "max_height": null,
            "max_width": null,
            "min_height": null,
            "min_width": null,
            "object_fit": null,
            "object_position": null,
            "order": null,
            "overflow": null,
            "overflow_x": null,
            "overflow_y": null,
            "padding": null,
            "right": null,
            "top": null,
            "visibility": null,
            "width": null
          }
        },
        "5760a56f7d6848259467ff7fe7108467": {
          "model_module": "@jupyter-widgets/controls",
          "model_name": "DescriptionStyleModel",
          "state": {
            "_model_module": "@jupyter-widgets/controls",
            "_model_module_version": "1.5.0",
            "_model_name": "DescriptionStyleModel",
            "_view_count": null,
            "_view_module": "@jupyter-widgets/base",
            "_view_module_version": "1.2.0",
            "_view_name": "StyleView",
            "description_width": ""
          }
        }
      }
    }
  },
  "cells": [
    {
      "cell_type": "markdown",
      "metadata": {
        "id": "UscE7F_wBRDl"
      },
      "source": [
        "# Importing Libraries\n"
      ]
    },
    {
      "cell_type": "code",
      "metadata": {
        "colab": {
          "base_uri": "https://localhost:8080/"
        },
        "id": "jOm7i4djHjtX",
        "outputId": "4ac776a0-e151-42bd-d456-b2a0cb65981e"
      },
      "source": [
        "from google.colab import drive\n",
        "drive.mount('/content/gdrive')"
      ],
      "execution_count": null,
      "outputs": [
        {
          "output_type": "stream",
          "text": [
            "Mounted at /content/gdrive\n"
          ],
          "name": "stdout"
        }
      ]
    },
    {
      "cell_type": "code",
      "metadata": {
        "id": "gjw9G61yH_Dd"
      },
      "source": [
        "import sys\n",
        "sys.path.append('/content/gdrive/MyDrive/coco')\n",
        "sys.path.append('/content/gdrive/MyDrive')\n",
        "\n",
        "from refer import REFER\n",
        "import numpy as np\n",
        "import skimage.io as sio\n",
        "import matplotlib.pyplot as plt\n",
        "import os\n",
        "from PIL import Image"
      ],
      "execution_count": null,
      "outputs": []
    },
    {
      "cell_type": "code",
      "metadata": {
        "colab": {
          "base_uri": "https://localhost:8080/"
        },
        "id": "3kUwJefJIFSO",
        "outputId": "41732cbe-f77d-4c08-fc88-456e988ead15"
      },
      "source": [
        "# 12 seconds on high ram, gpu\n",
        "data_root = '/content/gdrive/MyDrive/coco'  # contains refclef, refcoco, refcoco+, refcocog and images\n",
        "dataset = 'refcoco' \n",
        "splitBy = 'unc'\n",
        "refer = REFER(data_root, dataset, splitBy)\n",
        "\n",
        "print ('dataset [%s_%s] contains: ' % (dataset, splitBy))\n",
        "print ('%s expressions for %s refs in %s images.' % (len(refer.Sents), len(refer.getRefIds()), len(refer.getImgIds())))"
      ],
      "execution_count": null,
      "outputs": [
        {
          "output_type": "stream",
          "text": [
            "loading dataset refcoco into memory...\n",
            "creating index...\n",
            "index created.\n",
            "DONE (t=14.39s)\n",
            "dataset [refcoco_unc] contains: \n",
            "142210 expressions for 50000 refs in 19994 images.\n"
          ],
          "name": "stdout"
        }
      ]
    },
    {
      "cell_type": "code",
      "metadata": {
        "id": "LqnWcjhEIHIF"
      },
      "source": [
        "# Creating sets of refs for train, eval, and testing.\n",
        "TRAIN_IDS = refer.getRefIds(split='train')\n",
        "EVAL_IDS = refer.getRefIds(split='val')\n",
        "TEST_IDS = refer.getRefIds(split='test')"
      ],
      "execution_count": null,
      "outputs": []
    },
    {
      "cell_type": "code",
      "metadata": {
        "id": "i5KXmfpoJ7lB",
        "colab": {
          "base_uri": "https://localhost:8080/"
        },
        "outputId": "298f979d-751e-44be-d2a6-fe98dc3f96fa"
      },
      "source": [
        "# For CLIP model and cosine function\n",
        "!pip install sentence-transformers --quiet"
      ],
      "execution_count": null,
      "outputs": [
        {
          "output_type": "stream",
          "text": [
            "\u001b[K     |████████████████████████████████| 81kB 5.5MB/s \n",
            "\u001b[K     |████████████████████████████████| 2.1MB 9.1MB/s \n",
            "\u001b[K     |████████████████████████████████| 1.2MB 50.3MB/s \n",
            "\u001b[K     |████████████████████████████████| 3.3MB 52.0MB/s \n",
            "\u001b[K     |████████████████████████████████| 901kB 51.2MB/s \n",
            "\u001b[?25h  Building wheel for sentence-transformers (setup.py) ... \u001b[?25l\u001b[?25hdone\n"
          ],
          "name": "stdout"
        }
      ]
    },
    {
      "cell_type": "code",
      "metadata": {
        "colab": {
          "base_uri": "https://localhost:8080/",
          "height": 35
        },
        "id": "NVhK6jyTIOZH",
        "outputId": "13675aa9-9afa-4ff7-ee0e-dd91a52d1c8b"
      },
      "source": [
        "import sentence_transformers\n",
        "from sentence_transformers import SentenceTransformer, util\n",
        "import glob\n",
        "import torch\n",
        "import pickle\n",
        "import zipfile\n",
        "from collections import defaultdict\n",
        "import tqdm.notebook as tq\n",
        "from io import BytesIO\n",
        "\n",
        "from torch import cuda\n",
        "device = 'cuda' if cuda.is_available() else 'cpu'\n",
        "device"
      ],
      "execution_count": null,
      "outputs": [
        {
          "output_type": "execute_result",
          "data": {
            "application/vnd.google.colaboratory.intrinsic+json": {
              "type": "string"
            },
            "text/plain": [
              "'cuda'"
            ]
          },
          "metadata": {
            "tags": []
          },
          "execution_count": 3
        }
      ]
    },
    {
      "cell_type": "code",
      "metadata": {
        "colab": {
          "base_uri": "https://localhost:8080/",
          "height": 34
        },
        "id": "MFaZRyDK63lN",
        "outputId": "c0319dde-900c-4e96-8a7c-38af6b36d8c8"
      },
      "source": [
        "import torch\n",
        "from torch import cuda\n",
        "device = 'cuda' if cuda.is_available() else 'cpu'\n",
        "device"
      ],
      "execution_count": null,
      "outputs": [
        {
          "output_type": "execute_result",
          "data": {
            "application/vnd.google.colaboratory.intrinsic+json": {
              "type": "string"
            },
            "text/plain": [
              "'cpu'"
            ]
          },
          "metadata": {
            "tags": []
          },
          "execution_count": 2
        }
      ]
    },
    {
      "cell_type": "markdown",
      "metadata": {
        "id": "C9iuEDSeIRsQ"
      },
      "source": [
        "# Importing Embedded Features"
      ]
    },
    {
      "cell_type": "code",
      "metadata": {
        "id": "H__8J5WaIVwN"
      },
      "source": [
        "# 1 min, 53 seconds\n",
        "\n",
        "# COCO train main image embeddings\n",
        "with open('/content/gdrive/MyDrive/embeddings/train_img_embeddings.pickle', 'rb') as handle:\n",
        "  #main_img_emb = pickle.load(torch.load('/content/gdrive/MyDrive/embeddings/train_img_embeddings.pickle', map_location=torch.device('cpu')))\n",
        "  main_img_emb = pickle.load(handle)\n",
        "\n",
        "# COCO train set phrase embeddings\n",
        "with open('/content/gdrive/MyDrive/embeddings/train_sentence_embeddings.pickle', 'rb') as handle:\n",
        "  sentence_emb = pickle.load(handle)\n",
        "\n",
        "# COCO train annotation features\n",
        "with open('/content/gdrive/MyDrive/embeddings/train_ann_embeddings.pickle', 'rb') as handle:\n",
        "  ann_features = pickle.load(handle)"
      ],
      "execution_count": null,
      "outputs": []
    },
    {
      "cell_type": "code",
      "metadata": {
        "id": "_ZxKOW4c2IIf"
      },
      "source": [
        ""
      ],
      "execution_count": null,
      "outputs": []
    },
    {
      "cell_type": "code",
      "metadata": {
        "colab": {
          "base_uri": "https://localhost:8080/"
        },
        "id": "pdgrFVaS3PE5",
        "outputId": "fdd91cc2-b6ad-49c6-aced-f021eddd50df"
      },
      "source": [
        "check_cuda()"
      ],
      "execution_count": null,
      "outputs": [
        {
          "output_type": "execute_result",
          "data": {
            "text/plain": [
              "1497088"
            ]
          },
          "metadata": {
            "tags": []
          },
          "execution_count": 8
        }
      ]
    },
    {
      "cell_type": "code",
      "metadata": {
        "id": "CS3V4CELVKAP"
      },
      "source": [
        "def compute_cosine(eOne, eTwo):\n",
        "    cos_scores = util.cos_sim(eOne, eTwo)\n",
        "    return cos_scores"
      ],
      "execution_count": null,
      "outputs": []
    },
    {
      "cell_type": "markdown",
      "metadata": {
        "id": "7E2vUYh8sW5x"
      },
      "source": [
        "# Generating Positive Samples from Feature Engineering"
      ]
    },
    {
      "cell_type": "code",
      "metadata": {
        "id": "e9e2enhCsVWw"
      },
      "source": [
        "def create_positive_samples(ref_split, main_img_features, ann_img_features, sentence_features):\n",
        "  all_samples = []\n",
        "\n",
        "  img_fails = 0\n",
        "  ann_fails = 0\n",
        "  ann_pos_fails = 0\n",
        "\n",
        "  for ref_id in tq.tqdm(ref_split):\n",
        "    curr_ref = refer.Refs[ref_id]\n",
        "\n",
        "    img_id = curr_ref['image_id']\n",
        "    ann_id = curr_ref['ann_id']\n",
        "    sent_ids = curr_ref['sent_ids']\n",
        "\n",
        "    # Extract features from appropiate dictionaries\n",
        "    try: \n",
        "      img_emb = main_img_features[img_id][0]\n",
        "    except: \n",
        "      img_fails += 1\n",
        "      continue\n",
        "    \n",
        "    try:\n",
        "      ann_emb = ann_img_features[ann_id][0]\n",
        "    except:\n",
        "      ann_fails += 1\n",
        "      continue\n",
        "    try:\n",
        "      ann_pos_feat = ann_img_features[ann_id][1]\n",
        "    except:\n",
        "      ann_pos_fails += 1\n",
        "      continue\n",
        "\n",
        "    # Create tensor from annotation positional features\n",
        "    ann_pos_t = torch.flatten(torch.from_numpy(ann_pos_feat)).to(device)\n",
        "\n",
        "    sent_embs = []\n",
        "    for s_id in sent_ids:\n",
        "      try:\n",
        "        sent_embs.append(sentence_features[s_id][0])\n",
        "      except:\n",
        "        # Sentence embedding not found. Skip this sentence\n",
        "        continue\n",
        "\n",
        "    # Now, for each sentence embedding, generate a positve sample. Compute cosines and concat all feature tensors\n",
        "    for sent_embedding in sent_embs:\n",
        "      img_cos = torch.flatten(compute_cosine(img_emb, sent_embedding))\n",
        "      ann_cos = torch.flatten(compute_cosine(ann_emb, sent_embedding))\n",
        "\n",
        "      # All 6 features now ready to be joined into one tensor\n",
        "      current_sample = torch.cat((img_emb, ann_emb, sent_embedding, ann_pos_t, img_cos, ann_cos), 0).to(device)\n",
        "      all_samples.append(current_sample)\n",
        "\n",
        "  print(f\"Image fails: {img_fails}\\nAnn fails: {ann_fails}\\nAnn position fails: {ann_pos_fails}\")\n",
        "\n",
        "  # Stack all sample tensors into one tensor of N x num_features\n",
        "  return torch.stack(all_samples).to(device)"
      ],
      "execution_count": null,
      "outputs": []
    },
    {
      "cell_type": "markdown",
      "metadata": {
        "id": "klAXMP-NRQH7"
      },
      "source": [
        "# Creating positive samples feature and target labels"
      ]
    },
    {
      "cell_type": "code",
      "metadata": {
        "colab": {
          "base_uri": "https://localhost:8080/",
          "height": 134,
          "referenced_widgets": [
            "87406c3d0dbb4ec0822a269bff19f293",
            "5ba5c7f8ec434d019976757622b028e8",
            "1b72d565a600477fbb8554127880882c",
            "70786a18111d46af8b9297cb794e5a06",
            "aa4d32bcd0f149048cbd9e2738f36b0b",
            "4bc0c3dce12843be9515d619b59b7006",
            "8fd1ef16258d4ab4a64159cadac33a7b",
            "d25be2e1d2134e728803f23113d5ccc4"
          ]
        },
        "id": "k6jeqghERTmY",
        "outputId": "1053c42b-0d35-4380-f30a-67679ca05032"
      },
      "source": [
        "# Time on to generate all: 1 minute, 120k samples created.\n",
        "test = create_positive_samples(TRAIN_IDS, main_img_emb, ann_features, sentence_emb)\n",
        "test.shape # torch.Size([120264, 1545])"
      ],
      "execution_count": null,
      "outputs": [
        {
          "output_type": "display_data",
          "data": {
            "application/vnd.jupyter.widget-view+json": {
              "model_id": "87406c3d0dbb4ec0822a269bff19f293",
              "version_major": 2,
              "version_minor": 0
            },
            "text/plain": [
              "HBox(children=(FloatProgress(value=0.0, max=42404.0), HTML(value='')))"
            ]
          },
          "metadata": {
            "tags": []
          }
        },
        {
          "output_type": "stream",
          "text": [
            "\n",
            "Image fails: 0\n",
            "Ann fails: 126\n",
            "Ann position fails: 0\n"
          ],
          "name": "stdout"
        },
        {
          "output_type": "execute_result",
          "data": {
            "text/plain": [
              "torch.Size([120264, 1545])"
            ]
          },
          "metadata": {
            "tags": []
          },
          "execution_count": 10
        }
      ]
    },
    {
      "cell_type": "code",
      "metadata": {
        "colab": {
          "base_uri": "https://localhost:8080/"
        },
        "id": "kRGBg-JKxRuo",
        "outputId": "aa07e4ce-2360-455e-dcba-8f22858a1ae2"
      },
      "source": [
        "# Creating label tensor for positive samples\n",
        "positive_labels = torch.ones(1202645)\n",
        "positive_labels.shape"
      ],
      "execution_count": null,
      "outputs": [
        {
          "output_type": "execute_result",
          "data": {
            "text/plain": [
              "torch.Size([1202645])"
            ]
          },
          "metadata": {
            "tags": []
          },
          "execution_count": 12
        }
      ]
    },
    {
      "cell_type": "code",
      "metadata": {
        "id": "qKjYyBHZspYY"
      },
      "source": [
        "# Saving positive samples to file\n",
        "torch.save(test, '/content/gdrive/MyDrive/Training_Tensors/positive_samples.pt')"
      ],
      "execution_count": null,
      "outputs": []
    },
    {
      "cell_type": "code",
      "metadata": {
        "id": "Qnzi-mZgyYJ4"
      },
      "source": [
        "# Loading positive samples to file. 7seconds\n",
        "posFromFile = torch.load('/content/gdrive/MyDrive/Training_Tensors/positive_samples.pt')"
      ],
      "execution_count": null,
      "outputs": []
    },
    {
      "cell_type": "code",
      "metadata": {
        "id": "VfUmugzrMoZz"
      },
      "source": [
        "# Loading positive tensor and moving to cpu and saving\n",
        "# 29 seconds\n",
        "positive_t = torch.load('/content/gdrive/MyDrive/Training_Tensors/positive_samples.pt')\n",
        "\n",
        "positive_cpu = positive_t.to('cpu')\n",
        "\n",
        "# Saving tensor to cpu\n",
        "torch.save(positive_cpu, '/content/gdrive/MyDrive/cpu_tensors/positive_samples.pt')"
      ],
      "execution_count": null,
      "outputs": []
    },
    {
      "cell_type": "markdown",
      "metadata": {
        "id": "bVyn7ZfcsE4D"
      },
      "source": [
        "# Creating Related Negative Samples"
      ]
    },
    {
      "cell_type": "code",
      "metadata": {
        "colab": {
          "base_uri": "https://localhost:8080/"
        },
        "id": "qwkWKLQeFlW6",
        "outputId": "87c03080-d39b-440d-8f1e-24459052e35c"
      },
      "source": [
        "# Break ref list in half\n",
        "\n",
        "train_ref_ids = refer.getRefIds(split='train')\n",
        "mid = len(train_ref_ids) // 2\n",
        "batch_one = train_ref_ids[:mid]\n",
        "batch_two = train_ref_ids[mid:]\n",
        "\n",
        "print(f\"batch_one size: {len(batch_one)}\\nbatch_two size: {len(batch_two)}\")"
      ],
      "execution_count": null,
      "outputs": [
        {
          "output_type": "stream",
          "text": [
            "batch_one size: 21202\n",
            "batch_two size: 21202\n"
          ],
          "name": "stdout"
        }
      ]
    },
    {
      "cell_type": "code",
      "metadata": {
        "id": "_2oDKUwQsYhn"
      },
      "source": [
        "def related_negative_samples(ref_split, main_img_features, ann_img_features, sentence_features):\n",
        "  all_samples = []\n",
        "\n",
        "  img_fails = 0\n",
        "  ann_fails = 0\n",
        "  ann_pos_fails = 0\n",
        "\n",
        "  for ref_id in tq.tqdm(ref_split):\n",
        "    curr_ref = refer.Refs[ref_id]\n",
        "\n",
        "    img_id = curr_ref['image_id']\n",
        "    matching_ann_id = curr_ref['ann_id']\n",
        "    sent_ids = curr_ref['sent_ids']\n",
        "\n",
        "    # Get main image embedding\n",
        "    try: \n",
        "      img_emb = main_img_features[img_id][0]\n",
        "    except: \n",
        "      img_fails += 1\n",
        "      continue\n",
        "\n",
        "    # Load embeddings for sentences tied to current reference\n",
        "    sent_embs = []\n",
        "    for s_id in sent_ids:\n",
        "      try:\n",
        "        sent_embs.append(sentence_features[s_id][0])\n",
        "      except:\n",
        "        # Sentence embedding not found. Skip this sentence\n",
        "        continue\n",
        "\n",
        "    # Get all annotations for current image_id\n",
        "    img_anns = refer.imgToAnns[img_id]\n",
        "\n",
        "    for related_ann in img_anns:\n",
        "      current_ann_id = related_ann['id']\n",
        "\n",
        "      # Don't include positive sample\n",
        "      if current_ann_id == matching_ann_id:\n",
        "        continue\n",
        "\n",
        "      # Attempt to pull out ann embedding\n",
        "      try:\n",
        "        ann_emb = ann_img_features[current_ann_id][0]\n",
        "      except:\n",
        "        ann_fails += 1\n",
        "        continue\n",
        "\n",
        "      try:\n",
        "        ann_pos_feat = ann_img_features[current_ann_id][1]\n",
        "      except:\n",
        "        ann_pos_fails += 1\n",
        "        continue\n",
        "\n",
        "      # Create tensor from annotation positional features\n",
        "      ann_pos_t = torch.flatten(torch.from_numpy(ann_pos_feat)).to(device)\n",
        "\n",
        "\n",
        "      # Generate a negative sample for each sentence embedding.\n",
        "      for sent_embedding in sent_embs:\n",
        "        img_cos = torch.flatten(compute_cosine(img_emb, sent_embedding))\n",
        "        ann_cos = torch.flatten(compute_cosine(ann_emb, sent_embedding))\n",
        "\n",
        "        # All 6 features now ready to be joined into one tensor\n",
        "        current_sample = torch.cat((img_emb, ann_emb, sent_embedding, ann_pos_t, img_cos, ann_cos), 0)\n",
        "        all_samples.append(current_sample)\n",
        "\n",
        "  print(f\"Image fails: {img_fails}\\nAnn fails: {ann_fails}\\nAnn position fails: {ann_pos_fails}\")\n",
        "\n",
        "  # Stack all sample tensors into one tensor of N x num_features\n",
        "  return torch.stack(all_samples)"
      ],
      "execution_count": null,
      "outputs": []
    },
    {
      "cell_type": "markdown",
      "metadata": {
        "id": "Xx16zJBUIau7"
      },
      "source": [
        "### Create two batches of related negative samples"
      ]
    },
    {
      "cell_type": "code",
      "metadata": {
        "colab": {
          "base_uri": "https://localhost:8080/",
          "height": 134,
          "referenced_widgets": [
            "70c8c063c9e6440594edc14d44f73716",
            "d33f136fb4c04cbaacd838008946eda9",
            "8752a1a457a2444aba26ec8d450f61b6",
            "1596799403be4abcb907ed961ef6e365",
            "12be0943e7f34f21887aa1a1a14a80c7",
            "b3fc9bfcfb694c05b688ba3dab94d2f8",
            "42f1d9999d864635892a14e4406ffebd",
            "5518e0bfbca2410183dfadc18b03b519"
          ]
        },
        "id": "ZcbfjwSiYnQ5",
        "outputId": "6e7c1c0c-2551-4f9f-9c26-a9ebfdca0c3c"
      },
      "source": [
        "# Batch One. 13 minutes\n",
        "neg_samples_rel = related_negative_samples_one(batch_one, main_img_emb, ann_features, sentence_emb)\n",
        "print(neg_samples_rel_one.shape) # torch.Size([578495, 1545])\n",
        "\n",
        "# Saving related negative samples to file. 1min 27 s\n",
        "torch.save(neg_samples_rel_one, '/content/gdrive/MyDrive/Training_Tensors/negative_related_batch_one.pt')"
      ],
      "execution_count": null,
      "outputs": [
        {
          "output_type": "display_data",
          "data": {
            "application/vnd.jupyter.widget-view+json": {
              "model_id": "70c8c063c9e6440594edc14d44f73716",
              "version_minor": 0,
              "version_major": 2
            },
            "text/plain": [
              "HBox(children=(FloatProgress(value=0.0, max=21202.0), HTML(value='')))"
            ]
          },
          "metadata": {
            "tags": []
          }
        },
        {
          "output_type": "stream",
          "text": [
            "\n",
            "Image fails: 0\n",
            "Ann fails: 1192\n",
            "Ann position fails: 0\n"
          ],
          "name": "stdout"
        },
        {
          "output_type": "execute_result",
          "data": {
            "text/plain": [
              "torch.Size([578495, 1545])"
            ]
          },
          "metadata": {
            "tags": []
          },
          "execution_count": 19
        }
      ]
    },
    {
      "cell_type": "code",
      "metadata": {
        "colab": {
          "base_uri": "https://localhost:8080/",
          "height": 134,
          "referenced_widgets": [
            "56da35508c4b46b8a9e030013009fe86",
            "f94fc789c900489ca8e737c97b2d2ab9",
            "1bdfb7eb98b4432db2a12bb2fc2ff177",
            "ce175c9fd7034a0387f35e93de41fdb1",
            "826a788990644bbfa59aa26d1272272a",
            "6d462daba97b43ebbbba808e6095df4a",
            "53b4ee5a23894958a178e9bf5892324f",
            "1bd57a5725db4f0cb3f6dae576aded3a"
          ]
        },
        "id": "NnSaHD2UF-qv",
        "outputId": "d987897d-59ae-43dd-a1cb-f416c2f67d73"
      },
      "source": [
        "# Batch Two\n",
        "#torch.cuda.empty_cache()\n",
        "\n",
        "neg_samples_rel_two = related_negative_samples(batch_two, main_img_emb, ann_features, sentence_emb)\n",
        "print(neg_samples_rel_two.shape) # torch.Size([567127, 1545])\n",
        "\n",
        "# Save sample tensor to file\n",
        "torch.save(neg_samples_rel_two, '/content/gdrive/MyDrive/Training_Tensors/negative_related_batch_two.pt')"
      ],
      "execution_count": null,
      "outputs": [
        {
          "output_type": "display_data",
          "data": {
            "application/vnd.jupyter.widget-view+json": {
              "model_id": "56da35508c4b46b8a9e030013009fe86",
              "version_minor": 0,
              "version_major": 2
            },
            "text/plain": [
              "HBox(children=(FloatProgress(value=0.0, max=21202.0), HTML(value='')))"
            ]
          },
          "metadata": {
            "tags": []
          }
        },
        {
          "output_type": "stream",
          "text": [
            "\n",
            "Image fails: 0\n",
            "Ann fails: 843\n",
            "Ann position fails: 0\n",
            "torch.Size([567127, 1545])\n"
          ],
          "name": "stdout"
        }
      ]
    },
    {
      "cell_type": "code",
      "metadata": {
        "id": "qKM_IcO7Lqrb"
      },
      "source": [
        "# Loading batch one tensors and moving to cpu and saving\n",
        "\n",
        "neg_batch_one = torch.load('/content/gdrive/MyDrive/Training_Tensors/negative_related_batch_one.pt')\n",
        "\n",
        "neg_batch_one_cpu = neg_batch_one.to('cpu')\n",
        "\n",
        "# Saving tensor to cpu\n",
        "torch.save(neg_batch_one_cpu, '/content/gdrive/MyDrive/cpu_tensors/negative_related_batch_one.pt')"
      ],
      "execution_count": null,
      "outputs": []
    },
    {
      "cell_type": "code",
      "metadata": {
        "id": "gvuzf_vqMX1E"
      },
      "source": [
        "# Loading batch two and moving to cpu and saving\n",
        "\n",
        "neg_batch_two = torch.load('/content/gdrive/MyDrive/Training_Tensors/negative_related_batch_two.pt')\n",
        "\n",
        "neg_batch_two_cpu = neg_batch_two.to('cpu')\n",
        "\n",
        "# Saving tensor to cpu\n",
        "torch.save(neg_batch_two_cpu, '/content/gdrive/MyDrive/cpu_tensors/negative_related_batch_two.pt')"
      ],
      "execution_count": null,
      "outputs": []
    },
    {
      "cell_type": "markdown",
      "metadata": {
        "id": "Q38wHgE6bJvu"
      },
      "source": [
        "# Create Random Negative Samples"
      ]
    },
    {
      "cell_type": "code",
      "metadata": {
        "id": "0LTQjOwIZGUU"
      },
      "source": [
        "def get_random_sample(ref_split, main_img_features, ann_img_features, curr_img_id, sample_count, sent_embedding):\n",
        "  count = 0\n",
        "  all_samples = []\n",
        "\n",
        "  # Set of image ids to randomly draw from\n",
        "  train_img_ids = set(refer.getImgIds(TRAIN_IDS))\n",
        "\n",
        "  while count < sample_count:\n",
        "    # Get a random image that's not the current image\n",
        "    rand_img = random.sample(train_img_ids, 1)[0]\n",
        "    while curr_img_id == rand_img:\n",
        "      rand_img = random.sample(train_img_ids, 1)[0]\n",
        "\n",
        "    # Get a single annotation from the random image\n",
        "    ann_id = refer.imgToAnns[rand_img][0]['id']\n",
        "    \n",
        "    # Get features for annotation. try again if annotation failed.\n",
        "    try:\n",
        "      ann_emb = ann_img_features[ann_id][0]\n",
        "      ann_pos_feat = ann_img_features[ann_id][1]\n",
        "      img_emb = main_img_features[rand_img][0]\n",
        "    except:\n",
        "      continue\n",
        "\n",
        "    # Compute sample tensor and append to list\n",
        "    ann_pos_t = torch.flatten(torch.from_numpy(ann_pos_feat)).to(device)\n",
        "    img_cos = torch.flatten(compute_cosine(img_emb, sent_embedding))\n",
        "    ann_cos = torch.flatten(compute_cosine(ann_emb, sent_embedding))\n",
        "\n",
        "    # All 6 features now ready to be joined into one tensor\n",
        "    current_sample = torch.cat((img_emb, ann_emb, sent_embedding, ann_pos_t, img_cos, ann_cos), 0)\n",
        "    all_samples.append(current_sample)\n",
        "    count += 1\n",
        "\n",
        "  return all_samples"
      ],
      "execution_count": null,
      "outputs": []
    },
    {
      "cell_type": "code",
      "metadata": {
        "id": "472sySV6_yL6"
      },
      "source": [
        "import random\n",
        "\n",
        "def random_negative_samples(ref_split, main_img_features, ann_img_features, sentence_features, ratio):\n",
        "  all_samples = []\n",
        "\n",
        "  for ref_id in tq.tqdm(ref_split):\n",
        "    \n",
        "    curr_ref = refer.Refs[ref_id]\n",
        "    curr_img_id = curr_ref['image_id']\n",
        "\n",
        "    # Load embeddings for sentences tied to current reference\n",
        "    sent_embs = []\n",
        "    for s_id in curr_ref['sent_ids']:\n",
        "      try:\n",
        "        sent_embs.append(sentence_features[s_id][0])\n",
        "      except:\n",
        "        # Sentence embedding not found. Skip this sentence\n",
        "        continue\n",
        "\n",
        "    # For each sentence in ref, get ratio number of random negative samples for that sentence\n",
        "    for sent_embedding in sent_embs:\n",
        "      curr_samples = get_random_sample(ref_split, main_img_features, ann_img_features, curr_img_id, ratio, sent_embedding)\n",
        "      all_samples = all_samples + curr_samples\n",
        "\n",
        "  return torch.stack(all_samples)"
      ],
      "execution_count": null,
      "outputs": []
    },
    {
      "cell_type": "code",
      "metadata": {
        "colab": {
          "base_uri": "https://localhost:8080/",
          "height": 83,
          "referenced_widgets": [
            "625ad38a81a64570bd82c0f325bb1ecc",
            "fb1f4852e688465aad609ae133ff6f6d",
            "f632f822e71e40dc85dc2930c6e82e89",
            "418cccdb99e7449f8cdfe82800c6cb26",
            "f5749484502042b887b18ec2a5bc07eb",
            "0cf2f463aa31474e8398bebdbbe89af0",
            "04fac581bd354f7da9a4e87ff6f9a564",
            "c070b4cf4960481b8c03f98a346628cf"
          ]
        },
        "id": "8gBfeIieTY92",
        "outputId": "68a88319-71fa-483d-e218-cd85847b800f"
      },
      "source": [
        "test = random_negative_samples(TRAIN_IDS, main_img_emb, ann_features, sentence_emb, 2)\n",
        "test.shape"
      ],
      "execution_count": null,
      "outputs": [
        {
          "output_type": "display_data",
          "data": {
            "application/vnd.jupyter.widget-view+json": {
              "model_id": "625ad38a81a64570bd82c0f325bb1ecc",
              "version_minor": 0,
              "version_major": 2
            },
            "text/plain": [
              "HBox(children=(FloatProgress(value=0.0, max=42404.0), HTML(value='')))"
            ]
          },
          "metadata": {
            "tags": []
          }
        },
        {
          "output_type": "stream",
          "text": [
            "\n"
          ],
          "name": "stdout"
        },
        {
          "output_type": "execute_result",
          "data": {
            "text/plain": [
              "torch.Size([241248, 1545])"
            ]
          },
          "metadata": {
            "tags": []
          },
          "execution_count": 51
        }
      ]
    },
    {
      "cell_type": "code",
      "metadata": {
        "id": "C13bA6dNuT9m"
      },
      "source": [
        "# Saving random negative samples\n",
        "\n",
        "torch.save(test, '/content/gdrive/MyDrive/Training_Tensors/negative_random.pt')"
      ],
      "execution_count": null,
      "outputs": []
    },
    {
      "cell_type": "code",
      "metadata": {
        "id": "k_0-R6FCAidu"
      },
      "source": [
        "negative_random = test.to('cpu') # 56.38"
      ],
      "execution_count": null,
      "outputs": []
    },
    {
      "cell_type": "code",
      "metadata": {
        "colab": {
          "base_uri": "https://localhost:8080/"
        },
        "id": "-OKjkc3kK7Ed",
        "outputId": "42e52ed0-fa05-4ec4-d358-33a692a392c4"
      },
      "source": [
        "negative_random"
      ],
      "execution_count": null,
      "outputs": [
        {
          "output_type": "execute_result",
          "data": {
            "text/plain": [
              "tensor([[ 0.1825, -0.0498,  0.1209,  ...,  0.2689,  0.1613,  0.1632],\n",
              "        [-0.4963, -0.2756,  0.0073,  ...,  0.1969,  0.1791,  0.1613],\n",
              "        [ 0.0104, -0.0083, -0.2167,  ...,  0.0634,  0.1826,  0.1926],\n",
              "        ...,\n",
              "        [-0.6372, -0.3318,  0.1387,  ...,  0.2103,  0.1704,  0.1693],\n",
              "        [-0.2534,  0.1180, -0.1149,  ...,  0.4029,  0.2049,  0.1772],\n",
              "        [ 0.1938,  0.2064, -0.0591,  ...,  0.5591,  0.1623,  0.1868]],\n",
              "       dtype=torch.float64)"
            ]
          },
          "metadata": {
            "tags": []
          },
          "execution_count": 57
        }
      ]
    },
    {
      "cell_type": "code",
      "metadata": {
        "id": "ynot8JTaJvJu"
      },
      "source": [
        "# Saving tensor to cpu\n",
        "torch.save(negative_random, '/content/gdrive/MyDrive/cpu_tensors/negative_random.pt')"
      ],
      "execution_count": null,
      "outputs": []
    },
    {
      "cell_type": "code",
      "metadata": {
        "id": "5CEUOH36LNNo"
      },
      "source": [
        "# Loading negative tensor to file. 7seconds\n",
        "neg_file = torch.load('/content/gdrive/MyDrive/cpu_tensors/negative_random.pt')"
      ],
      "execution_count": null,
      "outputs": []
    },
    {
      "cell_type": "markdown",
      "metadata": {
        "id": "EIhIamhuPkL2"
      },
      "source": [
        "# Stacking all training tensors and training labels to cpu"
      ]
    },
    {
      "cell_type": "code",
      "metadata": {
        "id": "S9eM-_ZOPrFD"
      },
      "source": [
        "# Load all tensors onto CPU\n",
        "pos = torch.load('/content/gdrive/MyDrive/cpu_tensors/positive_samples.pt')\n",
        "neg_one = torch.load('/content/gdrive/MyDrive/cpu_tensors/negative_related_batch_one.pt')\n",
        "neg_two = torch.load('/content/gdrive/MyDrive/cpu_tensors/negative_related_batch_two.pt')\n",
        "#neg_three = torch.load('/content/gdrive/MyDrive/cpu_tensors/negative_random.pt')"
      ],
      "execution_count": null,
      "outputs": []
    },
    {
      "cell_type": "code",
      "metadata": {
        "id": "Uq8fttRzUfRP"
      },
      "source": [
        "# Concatenating all negative samples:\n",
        "all_samples = torch.cat([pos, neg_one, neg_two], dim=0)"
      ],
      "execution_count": null,
      "outputs": []
    },
    {
      "cell_type": "code",
      "metadata": {
        "id": "MHHw47Tg87lO"
      },
      "source": [
        "# Saving tensor to cpu\n",
        "torch.save(all_samples, '/content/gdrive/MyDrive/cpu_tensors/all_samples.pt')"
      ],
      "execution_count": null,
      "outputs": []
    },
    {
      "cell_type": "code",
      "metadata": {
        "id": "gk6DXFtcTxGR"
      },
      "source": [
        "# Creating label vectors\n",
        "positive_labels = torch.ones(1202645)\n",
        "positive_labels.shape"
      ],
      "execution_count": null,
      "outputs": []
    },
    {
      "cell_type": "markdown",
      "metadata": {
        "id": "va8pJfA_s49w"
      },
      "source": [
        "# Structure of a ref"
      ]
    },
    {
      "cell_type": "code",
      "metadata": {
        "colab": {
          "base_uri": "https://localhost:8080/"
        },
        "id": "eY1GPUX6s5G_",
        "outputId": "54fab104-672c-4d9c-ed47-1a43bfbc552b"
      },
      "source": [
        "50000\n",
        "{'sent_ids': [100272, 100273, 100274],\n",
        " 'file_name': 'COCO_train2014_000000173056_1.jpg',\n",
        " 'ann_id': 275551,\n",
        " 'ref_id': 35254,\n",
        " 'image_id': 173056,\n",
        " 'split': 'train',\n",
        " 'sentences': [{'tokens': ['white', 'brown', 'sheep', 'right'],\n",
        "   'raw': 'white brown sheep right',\n",
        "   'sent_id': 100272,\n",
        "   'sent': 'white brown sheep right'},\n",
        "  {'tokens': ['black', 'sheep', 'on', 'right'],\n",
        "   'raw': 'black sheep on right',\n",
        "   'sent_id': 100273,\n",
        "   'sent': 'black sheep on right'},\n",
        "  {'tokens': ['sheep', 'on', 'the', 'right'],\n",
        "   'raw': 'sheep on the right',\n",
        "   'sent_id': 100274,\n",
        "   'sent': 'sheep on the right'}],\n",
        " 'category_id': 20}"
      ],
      "execution_count": null,
      "outputs": [
        {
          "output_type": "execute_result",
          "data": {
            "text/plain": [
              "{'ann_id': 275551,\n",
              " 'category_id': 20,\n",
              " 'file_name': 'COCO_train2014_000000173056_1.jpg',\n",
              " 'image_id': 173056,\n",
              " 'ref_id': 35254,\n",
              " 'sent_ids': [100272, 100273, 100274],\n",
              " 'sentences': [{'raw': 'white brown sheep right',\n",
              "   'sent': 'white brown sheep right',\n",
              "   'sent_id': 100272,\n",
              "   'tokens': ['white', 'brown', 'sheep', 'right']},\n",
              "  {'raw': 'black sheep on right',\n",
              "   'sent': 'black sheep on right',\n",
              "   'sent_id': 100273,\n",
              "   'tokens': ['black', 'sheep', 'on', 'right']},\n",
              "  {'raw': 'sheep on the right',\n",
              "   'sent': 'sheep on the right',\n",
              "   'sent_id': 100274,\n",
              "   'tokens': ['sheep', 'on', 'the', 'right']}],\n",
              " 'split': 'train'}"
            ]
          },
          "metadata": {
            "tags": []
          },
          "execution_count": 11
        }
      ]
    },
    {
      "cell_type": "markdown",
      "metadata": {
        "id": "BlpNzSQxrxGc"
      },
      "source": [
        "# Testing Embeddings and Cosine function. Ensuring embeddings are valid"
      ]
    },
    {
      "cell_type": "code",
      "metadata": {
        "id": "a_-BPEfPr6Ow"
      },
      "source": [
        "# Testing image imbed still works\n",
        "test_img_id = 581857\n",
        "test_img = refer.Imgs[test_img_id]\n",
        "\n",
        "img_path = refer.IMAGE_DIR + '/' + test_img['file_name']\n",
        "img_path"
      ],
      "execution_count": null,
      "outputs": []
    },
    {
      "cell_type": "code",
      "metadata": {
        "id": "jYjBTDEYsC0g"
      },
      "source": [
        "# Opening image\n",
        "img_j = Image.open(img_path)\n",
        "\n",
        "plt.figure()\n",
        "ax = plt.gca()\n",
        "ax.imshow(img_j)\n",
        "plt.show()"
      ],
      "execution_count": null,
      "outputs": []
    },
    {
      "cell_type": "code",
      "metadata": {
        "colab": {
          "base_uri": "https://localhost:8080/",
          "referenced_widgets": [
            "3a4868cbde7b4e1db438e9d010b37beb",
            "c1f9db88e64e4cc0a480a5bbd86dea1f",
            "f42f245767f849a0b8c19ab8f5b7be61",
            "45b16f77cf584b3dbb7b7d9da7fb44ce",
            "738aa35ccc1241ce85b885eacc80afb2",
            "49a3ff9dc10a4109b4c1738e0086c1d1",
            "ca7eda1147e045c29166a5fd0538d434",
            "5760a56f7d6848259467ff7fe7108467"
          ]
        },
        "id": "wPOnwyMDr9j7",
        "outputId": "71093861-312c-43aa-970f-c5fc550a9d6d"
      },
      "source": [
        "# Load the respective CLIP model. Embeds both images and text into same vector space.\n",
        "CLIP_model = SentenceTransformer('clip-ViT-B-32').to(device)\n",
        "\n",
        "def get_clip_embedding(raw_input):\n",
        "    # Computes embedding for both text AND images.\n",
        "    clip_emb = CLIP_model.encode(raw_input, convert_to_tensor=True)\n",
        "    return clip_emb"
      ],
      "execution_count": null,
      "outputs": [
        {
          "output_type": "display_data",
          "data": {
            "application/vnd.jupyter.widget-view+json": {
              "model_id": "3a4868cbde7b4e1db438e9d010b37beb",
              "version_major": 2,
              "version_minor": 0
            },
            "text/plain": [
              "HBox(children=(FloatProgress(value=0.0, max=327977311.0), HTML(value='')))"
            ]
          },
          "metadata": {
            "tags": []
          }
        },
        {
          "output_type": "stream",
          "text": [
            "\n"
          ],
          "name": "stdout"
        },
        {
          "output_type": "stream",
          "text": [
            "/usr/local/lib/python3.7/dist-packages/torchvision/transforms/transforms.py:258: UserWarning: Argument interpolation should be of type InterpolationMode instead of int. Please, use InterpolationMode enum.\n",
            "  \"Argument interpolation should be of type InterpolationMode instead of int. \"\n"
          ],
          "name": "stderr"
        }
      ]
    },
    {
      "cell_type": "code",
      "metadata": {
        "colab": {
          "base_uri": "https://localhost:8080/"
        },
        "id": "ine7uVqlDOr6",
        "outputId": "95e20c60-74ec-4941-a947-7cee5b609d73"
      },
      "source": [
        "# testing cosine vectors\n",
        "pe1 = get_clip_embedding(\"Man in black jacket\")\n",
        "pe2 = get_clip_embedding(\"Person wearing a coat\")\n",
        "\n",
        "test_cos = compute_cosine(pe1, pe2)\n",
        "\n",
        "cos_flat = torch.flatten(test_cos)\n",
        "print(\"Cos vector contents:\", test_cos)\n",
        "\n",
        "print(\"OG cos vector shape: \" , test_cos.shape)\n",
        "print(\"Flattend cos vector shape:\", cos_flat.shape)\n",
        "cos_flat"
      ],
      "execution_count": null,
      "outputs": [
        {
          "output_type": "stream",
          "text": [
            "Cos vector contents: tensor([[0.8354]], device='cuda:0')\n",
            "OG cos vector shape:  torch.Size([1, 1])\n",
            "Flattend cos vector shape: torch.Size([1])\n"
          ],
          "name": "stdout"
        },
        {
          "output_type": "execute_result",
          "data": {
            "text/plain": [
              "tensor([0.8354], device='cuda:0')"
            ]
          },
          "metadata": {
            "tags": []
          },
          "execution_count": 15
        }
      ]
    },
    {
      "cell_type": "code",
      "metadata": {
        "colab": {
          "base_uri": "https://localhost:8080/"
        },
        "id": "KmM5QrDtEXJj",
        "outputId": "7e7b2887-a542-4fbc-bc1f-f0285220cd98"
      },
      "source": [
        "print(\"pe1 shape:\", pe1.shape)\n",
        "\n",
        "pe_flat = torch.flatten(pe1)\n",
        "print(\"pe1 flat shape:\", pe_flat.shape)"
      ],
      "execution_count": null,
      "outputs": [
        {
          "output_type": "stream",
          "text": [
            "pe1 shape: torch.Size([512])\n",
            "pe1 flat shape: torch.Size([512])\n"
          ],
          "name": "stdout"
        }
      ]
    },
    {
      "cell_type": "code",
      "metadata": {
        "id": "CrZg7fclsG9A"
      },
      "source": [
        "# Getting image embedding\n",
        "img_emb = get_clip_embedding(img_j)"
      ],
      "execution_count": null,
      "outputs": []
    },
    {
      "cell_type": "code",
      "metadata": {
        "id": "xfv1nKtEsLQc"
      },
      "source": [
        "x = 0 \n",
        "test_embed = None\n",
        "for k in main_img_emb:\n",
        "  if x > 0: \n",
        "    break\n",
        "  \n",
        "  print(k)\n",
        "  x += 1\n",
        "  test_embed = main_img_emb[k][0]\n",
        "\n",
        "test_embed"
      ],
      "execution_count": null,
      "outputs": []
    },
    {
      "cell_type": "code",
      "metadata": {
        "id": "TpcJtfbbsOSg"
      },
      "source": [
        "phrase = \"People at a library\"\n",
        "\n",
        "pe = get_clip_embedding(phrase)\n",
        "#pe.to(device)\n",
        "compute_cosine(pe, img_emb)"
      ],
      "execution_count": null,
      "outputs": []
    }
  ]
}