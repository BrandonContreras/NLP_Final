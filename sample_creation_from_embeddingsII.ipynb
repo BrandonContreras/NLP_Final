{
  "nbformat": 4,
  "nbformat_minor": 0,
  "metadata": {
    "colab": {
      "name": "sample_creation_from_embeddings_.ipynb",
      "provenance": [],
      "collapsed_sections": [],
      "machine_shape": "hm"
    },
    "kernelspec": {
      "name": "python3",
      "display_name": "Python 3"
    },
    "language_info": {
      "name": "python"
    },
    "accelerator": "TPU",
    "widgets": {
      "application/vnd.jupyter.widget-state+json": {
        "ad48af3166a54bf2bc5a4baf4ca8e7e5": {
          "model_module": "@jupyter-widgets/controls",
          "model_name": "HBoxModel",
          "state": {
            "_view_name": "HBoxView",
            "_dom_classes": [],
            "_model_name": "HBoxModel",
            "_view_module": "@jupyter-widgets/controls",
            "_model_module_version": "1.5.0",
            "_view_count": null,
            "_view_module_version": "1.5.0",
            "box_style": "",
            "layout": "IPY_MODEL_79077a230e454ca4a5f94b19c70807a2",
            "_model_module": "@jupyter-widgets/controls",
            "children": [
              "IPY_MODEL_8d1a59cea91c40a9960d5d78d8b79fe3",
              "IPY_MODEL_b48c6e46564b47369a7b3f40fb467bbb"
            ]
          }
        },
        "79077a230e454ca4a5f94b19c70807a2": {
          "model_module": "@jupyter-widgets/base",
          "model_name": "LayoutModel",
          "state": {
            "_view_name": "LayoutView",
            "grid_template_rows": null,
            "right": null,
            "justify_content": null,
            "_view_module": "@jupyter-widgets/base",
            "overflow": null,
            "_model_module_version": "1.2.0",
            "_view_count": null,
            "flex_flow": null,
            "width": null,
            "min_width": null,
            "border": null,
            "align_items": null,
            "bottom": null,
            "_model_module": "@jupyter-widgets/base",
            "top": null,
            "grid_column": null,
            "overflow_y": null,
            "overflow_x": null,
            "grid_auto_flow": null,
            "grid_area": null,
            "grid_template_columns": null,
            "flex": null,
            "_model_name": "LayoutModel",
            "justify_items": null,
            "grid_row": null,
            "max_height": null,
            "align_content": null,
            "visibility": null,
            "align_self": null,
            "height": null,
            "min_height": null,
            "padding": null,
            "grid_auto_rows": null,
            "grid_gap": null,
            "max_width": null,
            "order": null,
            "_view_module_version": "1.2.0",
            "grid_template_areas": null,
            "object_position": null,
            "object_fit": null,
            "grid_auto_columns": null,
            "margin": null,
            "display": null,
            "left": null
          }
        },
        "8d1a59cea91c40a9960d5d78d8b79fe3": {
          "model_module": "@jupyter-widgets/controls",
          "model_name": "FloatProgressModel",
          "state": {
            "_view_name": "ProgressView",
            "style": "IPY_MODEL_e7cb3d805a574822846d7222f93e5b45",
            "_dom_classes": [],
            "description": "100%",
            "_model_name": "FloatProgressModel",
            "bar_style": "success",
            "max": 42404,
            "_view_module": "@jupyter-widgets/controls",
            "_model_module_version": "1.5.0",
            "value": 42404,
            "_view_count": null,
            "_view_module_version": "1.5.0",
            "orientation": "horizontal",
            "min": 0,
            "description_tooltip": null,
            "_model_module": "@jupyter-widgets/controls",
            "layout": "IPY_MODEL_dad9258d86da497fb1205d877624be6f"
          }
        },
        "b48c6e46564b47369a7b3f40fb467bbb": {
          "model_module": "@jupyter-widgets/controls",
          "model_name": "HTMLModel",
          "state": {
            "_view_name": "HTMLView",
            "style": "IPY_MODEL_da146f7c9ec149cea9b2bca9bec8fb9b",
            "_dom_classes": [],
            "description": "",
            "_model_name": "HTMLModel",
            "placeholder": "​",
            "_view_module": "@jupyter-widgets/controls",
            "_model_module_version": "1.5.0",
            "value": " 42404/42404 [05:23&lt;00:00, 131.24it/s]",
            "_view_count": null,
            "_view_module_version": "1.5.0",
            "description_tooltip": null,
            "_model_module": "@jupyter-widgets/controls",
            "layout": "IPY_MODEL_e249c84b66ee48fbba8728b4e52c36a8"
          }
        },
        "e7cb3d805a574822846d7222f93e5b45": {
          "model_module": "@jupyter-widgets/controls",
          "model_name": "ProgressStyleModel",
          "state": {
            "_view_name": "StyleView",
            "_model_name": "ProgressStyleModel",
            "description_width": "initial",
            "_view_module": "@jupyter-widgets/base",
            "_model_module_version": "1.5.0",
            "_view_count": null,
            "_view_module_version": "1.2.0",
            "bar_color": null,
            "_model_module": "@jupyter-widgets/controls"
          }
        },
        "dad9258d86da497fb1205d877624be6f": {
          "model_module": "@jupyter-widgets/base",
          "model_name": "LayoutModel",
          "state": {
            "_view_name": "LayoutView",
            "grid_template_rows": null,
            "right": null,
            "justify_content": null,
            "_view_module": "@jupyter-widgets/base",
            "overflow": null,
            "_model_module_version": "1.2.0",
            "_view_count": null,
            "flex_flow": null,
            "width": null,
            "min_width": null,
            "border": null,
            "align_items": null,
            "bottom": null,
            "_model_module": "@jupyter-widgets/base",
            "top": null,
            "grid_column": null,
            "overflow_y": null,
            "overflow_x": null,
            "grid_auto_flow": null,
            "grid_area": null,
            "grid_template_columns": null,
            "flex": null,
            "_model_name": "LayoutModel",
            "justify_items": null,
            "grid_row": null,
            "max_height": null,
            "align_content": null,
            "visibility": null,
            "align_self": null,
            "height": null,
            "min_height": null,
            "padding": null,
            "grid_auto_rows": null,
            "grid_gap": null,
            "max_width": null,
            "order": null,
            "_view_module_version": "1.2.0",
            "grid_template_areas": null,
            "object_position": null,
            "object_fit": null,
            "grid_auto_columns": null,
            "margin": null,
            "display": null,
            "left": null
          }
        },
        "da146f7c9ec149cea9b2bca9bec8fb9b": {
          "model_module": "@jupyter-widgets/controls",
          "model_name": "DescriptionStyleModel",
          "state": {
            "_view_name": "StyleView",
            "_model_name": "DescriptionStyleModel",
            "description_width": "",
            "_view_module": "@jupyter-widgets/base",
            "_model_module_version": "1.5.0",
            "_view_count": null,
            "_view_module_version": "1.2.0",
            "_model_module": "@jupyter-widgets/controls"
          }
        },
        "e249c84b66ee48fbba8728b4e52c36a8": {
          "model_module": "@jupyter-widgets/base",
          "model_name": "LayoutModel",
          "state": {
            "_view_name": "LayoutView",
            "grid_template_rows": null,
            "right": null,
            "justify_content": null,
            "_view_module": "@jupyter-widgets/base",
            "overflow": null,
            "_model_module_version": "1.2.0",
            "_view_count": null,
            "flex_flow": null,
            "width": null,
            "min_width": null,
            "border": null,
            "align_items": null,
            "bottom": null,
            "_model_module": "@jupyter-widgets/base",
            "top": null,
            "grid_column": null,
            "overflow_y": null,
            "overflow_x": null,
            "grid_auto_flow": null,
            "grid_area": null,
            "grid_template_columns": null,
            "flex": null,
            "_model_name": "LayoutModel",
            "justify_items": null,
            "grid_row": null,
            "max_height": null,
            "align_content": null,
            "visibility": null,
            "align_self": null,
            "height": null,
            "min_height": null,
            "padding": null,
            "grid_auto_rows": null,
            "grid_gap": null,
            "max_width": null,
            "order": null,
            "_view_module_version": "1.2.0",
            "grid_template_areas": null,
            "object_position": null,
            "object_fit": null,
            "grid_auto_columns": null,
            "margin": null,
            "display": null,
            "left": null
          }
        },
        "b397e3bb4ca84a90ac129deb1efdbfa6": {
          "model_module": "@jupyter-widgets/controls",
          "model_name": "HBoxModel",
          "state": {
            "_view_name": "HBoxView",
            "_dom_classes": [],
            "_model_name": "HBoxModel",
            "_view_module": "@jupyter-widgets/controls",
            "_model_module_version": "1.5.0",
            "_view_count": null,
            "_view_module_version": "1.5.0",
            "box_style": "",
            "layout": "IPY_MODEL_4395f9b7edf64651ab36947dd4caa62c",
            "_model_module": "@jupyter-widgets/controls",
            "children": [
              "IPY_MODEL_919249f64c5342809f9dd86813e9fde7",
              "IPY_MODEL_de50043448ca41778173ab6ce2c6b23b"
            ]
          }
        },
        "4395f9b7edf64651ab36947dd4caa62c": {
          "model_module": "@jupyter-widgets/base",
          "model_name": "LayoutModel",
          "state": {
            "_view_name": "LayoutView",
            "grid_template_rows": null,
            "right": null,
            "justify_content": null,
            "_view_module": "@jupyter-widgets/base",
            "overflow": null,
            "_model_module_version": "1.2.0",
            "_view_count": null,
            "flex_flow": null,
            "width": null,
            "min_width": null,
            "border": null,
            "align_items": null,
            "bottom": null,
            "_model_module": "@jupyter-widgets/base",
            "top": null,
            "grid_column": null,
            "overflow_y": null,
            "overflow_x": null,
            "grid_auto_flow": null,
            "grid_area": null,
            "grid_template_columns": null,
            "flex": null,
            "_model_name": "LayoutModel",
            "justify_items": null,
            "grid_row": null,
            "max_height": null,
            "align_content": null,
            "visibility": null,
            "align_self": null,
            "height": null,
            "min_height": null,
            "padding": null,
            "grid_auto_rows": null,
            "grid_gap": null,
            "max_width": null,
            "order": null,
            "_view_module_version": "1.2.0",
            "grid_template_areas": null,
            "object_position": null,
            "object_fit": null,
            "grid_auto_columns": null,
            "margin": null,
            "display": null,
            "left": null
          }
        },
        "919249f64c5342809f9dd86813e9fde7": {
          "model_module": "@jupyter-widgets/controls",
          "model_name": "FloatProgressModel",
          "state": {
            "_view_name": "ProgressView",
            "style": "IPY_MODEL_5eb0b12f33b24891850b4f1f24e28fa0",
            "_dom_classes": [],
            "description": "100%",
            "_model_name": "FloatProgressModel",
            "bar_style": "success",
            "max": 42404,
            "_view_module": "@jupyter-widgets/controls",
            "_model_module_version": "1.5.0",
            "value": 42404,
            "_view_count": null,
            "_view_module_version": "1.5.0",
            "orientation": "horizontal",
            "min": 0,
            "description_tooltip": null,
            "_model_module": "@jupyter-widgets/controls",
            "layout": "IPY_MODEL_bc62c43f18f643cfa2ef0afafd87f4e4"
          }
        },
        "de50043448ca41778173ab6ce2c6b23b": {
          "model_module": "@jupyter-widgets/controls",
          "model_name": "HTMLModel",
          "state": {
            "_view_name": "HTMLView",
            "style": "IPY_MODEL_72e5db64eefc46f487f0b49109055b89",
            "_dom_classes": [],
            "description": "",
            "_model_name": "HTMLModel",
            "placeholder": "​",
            "_view_module": "@jupyter-widgets/controls",
            "_model_module_version": "1.5.0",
            "value": " 42404/42404 [04:15&lt;00:00, 166.01it/s]",
            "_view_count": null,
            "_view_module_version": "1.5.0",
            "description_tooltip": null,
            "_model_module": "@jupyter-widgets/controls",
            "layout": "IPY_MODEL_44c1ecd815c741cd95b61543507e9c7d"
          }
        },
        "5eb0b12f33b24891850b4f1f24e28fa0": {
          "model_module": "@jupyter-widgets/controls",
          "model_name": "ProgressStyleModel",
          "state": {
            "_view_name": "StyleView",
            "_model_name": "ProgressStyleModel",
            "description_width": "initial",
            "_view_module": "@jupyter-widgets/base",
            "_model_module_version": "1.5.0",
            "_view_count": null,
            "_view_module_version": "1.2.0",
            "bar_color": null,
            "_model_module": "@jupyter-widgets/controls"
          }
        },
        "bc62c43f18f643cfa2ef0afafd87f4e4": {
          "model_module": "@jupyter-widgets/base",
          "model_name": "LayoutModel",
          "state": {
            "_view_name": "LayoutView",
            "grid_template_rows": null,
            "right": null,
            "justify_content": null,
            "_view_module": "@jupyter-widgets/base",
            "overflow": null,
            "_model_module_version": "1.2.0",
            "_view_count": null,
            "flex_flow": null,
            "width": null,
            "min_width": null,
            "border": null,
            "align_items": null,
            "bottom": null,
            "_model_module": "@jupyter-widgets/base",
            "top": null,
            "grid_column": null,
            "overflow_y": null,
            "overflow_x": null,
            "grid_auto_flow": null,
            "grid_area": null,
            "grid_template_columns": null,
            "flex": null,
            "_model_name": "LayoutModel",
            "justify_items": null,
            "grid_row": null,
            "max_height": null,
            "align_content": null,
            "visibility": null,
            "align_self": null,
            "height": null,
            "min_height": null,
            "padding": null,
            "grid_auto_rows": null,
            "grid_gap": null,
            "max_width": null,
            "order": null,
            "_view_module_version": "1.2.0",
            "grid_template_areas": null,
            "object_position": null,
            "object_fit": null,
            "grid_auto_columns": null,
            "margin": null,
            "display": null,
            "left": null
          }
        },
        "72e5db64eefc46f487f0b49109055b89": {
          "model_module": "@jupyter-widgets/controls",
          "model_name": "DescriptionStyleModel",
          "state": {
            "_view_name": "StyleView",
            "_model_name": "DescriptionStyleModel",
            "description_width": "",
            "_view_module": "@jupyter-widgets/base",
            "_model_module_version": "1.5.0",
            "_view_count": null,
            "_view_module_version": "1.2.0",
            "_model_module": "@jupyter-widgets/controls"
          }
        },
        "44c1ecd815c741cd95b61543507e9c7d": {
          "model_module": "@jupyter-widgets/base",
          "model_name": "LayoutModel",
          "state": {
            "_view_name": "LayoutView",
            "grid_template_rows": null,
            "right": null,
            "justify_content": null,
            "_view_module": "@jupyter-widgets/base",
            "overflow": null,
            "_model_module_version": "1.2.0",
            "_view_count": null,
            "flex_flow": null,
            "width": null,
            "min_width": null,
            "border": null,
            "align_items": null,
            "bottom": null,
            "_model_module": "@jupyter-widgets/base",
            "top": null,
            "grid_column": null,
            "overflow_y": null,
            "overflow_x": null,
            "grid_auto_flow": null,
            "grid_area": null,
            "grid_template_columns": null,
            "flex": null,
            "_model_name": "LayoutModel",
            "justify_items": null,
            "grid_row": null,
            "max_height": null,
            "align_content": null,
            "visibility": null,
            "align_self": null,
            "height": null,
            "min_height": null,
            "padding": null,
            "grid_auto_rows": null,
            "grid_gap": null,
            "max_width": null,
            "order": null,
            "_view_module_version": "1.2.0",
            "grid_template_areas": null,
            "object_position": null,
            "object_fit": null,
            "grid_auto_columns": null,
            "margin": null,
            "display": null,
            "left": null
          }
        },
        "b267d1ec92194c768fe79345e7276a0b": {
          "model_module": "@jupyter-widgets/controls",
          "model_name": "HBoxModel",
          "state": {
            "_view_name": "HBoxView",
            "_dom_classes": [],
            "_model_name": "HBoxModel",
            "_view_module": "@jupyter-widgets/controls",
            "_model_module_version": "1.5.0",
            "_view_count": null,
            "_view_module_version": "1.5.0",
            "box_style": "",
            "layout": "IPY_MODEL_5369dd8e24304b1c9f6674577daf0aa8",
            "_model_module": "@jupyter-widgets/controls",
            "children": [
              "IPY_MODEL_18da0c6deb01468db406db22f6a47ec3",
              "IPY_MODEL_41a465095b114f80822820d80b675176"
            ]
          }
        },
        "5369dd8e24304b1c9f6674577daf0aa8": {
          "model_module": "@jupyter-widgets/base",
          "model_name": "LayoutModel",
          "state": {
            "_view_name": "LayoutView",
            "grid_template_rows": null,
            "right": null,
            "justify_content": null,
            "_view_module": "@jupyter-widgets/base",
            "overflow": null,
            "_model_module_version": "1.2.0",
            "_view_count": null,
            "flex_flow": null,
            "width": null,
            "min_width": null,
            "border": null,
            "align_items": null,
            "bottom": null,
            "_model_module": "@jupyter-widgets/base",
            "top": null,
            "grid_column": null,
            "overflow_y": null,
            "overflow_x": null,
            "grid_auto_flow": null,
            "grid_area": null,
            "grid_template_columns": null,
            "flex": null,
            "_model_name": "LayoutModel",
            "justify_items": null,
            "grid_row": null,
            "max_height": null,
            "align_content": null,
            "visibility": null,
            "align_self": null,
            "height": null,
            "min_height": null,
            "padding": null,
            "grid_auto_rows": null,
            "grid_gap": null,
            "max_width": null,
            "order": null,
            "_view_module_version": "1.2.0",
            "grid_template_areas": null,
            "object_position": null,
            "object_fit": null,
            "grid_auto_columns": null,
            "margin": null,
            "display": null,
            "left": null
          }
        },
        "18da0c6deb01468db406db22f6a47ec3": {
          "model_module": "@jupyter-widgets/controls",
          "model_name": "FloatProgressModel",
          "state": {
            "_view_name": "ProgressView",
            "style": "IPY_MODEL_14ff702816d54fe9ab9891812beb9936",
            "_dom_classes": [],
            "description": "100%",
            "_model_name": "FloatProgressModel",
            "bar_style": "success",
            "max": 3785,
            "_view_module": "@jupyter-widgets/controls",
            "_model_module_version": "1.5.0",
            "value": 3785,
            "_view_count": null,
            "_view_module_version": "1.5.0",
            "orientation": "horizontal",
            "min": 0,
            "description_tooltip": null,
            "_model_module": "@jupyter-widgets/controls",
            "layout": "IPY_MODEL_c35749a52b2e404e8c58441266469a56"
          }
        },
        "41a465095b114f80822820d80b675176": {
          "model_module": "@jupyter-widgets/controls",
          "model_name": "HTMLModel",
          "state": {
            "_view_name": "HTMLView",
            "style": "IPY_MODEL_0a6172b81a134cdd823838b4fe39bfb4",
            "_dom_classes": [],
            "description": "",
            "_model_name": "HTMLModel",
            "placeholder": "​",
            "_view_module": "@jupyter-widgets/controls",
            "_model_module_version": "1.5.0",
            "value": " 3785/3785 [08:48&lt;00:00,  7.16it/s]",
            "_view_count": null,
            "_view_module_version": "1.5.0",
            "description_tooltip": null,
            "_model_module": "@jupyter-widgets/controls",
            "layout": "IPY_MODEL_8a2046e443af4eb8b04de865da14edce"
          }
        },
        "14ff702816d54fe9ab9891812beb9936": {
          "model_module": "@jupyter-widgets/controls",
          "model_name": "ProgressStyleModel",
          "state": {
            "_view_name": "StyleView",
            "_model_name": "ProgressStyleModel",
            "description_width": "initial",
            "_view_module": "@jupyter-widgets/base",
            "_model_module_version": "1.5.0",
            "_view_count": null,
            "_view_module_version": "1.2.0",
            "bar_color": null,
            "_model_module": "@jupyter-widgets/controls"
          }
        },
        "c35749a52b2e404e8c58441266469a56": {
          "model_module": "@jupyter-widgets/base",
          "model_name": "LayoutModel",
          "state": {
            "_view_name": "LayoutView",
            "grid_template_rows": null,
            "right": null,
            "justify_content": null,
            "_view_module": "@jupyter-widgets/base",
            "overflow": null,
            "_model_module_version": "1.2.0",
            "_view_count": null,
            "flex_flow": null,
            "width": null,
            "min_width": null,
            "border": null,
            "align_items": null,
            "bottom": null,
            "_model_module": "@jupyter-widgets/base",
            "top": null,
            "grid_column": null,
            "overflow_y": null,
            "overflow_x": null,
            "grid_auto_flow": null,
            "grid_area": null,
            "grid_template_columns": null,
            "flex": null,
            "_model_name": "LayoutModel",
            "justify_items": null,
            "grid_row": null,
            "max_height": null,
            "align_content": null,
            "visibility": null,
            "align_self": null,
            "height": null,
            "min_height": null,
            "padding": null,
            "grid_auto_rows": null,
            "grid_gap": null,
            "max_width": null,
            "order": null,
            "_view_module_version": "1.2.0",
            "grid_template_areas": null,
            "object_position": null,
            "object_fit": null,
            "grid_auto_columns": null,
            "margin": null,
            "display": null,
            "left": null
          }
        },
        "0a6172b81a134cdd823838b4fe39bfb4": {
          "model_module": "@jupyter-widgets/controls",
          "model_name": "DescriptionStyleModel",
          "state": {
            "_view_name": "StyleView",
            "_model_name": "DescriptionStyleModel",
            "description_width": "",
            "_view_module": "@jupyter-widgets/base",
            "_model_module_version": "1.5.0",
            "_view_count": null,
            "_view_module_version": "1.2.0",
            "_model_module": "@jupyter-widgets/controls"
          }
        },
        "8a2046e443af4eb8b04de865da14edce": {
          "model_module": "@jupyter-widgets/base",
          "model_name": "LayoutModel",
          "state": {
            "_view_name": "LayoutView",
            "grid_template_rows": null,
            "right": null,
            "justify_content": null,
            "_view_module": "@jupyter-widgets/base",
            "overflow": null,
            "_model_module_version": "1.2.0",
            "_view_count": null,
            "flex_flow": null,
            "width": null,
            "min_width": null,
            "border": null,
            "align_items": null,
            "bottom": null,
            "_model_module": "@jupyter-widgets/base",
            "top": null,
            "grid_column": null,
            "overflow_y": null,
            "overflow_x": null,
            "grid_auto_flow": null,
            "grid_area": null,
            "grid_template_columns": null,
            "flex": null,
            "_model_name": "LayoutModel",
            "justify_items": null,
            "grid_row": null,
            "max_height": null,
            "align_content": null,
            "visibility": null,
            "align_self": null,
            "height": null,
            "min_height": null,
            "padding": null,
            "grid_auto_rows": null,
            "grid_gap": null,
            "max_width": null,
            "order": null,
            "_view_module_version": "1.2.0",
            "grid_template_areas": null,
            "object_position": null,
            "object_fit": null,
            "grid_auto_columns": null,
            "margin": null,
            "display": null,
            "left": null
          }
        },
        "6ed3b756946b4932bf3f8d9de8358426": {
          "model_module": "@jupyter-widgets/controls",
          "model_name": "HBoxModel",
          "state": {
            "_view_name": "HBoxView",
            "_dom_classes": [],
            "_model_name": "HBoxModel",
            "_view_module": "@jupyter-widgets/controls",
            "_model_module_version": "1.5.0",
            "_view_count": null,
            "_view_module_version": "1.5.0",
            "box_style": "",
            "layout": "IPY_MODEL_69296dad43f24971ba4a973eefa9f539",
            "_model_module": "@jupyter-widgets/controls",
            "children": [
              "IPY_MODEL_dcc04bf497ba435fa78b2626b3890b88",
              "IPY_MODEL_77395e05940f47c68dec9d58ee5c2350"
            ]
          }
        },
        "69296dad43f24971ba4a973eefa9f539": {
          "model_module": "@jupyter-widgets/base",
          "model_name": "LayoutModel",
          "state": {
            "_view_name": "LayoutView",
            "grid_template_rows": null,
            "right": null,
            "justify_content": null,
            "_view_module": "@jupyter-widgets/base",
            "overflow": null,
            "_model_module_version": "1.2.0",
            "_view_count": null,
            "flex_flow": null,
            "width": null,
            "min_width": null,
            "border": null,
            "align_items": null,
            "bottom": null,
            "_model_module": "@jupyter-widgets/base",
            "top": null,
            "grid_column": null,
            "overflow_y": null,
            "overflow_x": null,
            "grid_auto_flow": null,
            "grid_area": null,
            "grid_template_columns": null,
            "flex": null,
            "_model_name": "LayoutModel",
            "justify_items": null,
            "grid_row": null,
            "max_height": null,
            "align_content": null,
            "visibility": null,
            "align_self": null,
            "height": null,
            "min_height": null,
            "padding": null,
            "grid_auto_rows": null,
            "grid_gap": null,
            "max_width": null,
            "order": null,
            "_view_module_version": "1.2.0",
            "grid_template_areas": null,
            "object_position": null,
            "object_fit": null,
            "grid_auto_columns": null,
            "margin": null,
            "display": null,
            "left": null
          }
        },
        "dcc04bf497ba435fa78b2626b3890b88": {
          "model_module": "@jupyter-widgets/controls",
          "model_name": "FloatProgressModel",
          "state": {
            "_view_name": "ProgressView",
            "style": "IPY_MODEL_3338d471e641443fb57efb9d5534dfcb",
            "_dom_classes": [],
            "description": "100%",
            "_model_name": "FloatProgressModel",
            "bar_style": "success",
            "max": 3785,
            "_view_module": "@jupyter-widgets/controls",
            "_model_module_version": "1.5.0",
            "value": 3785,
            "_view_count": null,
            "_view_module_version": "1.5.0",
            "orientation": "horizontal",
            "min": 0,
            "description_tooltip": null,
            "_model_module": "@jupyter-widgets/controls",
            "layout": "IPY_MODEL_1398a4c4f0b34cb980d597d9a2eb7e68"
          }
        },
        "77395e05940f47c68dec9d58ee5c2350": {
          "model_module": "@jupyter-widgets/controls",
          "model_name": "HTMLModel",
          "state": {
            "_view_name": "HTMLView",
            "style": "IPY_MODEL_c4abfac475bd4e8cbf93ec57ec28e59a",
            "_dom_classes": [],
            "description": "",
            "_model_name": "HTMLModel",
            "placeholder": "​",
            "_view_module": "@jupyter-widgets/controls",
            "_model_module_version": "1.5.0",
            "value": " 3785/3785 [08:36&lt;00:00,  7.34it/s]",
            "_view_count": null,
            "_view_module_version": "1.5.0",
            "description_tooltip": null,
            "_model_module": "@jupyter-widgets/controls",
            "layout": "IPY_MODEL_106cdd09bc5045bd96ddb474162563ba"
          }
        },
        "3338d471e641443fb57efb9d5534dfcb": {
          "model_module": "@jupyter-widgets/controls",
          "model_name": "ProgressStyleModel",
          "state": {
            "_view_name": "StyleView",
            "_model_name": "ProgressStyleModel",
            "description_width": "initial",
            "_view_module": "@jupyter-widgets/base",
            "_model_module_version": "1.5.0",
            "_view_count": null,
            "_view_module_version": "1.2.0",
            "bar_color": null,
            "_model_module": "@jupyter-widgets/controls"
          }
        },
        "1398a4c4f0b34cb980d597d9a2eb7e68": {
          "model_module": "@jupyter-widgets/base",
          "model_name": "LayoutModel",
          "state": {
            "_view_name": "LayoutView",
            "grid_template_rows": null,
            "right": null,
            "justify_content": null,
            "_view_module": "@jupyter-widgets/base",
            "overflow": null,
            "_model_module_version": "1.2.0",
            "_view_count": null,
            "flex_flow": null,
            "width": null,
            "min_width": null,
            "border": null,
            "align_items": null,
            "bottom": null,
            "_model_module": "@jupyter-widgets/base",
            "top": null,
            "grid_column": null,
            "overflow_y": null,
            "overflow_x": null,
            "grid_auto_flow": null,
            "grid_area": null,
            "grid_template_columns": null,
            "flex": null,
            "_model_name": "LayoutModel",
            "justify_items": null,
            "grid_row": null,
            "max_height": null,
            "align_content": null,
            "visibility": null,
            "align_self": null,
            "height": null,
            "min_height": null,
            "padding": null,
            "grid_auto_rows": null,
            "grid_gap": null,
            "max_width": null,
            "order": null,
            "_view_module_version": "1.2.0",
            "grid_template_areas": null,
            "object_position": null,
            "object_fit": null,
            "grid_auto_columns": null,
            "margin": null,
            "display": null,
            "left": null
          }
        },
        "c4abfac475bd4e8cbf93ec57ec28e59a": {
          "model_module": "@jupyter-widgets/controls",
          "model_name": "DescriptionStyleModel",
          "state": {
            "_view_name": "StyleView",
            "_model_name": "DescriptionStyleModel",
            "description_width": "",
            "_view_module": "@jupyter-widgets/base",
            "_model_module_version": "1.5.0",
            "_view_count": null,
            "_view_module_version": "1.2.0",
            "_model_module": "@jupyter-widgets/controls"
          }
        },
        "106cdd09bc5045bd96ddb474162563ba": {
          "model_module": "@jupyter-widgets/base",
          "model_name": "LayoutModel",
          "state": {
            "_view_name": "LayoutView",
            "grid_template_rows": null,
            "right": null,
            "justify_content": null,
            "_view_module": "@jupyter-widgets/base",
            "overflow": null,
            "_model_module_version": "1.2.0",
            "_view_count": null,
            "flex_flow": null,
            "width": null,
            "min_width": null,
            "border": null,
            "align_items": null,
            "bottom": null,
            "_model_module": "@jupyter-widgets/base",
            "top": null,
            "grid_column": null,
            "overflow_y": null,
            "overflow_x": null,
            "grid_auto_flow": null,
            "grid_area": null,
            "grid_template_columns": null,
            "flex": null,
            "_model_name": "LayoutModel",
            "justify_items": null,
            "grid_row": null,
            "max_height": null,
            "align_content": null,
            "visibility": null,
            "align_self": null,
            "height": null,
            "min_height": null,
            "padding": null,
            "grid_auto_rows": null,
            "grid_gap": null,
            "max_width": null,
            "order": null,
            "_view_module_version": "1.2.0",
            "grid_template_areas": null,
            "object_position": null,
            "object_fit": null,
            "grid_auto_columns": null,
            "margin": null,
            "display": null,
            "left": null
          }
        },
        "01d1421e1b94449eb10c105c5b96669f": {
          "model_module": "@jupyter-widgets/controls",
          "model_name": "HBoxModel",
          "state": {
            "_view_name": "HBoxView",
            "_dom_classes": [],
            "_model_name": "HBoxModel",
            "_view_module": "@jupyter-widgets/controls",
            "_model_module_version": "1.5.0",
            "_view_count": null,
            "_view_module_version": "1.5.0",
            "box_style": "",
            "layout": "IPY_MODEL_ff0d1495491d47d98e8229d375f3587a",
            "_model_module": "@jupyter-widgets/controls",
            "children": [
              "IPY_MODEL_44f44dce18cf4481bed2712418bd5419",
              "IPY_MODEL_3ca84ad83e204db0a2ece3daa3b532cb"
            ]
          }
        },
        "ff0d1495491d47d98e8229d375f3587a": {
          "model_module": "@jupyter-widgets/base",
          "model_name": "LayoutModel",
          "state": {
            "_view_name": "LayoutView",
            "grid_template_rows": null,
            "right": null,
            "justify_content": null,
            "_view_module": "@jupyter-widgets/base",
            "overflow": null,
            "_model_module_version": "1.2.0",
            "_view_count": null,
            "flex_flow": null,
            "width": null,
            "min_width": null,
            "border": null,
            "align_items": null,
            "bottom": null,
            "_model_module": "@jupyter-widgets/base",
            "top": null,
            "grid_column": null,
            "overflow_y": null,
            "overflow_x": null,
            "grid_auto_flow": null,
            "grid_area": null,
            "grid_template_columns": null,
            "flex": null,
            "_model_name": "LayoutModel",
            "justify_items": null,
            "grid_row": null,
            "max_height": null,
            "align_content": null,
            "visibility": null,
            "align_self": null,
            "height": null,
            "min_height": null,
            "padding": null,
            "grid_auto_rows": null,
            "grid_gap": null,
            "max_width": null,
            "order": null,
            "_view_module_version": "1.2.0",
            "grid_template_areas": null,
            "object_position": null,
            "object_fit": null,
            "grid_auto_columns": null,
            "margin": null,
            "display": null,
            "left": null
          }
        },
        "44f44dce18cf4481bed2712418bd5419": {
          "model_module": "@jupyter-widgets/controls",
          "model_name": "FloatProgressModel",
          "state": {
            "_view_name": "ProgressView",
            "style": "IPY_MODEL_3f61de4f87df40cbb9536f3f6e86913b",
            "_dom_classes": [],
            "description": "100%",
            "_model_name": "FloatProgressModel",
            "bar_style": "success",
            "max": 3811,
            "_view_module": "@jupyter-widgets/controls",
            "_model_module_version": "1.5.0",
            "value": 3811,
            "_view_count": null,
            "_view_module_version": "1.5.0",
            "orientation": "horizontal",
            "min": 0,
            "description_tooltip": null,
            "_model_module": "@jupyter-widgets/controls",
            "layout": "IPY_MODEL_da6fb925ad1f415c844c23d231fff0ee"
          }
        },
        "3ca84ad83e204db0a2ece3daa3b532cb": {
          "model_module": "@jupyter-widgets/controls",
          "model_name": "HTMLModel",
          "state": {
            "_view_name": "HTMLView",
            "style": "IPY_MODEL_e31d54dad3d54859a4c5c615db38c00e",
            "_dom_classes": [],
            "description": "",
            "_model_name": "HTMLModel",
            "placeholder": "​",
            "_view_module": "@jupyter-widgets/controls",
            "_model_module_version": "1.5.0",
            "value": " 3811/3811 [00:06&lt;00:00, 604.23it/s]",
            "_view_count": null,
            "_view_module_version": "1.5.0",
            "description_tooltip": null,
            "_model_module": "@jupyter-widgets/controls",
            "layout": "IPY_MODEL_8e922e91b47e457baef7188ea94b7f7f"
          }
        },
        "3f61de4f87df40cbb9536f3f6e86913b": {
          "model_module": "@jupyter-widgets/controls",
          "model_name": "ProgressStyleModel",
          "state": {
            "_view_name": "StyleView",
            "_model_name": "ProgressStyleModel",
            "description_width": "initial",
            "_view_module": "@jupyter-widgets/base",
            "_model_module_version": "1.5.0",
            "_view_count": null,
            "_view_module_version": "1.2.0",
            "bar_color": null,
            "_model_module": "@jupyter-widgets/controls"
          }
        },
        "da6fb925ad1f415c844c23d231fff0ee": {
          "model_module": "@jupyter-widgets/base",
          "model_name": "LayoutModel",
          "state": {
            "_view_name": "LayoutView",
            "grid_template_rows": null,
            "right": null,
            "justify_content": null,
            "_view_module": "@jupyter-widgets/base",
            "overflow": null,
            "_model_module_version": "1.2.0",
            "_view_count": null,
            "flex_flow": null,
            "width": null,
            "min_width": null,
            "border": null,
            "align_items": null,
            "bottom": null,
            "_model_module": "@jupyter-widgets/base",
            "top": null,
            "grid_column": null,
            "overflow_y": null,
            "overflow_x": null,
            "grid_auto_flow": null,
            "grid_area": null,
            "grid_template_columns": null,
            "flex": null,
            "_model_name": "LayoutModel",
            "justify_items": null,
            "grid_row": null,
            "max_height": null,
            "align_content": null,
            "visibility": null,
            "align_self": null,
            "height": null,
            "min_height": null,
            "padding": null,
            "grid_auto_rows": null,
            "grid_gap": null,
            "max_width": null,
            "order": null,
            "_view_module_version": "1.2.0",
            "grid_template_areas": null,
            "object_position": null,
            "object_fit": null,
            "grid_auto_columns": null,
            "margin": null,
            "display": null,
            "left": null
          }
        },
        "e31d54dad3d54859a4c5c615db38c00e": {
          "model_module": "@jupyter-widgets/controls",
          "model_name": "DescriptionStyleModel",
          "state": {
            "_view_name": "StyleView",
            "_model_name": "DescriptionStyleModel",
            "description_width": "",
            "_view_module": "@jupyter-widgets/base",
            "_model_module_version": "1.5.0",
            "_view_count": null,
            "_view_module_version": "1.2.0",
            "_model_module": "@jupyter-widgets/controls"
          }
        },
        "8e922e91b47e457baef7188ea94b7f7f": {
          "model_module": "@jupyter-widgets/base",
          "model_name": "LayoutModel",
          "state": {
            "_view_name": "LayoutView",
            "grid_template_rows": null,
            "right": null,
            "justify_content": null,
            "_view_module": "@jupyter-widgets/base",
            "overflow": null,
            "_model_module_version": "1.2.0",
            "_view_count": null,
            "flex_flow": null,
            "width": null,
            "min_width": null,
            "border": null,
            "align_items": null,
            "bottom": null,
            "_model_module": "@jupyter-widgets/base",
            "top": null,
            "grid_column": null,
            "overflow_y": null,
            "overflow_x": null,
            "grid_auto_flow": null,
            "grid_area": null,
            "grid_template_columns": null,
            "flex": null,
            "_model_name": "LayoutModel",
            "justify_items": null,
            "grid_row": null,
            "max_height": null,
            "align_content": null,
            "visibility": null,
            "align_self": null,
            "height": null,
            "min_height": null,
            "padding": null,
            "grid_auto_rows": null,
            "grid_gap": null,
            "max_width": null,
            "order": null,
            "_view_module_version": "1.2.0",
            "grid_template_areas": null,
            "object_position": null,
            "object_fit": null,
            "grid_auto_columns": null,
            "margin": null,
            "display": null,
            "left": null
          }
        },
        "c60683f829614019816d52d43c2f0be3": {
          "model_module": "@jupyter-widgets/controls",
          "model_name": "HBoxModel",
          "state": {
            "_view_name": "HBoxView",
            "_dom_classes": [],
            "_model_name": "HBoxModel",
            "_view_module": "@jupyter-widgets/controls",
            "_model_module_version": "1.5.0",
            "_view_count": null,
            "_view_module_version": "1.5.0",
            "box_style": "",
            "layout": "IPY_MODEL_a30934b9158141e8a26481a078fd2040",
            "_model_module": "@jupyter-widgets/controls",
            "children": [
              "IPY_MODEL_2980790e657b4e1cbc055271368eec11",
              "IPY_MODEL_37851bb27a93414d9136172112738d2a"
            ]
          }
        },
        "a30934b9158141e8a26481a078fd2040": {
          "model_module": "@jupyter-widgets/base",
          "model_name": "LayoutModel",
          "state": {
            "_view_name": "LayoutView",
            "grid_template_rows": null,
            "right": null,
            "justify_content": null,
            "_view_module": "@jupyter-widgets/base",
            "overflow": null,
            "_model_module_version": "1.2.0",
            "_view_count": null,
            "flex_flow": null,
            "width": null,
            "min_width": null,
            "border": null,
            "align_items": null,
            "bottom": null,
            "_model_module": "@jupyter-widgets/base",
            "top": null,
            "grid_column": null,
            "overflow_y": null,
            "overflow_x": null,
            "grid_auto_flow": null,
            "grid_area": null,
            "grid_template_columns": null,
            "flex": null,
            "_model_name": "LayoutModel",
            "justify_items": null,
            "grid_row": null,
            "max_height": null,
            "align_content": null,
            "visibility": null,
            "align_self": null,
            "height": null,
            "min_height": null,
            "padding": null,
            "grid_auto_rows": null,
            "grid_gap": null,
            "max_width": null,
            "order": null,
            "_view_module_version": "1.2.0",
            "grid_template_areas": null,
            "object_position": null,
            "object_fit": null,
            "grid_auto_columns": null,
            "margin": null,
            "display": null,
            "left": null
          }
        },
        "2980790e657b4e1cbc055271368eec11": {
          "model_module": "@jupyter-widgets/controls",
          "model_name": "FloatProgressModel",
          "state": {
            "_view_name": "ProgressView",
            "style": "IPY_MODEL_12836a2ffcb74c1791f12ae92dde27d7",
            "_dom_classes": [],
            "description": "100%",
            "_model_name": "FloatProgressModel",
            "bar_style": "success",
            "max": 3811,
            "_view_module": "@jupyter-widgets/controls",
            "_model_module_version": "1.5.0",
            "value": 3811,
            "_view_count": null,
            "_view_module_version": "1.5.0",
            "orientation": "horizontal",
            "min": 0,
            "description_tooltip": null,
            "_model_module": "@jupyter-widgets/controls",
            "layout": "IPY_MODEL_f5ce6e15763a43a89f470e0d9aeba9ad"
          }
        },
        "37851bb27a93414d9136172112738d2a": {
          "model_module": "@jupyter-widgets/controls",
          "model_name": "HTMLModel",
          "state": {
            "_view_name": "HTMLView",
            "style": "IPY_MODEL_f6cffc4163144e29a93e0f0fc62a957e",
            "_dom_classes": [],
            "description": "",
            "_model_name": "HTMLModel",
            "placeholder": "​",
            "_view_module": "@jupyter-widgets/controls",
            "_model_module_version": "1.5.0",
            "value": " 3811/3811 [00:17&lt;00:00, 216.75it/s]",
            "_view_count": null,
            "_view_module_version": "1.5.0",
            "description_tooltip": null,
            "_model_module": "@jupyter-widgets/controls",
            "layout": "IPY_MODEL_dec1114a0b0e4217b17727deafba32fa"
          }
        },
        "12836a2ffcb74c1791f12ae92dde27d7": {
          "model_module": "@jupyter-widgets/controls",
          "model_name": "ProgressStyleModel",
          "state": {
            "_view_name": "StyleView",
            "_model_name": "ProgressStyleModel",
            "description_width": "initial",
            "_view_module": "@jupyter-widgets/base",
            "_model_module_version": "1.5.0",
            "_view_count": null,
            "_view_module_version": "1.2.0",
            "bar_color": null,
            "_model_module": "@jupyter-widgets/controls"
          }
        },
        "f5ce6e15763a43a89f470e0d9aeba9ad": {
          "model_module": "@jupyter-widgets/base",
          "model_name": "LayoutModel",
          "state": {
            "_view_name": "LayoutView",
            "grid_template_rows": null,
            "right": null,
            "justify_content": null,
            "_view_module": "@jupyter-widgets/base",
            "overflow": null,
            "_model_module_version": "1.2.0",
            "_view_count": null,
            "flex_flow": null,
            "width": null,
            "min_width": null,
            "border": null,
            "align_items": null,
            "bottom": null,
            "_model_module": "@jupyter-widgets/base",
            "top": null,
            "grid_column": null,
            "overflow_y": null,
            "overflow_x": null,
            "grid_auto_flow": null,
            "grid_area": null,
            "grid_template_columns": null,
            "flex": null,
            "_model_name": "LayoutModel",
            "justify_items": null,
            "grid_row": null,
            "max_height": null,
            "align_content": null,
            "visibility": null,
            "align_self": null,
            "height": null,
            "min_height": null,
            "padding": null,
            "grid_auto_rows": null,
            "grid_gap": null,
            "max_width": null,
            "order": null,
            "_view_module_version": "1.2.0",
            "grid_template_areas": null,
            "object_position": null,
            "object_fit": null,
            "grid_auto_columns": null,
            "margin": null,
            "display": null,
            "left": null
          }
        },
        "f6cffc4163144e29a93e0f0fc62a957e": {
          "model_module": "@jupyter-widgets/controls",
          "model_name": "DescriptionStyleModel",
          "state": {
            "_view_name": "StyleView",
            "_model_name": "DescriptionStyleModel",
            "description_width": "",
            "_view_module": "@jupyter-widgets/base",
            "_model_module_version": "1.5.0",
            "_view_count": null,
            "_view_module_version": "1.2.0",
            "_model_module": "@jupyter-widgets/controls"
          }
        },
        "dec1114a0b0e4217b17727deafba32fa": {
          "model_module": "@jupyter-widgets/base",
          "model_name": "LayoutModel",
          "state": {
            "_view_name": "LayoutView",
            "grid_template_rows": null,
            "right": null,
            "justify_content": null,
            "_view_module": "@jupyter-widgets/base",
            "overflow": null,
            "_model_module_version": "1.2.0",
            "_view_count": null,
            "flex_flow": null,
            "width": null,
            "min_width": null,
            "border": null,
            "align_items": null,
            "bottom": null,
            "_model_module": "@jupyter-widgets/base",
            "top": null,
            "grid_column": null,
            "overflow_y": null,
            "overflow_x": null,
            "grid_auto_flow": null,
            "grid_area": null,
            "grid_template_columns": null,
            "flex": null,
            "_model_name": "LayoutModel",
            "justify_items": null,
            "grid_row": null,
            "max_height": null,
            "align_content": null,
            "visibility": null,
            "align_self": null,
            "height": null,
            "min_height": null,
            "padding": null,
            "grid_auto_rows": null,
            "grid_gap": null,
            "max_width": null,
            "order": null,
            "_view_module_version": "1.2.0",
            "grid_template_areas": null,
            "object_position": null,
            "object_fit": null,
            "grid_auto_columns": null,
            "margin": null,
            "display": null,
            "left": null
          }
        }
      }
    }
  },
  "cells": [
    {
      "cell_type": "code",
      "metadata": {
        "colab": {
          "base_uri": "https://localhost:8080/"
        },
        "id": "a6rURdgJAqKJ",
        "outputId": "361f2aed-bffe-46a7-b12a-152bad6226eb"
      },
      "source": [
        "from google.colab import drive\n",
        "drive.mount('/content/gdrive')"
      ],
      "execution_count": null,
      "outputs": [
        {
          "output_type": "stream",
          "text": [
            "Mounted at /content/gdrive\n"
          ],
          "name": "stdout"
        }
      ]
    },
    {
      "cell_type": "code",
      "metadata": {
        "colab": {
          "base_uri": "https://localhost:8080/",
          "height": 132
        },
        "id": "yjLxwX1IAxT1",
        "outputId": "f3744470-6e7e-43ca-b65c-fc2fea09d55e"
      },
      "source": [
        "# For CLIP model and cosine function\n",
        "!pip install sentence-transformers --quiet\n",
        "import sys\n",
        "sys.path.append('/content/gdrive/MyDrive')\n",
        "\n",
        "import sentence_transformers\n",
        "from sentence_transformers import SentenceTransformer, util\n",
        "import glob\n",
        "import pickle\n",
        "import zipfile\n",
        "from collections import defaultdict\n",
        "import tqdm.notebook as tq\n",
        "from io import BytesIO\n",
        "\n",
        "import torch\n",
        "from torch import cuda\n",
        "device = 'cuda' if cuda.is_available() else 'cpu'\n",
        "device"
      ],
      "execution_count": null,
      "outputs": [
        {
          "output_type": "stream",
          "text": [
            "\u001b[K     |████████████████████████████████| 81kB 3.5MB/s \n",
            "\u001b[K     |████████████████████████████████| 2.1MB 9.3MB/s \n",
            "\u001b[K     |████████████████████████████████| 1.2MB 61.9MB/s \n",
            "\u001b[K     |████████████████████████████████| 3.3MB 61.9MB/s \n",
            "\u001b[K     |████████████████████████████████| 901kB 60.8MB/s \n",
            "\u001b[?25h  Building wheel for sentence-transformers (setup.py) ... \u001b[?25l\u001b[?25hdone\n"
          ],
          "name": "stdout"
        },
        {
          "output_type": "execute_result",
          "data": {
            "application/vnd.google.colaboratory.intrinsic+json": {
              "type": "string"
            },
            "text/plain": [
              "'cpu'"
            ]
          },
          "metadata": {
            "tags": []
          },
          "execution_count": 2
        }
      ]
    },
    {
      "cell_type": "code",
      "metadata": {
        "colab": {
          "base_uri": "https://localhost:8080/"
        },
        "id": "B12DsaigA0NY",
        "outputId": "ff5e6356-4561-43a4-a998-d0e0fc4abd05"
      },
      "source": [
        "from refer import REFER\n",
        "import numpy as np\n",
        "import skimage.io as sio\n",
        "import matplotlib.pyplot as plt\n",
        "import os\n",
        "from PIL import Image\n",
        "\n",
        "# 12 seconds on high ram, gpu\n",
        "data_root = '/content/gdrive/MyDrive/coco' \n",
        "dataset = 'refcoco' \n",
        "splitBy = 'unc'\n",
        "refer = REFER(data_root, dataset, splitBy)\n",
        "\n",
        "# Creating sets of refs for train, eval, and testing.\n",
        "TRAIN_IDS = refer.getRefIds(split='train')\n",
        "EVAL_IDS = refer.getRefIds(split='val')\n",
        "TEST_IDS = refer.getRefIds(split='test')\n",
        "\n",
        "def compute_cosine(eOne, eTwo):\n",
        "    cos_scores = util.cos_sim(eOne, eTwo)\n",
        "    return cos_scores"
      ],
      "execution_count": null,
      "outputs": [
        {
          "output_type": "stream",
          "text": [
            "loading dataset refcoco into memory...\n",
            "creating index...\n",
            "index created.\n",
            "DONE (t=15.70s)\n"
          ],
          "name": "stdout"
        }
      ]
    },
    {
      "cell_type": "code",
      "metadata": {
        "id": "ea1Xi-TB3nGL"
      },
      "source": [
        "def check_cuda():\n",
        "  # see how much memory used\n",
        "  t = torch.cuda.get_device_properties(0).total_memory\n",
        "  r = torch.cuda.memory_reserved(0) \n",
        "  a = torch.cuda.memory_allocated(0)\n",
        "  f = r-a  # free inside reserved\n",
        "  return f"
      ],
      "execution_count": null,
      "outputs": []
    },
    {
      "cell_type": "markdown",
      "metadata": {
        "id": "xdSirMQGFEET"
      },
      "source": [
        "# Create Positive Samples"
      ]
    },
    {
      "cell_type": "code",
      "metadata": {
        "id": "UHRCQ5F7FHAI"
      },
      "source": [
        "def create_positive_samples(ref_split, main_img_features, ann_img_features, sentence_features, tensor_list):\n",
        "  for ref_id in tq.tqdm(ref_split):\n",
        "    curr_ref = refer.Refs[ref_id]\n",
        "\n",
        "    img_id = curr_ref['image_id']\n",
        "    ann_id = curr_ref['ann_id']\n",
        "    sent_ids = curr_ref['sent_ids']\n",
        "\n",
        "    # Extract features from appropiate dictionaries\n",
        "    try: \n",
        "      img_emb = main_img_features[img_id][0]\n",
        "      ann_emb = ann_img_features[ann_id][0]\n",
        "      ann_pos_feat = ann_img_features[ann_id][1]\n",
        "    except: \n",
        "      continue\n",
        "\n",
        "    # Create tensor from annotation positional features\n",
        "    ann_pos_t = torch.flatten(torch.from_numpy(ann_pos_feat)).to(device)\n",
        "\n",
        "    sent_embs = []\n",
        "    for s_id in sent_ids:\n",
        "      try:\n",
        "        sent_embs.append(sentence_features[s_id][0])\n",
        "      except:\n",
        "        # Sentence embedding not found. Skip this sentence\n",
        "        continue\n",
        "\n",
        "    # Now, for each sentence embedding, generate a positve sample. Compute cosines and concat all feature tensors\n",
        "    for sent_embedding in sent_embs:\n",
        "      img_cos = torch.flatten(compute_cosine(img_emb, sent_embedding))\n",
        "      ann_cos = torch.flatten(compute_cosine(ann_emb, sent_embedding))\n",
        "\n",
        "      # All 6 features now ready to be joined into one tensor\n",
        "      tensor_list.append(torch.cat((img_emb, ann_emb, sent_embedding, ann_pos_t, img_cos, ann_cos), 0).to('cpu'))\n",
        "\n",
        "  return"
      ],
      "execution_count": null,
      "outputs": []
    },
    {
      "cell_type": "code",
      "metadata": {
        "colab": {
          "base_uri": "https://localhost:8080/",
          "height": 66,
          "referenced_widgets": [
            "ad48af3166a54bf2bc5a4baf4ca8e7e5",
            "79077a230e454ca4a5f94b19c70807a2",
            "8d1a59cea91c40a9960d5d78d8b79fe3",
            "b48c6e46564b47369a7b3f40fb467bbb",
            "e7cb3d805a574822846d7222f93e5b45",
            "dad9258d86da497fb1205d877624be6f",
            "da146f7c9ec149cea9b2bca9bec8fb9b",
            "e249c84b66ee48fbba8728b4e52c36a8"
          ]
        },
        "id": "-1s5vrFEHHYJ",
        "outputId": "4cdcc88b-2ad0-4036-c877-27504a2569f7"
      },
      "source": [
        "create_positive_samples(TRAIN_IDS, main_img_emb, ann_features, sentence_emb, all_samples) # len = 120264\n",
        "pos_size = len(all_samples) # 120264 positive samples created."
      ],
      "execution_count": null,
      "outputs": [
        {
          "output_type": "display_data",
          "data": {
            "application/vnd.jupyter.widget-view+json": {
              "model_id": "ad48af3166a54bf2bc5a4baf4ca8e7e5",
              "version_minor": 0,
              "version_major": 2
            },
            "text/plain": [
              "HBox(children=(FloatProgress(value=0.0, max=42404.0), HTML(value='')))"
            ]
          },
          "metadata": {
            "tags": []
          }
        },
        {
          "output_type": "stream",
          "text": [
            "\n"
          ],
          "name": "stdout"
        }
      ]
    },
    {
      "cell_type": "markdown",
      "metadata": {
        "id": "FsM77QFHGhAM"
      },
      "source": [
        "# Negative Samples"
      ]
    },
    {
      "cell_type": "code",
      "metadata": {
        "id": "yCYRQPFiGWzH"
      },
      "source": [
        "def related_negative_samples(ref_split, main_img_features, ann_img_features, sentence_features, tensor_list):\n",
        "\n",
        "  for ref_id in tq.tqdm(ref_split):\n",
        "    curr_ref = refer.Refs[ref_id]\n",
        "\n",
        "    img_id = curr_ref['image_id']\n",
        "    matching_ann_id = curr_ref['ann_id']\n",
        "    sent_ids = curr_ref['sent_ids']\n",
        "\n",
        "    # Get main image embedding\n",
        "    try: \n",
        "      img_emb = main_img_features[img_id][0]\n",
        "    except: \n",
        "      continue\n",
        "\n",
        "    # Load embeddings for sentences tied to current reference\n",
        "    sent_embs = []\n",
        "    for s_id in sent_ids:\n",
        "      try:\n",
        "        sent_embs.append(sentence_features[s_id][0])\n",
        "      except:\n",
        "        continue\n",
        "\n",
        "    # Get all annotations for current image_id\n",
        "    img_anns = refer.imgToAnns[img_id]\n",
        "\n",
        "    ann_count = 0\n",
        "    for related_ann in img_anns:\n",
        "      if ann_count > 2: break\n",
        "      current_ann_id = related_ann['id']\n",
        "\n",
        "      # Don't include positive sample\n",
        "      if current_ann_id == matching_ann_id:\n",
        "        continue\n",
        "\n",
        "      # Attempt to pull out ann embedding\n",
        "      try:\n",
        "        ann_emb = ann_img_features[current_ann_id][0]\n",
        "        ann_pos_feat = ann_img_features[current_ann_id][1]\n",
        "      except:\n",
        "        continue\n",
        "\n",
        "\n",
        "      # Create tensor from annotation positional features\n",
        "      ann_pos_t = torch.flatten(torch.from_numpy(ann_pos_feat)).to(device)\n",
        "\n",
        "\n",
        "      # Generate a negative sample for each sentence embedding.\n",
        "      for sent_embedding in sent_embs:\n",
        "        img_cos = torch.flatten(compute_cosine(img_emb, sent_embedding))\n",
        "        ann_cos = torch.flatten(compute_cosine(ann_emb, sent_embedding))\n",
        "\n",
        "        # All 6 features now ready to be joined into one tensor\n",
        "        tensor_list.append(torch.cat((img_emb, ann_emb, sent_embedding, ann_pos_t, img_cos, ann_cos), 0).to('cpu'))\n",
        "\n",
        "        # Limit to only 4 addtional negative samples\n",
        "      ann_count += 1\n",
        "  return "
      ],
      "execution_count": null,
      "outputs": []
    },
    {
      "cell_type": "code",
      "metadata": {
        "colab": {
          "base_uri": "https://localhost:8080/",
          "height": 66,
          "referenced_widgets": [
            "b397e3bb4ca84a90ac129deb1efdbfa6",
            "4395f9b7edf64651ab36947dd4caa62c",
            "919249f64c5342809f9dd86813e9fde7",
            "de50043448ca41778173ab6ce2c6b23b",
            "5eb0b12f33b24891850b4f1f24e28fa0",
            "bc62c43f18f643cfa2ef0afafd87f4e4",
            "72e5db64eefc46f487f0b49109055b89",
            "44c1ecd815c741cd95b61543507e9c7d"
          ]
        },
        "id": "ZcFoUKXXIE7E",
        "outputId": "bac3a143-c268-427b-a442-6681d52e8392"
      },
      "source": [
        "related_negative_samples(TRAIN_IDS, main_img_emb, ann_features, sentence_emb, all_samples) \n",
        "neg_size = len(all_samples) - pos_size # 335668 negative samples created.\n",
        "# 4 minutes, 10.53 gb at end for 4 negative samples\n",
        "# reached a high of 22.35/25 gb when saving tensors"
      ],
      "execution_count": null,
      "outputs": [
        {
          "output_type": "display_data",
          "data": {
            "application/vnd.jupyter.widget-view+json": {
              "model_id": "b397e3bb4ca84a90ac129deb1efdbfa6",
              "version_minor": 0,
              "version_major": 2
            },
            "text/plain": [
              "HBox(children=(FloatProgress(value=0.0, max=42404.0), HTML(value='')))"
            ]
          },
          "metadata": {
            "tags": []
          }
        },
        {
          "output_type": "stream",
          "text": [
            "\n"
          ],
          "name": "stdout"
        }
      ]
    },
    {
      "cell_type": "code",
      "metadata": {
        "id": "c5V27YrLKz7A"
      },
      "source": [
        "import pickle\n",
        "\n",
        "# Save coco train image embeddings to file\n",
        "with open('/content/gdrive/MyDrive/sample_list/train_data.pickle', 'wb') as handle:\n",
        "  pickle.dump(all_samples, handle)\n",
        "\n",
        "# Open\n",
        "#with open('coco_train_img_feats.pickle', 'rb') as handle:\n",
        " # coco_train_img_feats = pickle.load(handle)"
      ],
      "execution_count": null,
      "outputs": []
    },
    {
      "cell_type": "markdown",
      "metadata": {
        "id": "9SlaKU1vER9d"
      },
      "source": [
        "# Test Set sample creation\n",
        "\n",
        "\n",
        "\n"
      ]
    },
    {
      "cell_type": "code",
      "metadata": {
        "id": "44MUuRb7EafQ"
      },
      "source": [
        "# LOAD TEST EMBEDDINGS AND CREATE SAMPLES\n",
        "\n",
        "with open('/content/gdrive/MyDrive/embeddings/test_img_embeddings.pickle', 'rb') as handle:\n",
        "  test_img_emb = pickle.load(handle)\n",
        "\n",
        "with open('/content/gdrive/MyDrive/embeddings/test_sentence_embeddings.pickle', 'rb') as handle:\n",
        "  test_sent_emb = pickle.load(handle)\n",
        "\n",
        "with open('/content/gdrive/MyDrive/embeddings/test_ann_embeddings.pickle', 'rb') as handle:\n",
        "  test_ann_emb = pickle.load(handle)\n",
        "  \n",
        "test_samples = []"
      ],
      "execution_count": null,
      "outputs": []
    },
    {
      "cell_type": "code",
      "metadata": {
        "colab": {
          "base_uri": "https://localhost:8080/",
          "height": 82,
          "referenced_widgets": [
            "b267d1ec92194c768fe79345e7276a0b",
            "5369dd8e24304b1c9f6674577daf0aa8",
            "18da0c6deb01468db406db22f6a47ec3",
            "41a465095b114f80822820d80b675176",
            "14ff702816d54fe9ab9891812beb9936",
            "c35749a52b2e404e8c58441266469a56",
            "0a6172b81a134cdd823838b4fe39bfb4",
            "8a2046e443af4eb8b04de865da14edce"
          ]
        },
        "id": "tOxJqRShEexq",
        "outputId": "ab261b71-2390-4b53-a05b-6c1d431e26d6"
      },
      "source": [
        "# Test Positive Samples\n",
        "create_positive_samples(TEST_IDS, test_img_emb, test_ann_emb, test_sent_emb, test_samples) \n",
        "test_pos_size = len(test_samples)\n",
        "test_pos_size # 10730"
      ],
      "execution_count": null,
      "outputs": [
        {
          "output_type": "display_data",
          "data": {
            "application/vnd.jupyter.widget-view+json": {
              "model_id": "b267d1ec92194c768fe79345e7276a0b",
              "version_minor": 0,
              "version_major": 2
            },
            "text/plain": [
              "HBox(children=(FloatProgress(value=0.0, max=3785.0), HTML(value='')))"
            ]
          },
          "metadata": {
            "tags": []
          }
        },
        {
          "output_type": "stream",
          "text": [
            "\n"
          ],
          "name": "stdout"
        },
        {
          "output_type": "execute_result",
          "data": {
            "text/plain": [
              "10730"
            ]
          },
          "metadata": {
            "tags": []
          },
          "execution_count": 9
        }
      ]
    },
    {
      "cell_type": "code",
      "metadata": {
        "colab": {
          "base_uri": "https://localhost:8080/",
          "height": 81,
          "referenced_widgets": [
            "6ed3b756946b4932bf3f8d9de8358426",
            "69296dad43f24971ba4a973eefa9f539",
            "dcc04bf497ba435fa78b2626b3890b88",
            "77395e05940f47c68dec9d58ee5c2350",
            "3338d471e641443fb57efb9d5534dfcb",
            "1398a4c4f0b34cb980d597d9a2eb7e68",
            "c4abfac475bd4e8cbf93ec57ec28e59a",
            "106cdd09bc5045bd96ddb474162563ba"
          ]
        },
        "id": "TM-8S9Y5FCy9",
        "outputId": "5a800c80-5917-48f9-d5f8-c129bb5fa20a"
      },
      "source": [
        "# Test Negative Samples\n",
        "related_negative_samples(TEST_IDS, test_img_emb, test_ann_emb, test_sent_emb, test_samples) \n",
        "test_neg_size = len(test_samples) - test_pos_size\n",
        "test_neg_size # 30121"
      ],
      "execution_count": null,
      "outputs": [
        {
          "output_type": "display_data",
          "data": {
            "application/vnd.jupyter.widget-view+json": {
              "model_id": "6ed3b756946b4932bf3f8d9de8358426",
              "version_minor": 0,
              "version_major": 2
            },
            "text/plain": [
              "HBox(children=(FloatProgress(value=0.0, max=3785.0), HTML(value='')))"
            ]
          },
          "metadata": {
            "tags": []
          }
        },
        {
          "output_type": "stream",
          "text": [
            "\n"
          ],
          "name": "stdout"
        },
        {
          "output_type": "execute_result",
          "data": {
            "text/plain": [
              "30121"
            ]
          },
          "metadata": {
            "tags": []
          },
          "execution_count": 10
        }
      ]
    },
    {
      "cell_type": "code",
      "metadata": {
        "id": "MksPWNhAFHzP"
      },
      "source": [
        "# Test sample list to Tensor\n",
        "test_x = torch.stack(test_samples)\n",
        "\n",
        "torch.save(test_x, '/content/gdrive/MyDrive/Final_Tensors/test_x.pt')\n",
        "\n",
        "# Create Label Vectors and save\n",
        "test_y = torch.ones(test_pos_size)\n",
        "y_neg = torch.zeros(test_neg_size) \n",
        "\n",
        "test_y = torch.cat((test_y, y_neg), 0)\n",
        "test_y.shape\n",
        "torch.save(test_y, '/content/gdrive/MyDrive/Final_Tensors/test_y.pt')"
      ],
      "execution_count": null,
      "outputs": []
    },
    {
      "cell_type": "markdown",
      "metadata": {
        "id": "X-iyvqrdNJ_g"
      },
      "source": [
        "# Eval Set Sample Creation"
      ]
    },
    {
      "cell_type": "code",
      "metadata": {
        "id": "1hdMmj1QMhov"
      },
      "source": [
        "# LOAD EVAL EMBEDDINGS AND CREATE SAMPLES\n",
        "\n",
        "with open('/content/gdrive/MyDrive/embeddings/eval_img_embeddings.pickle', 'rb') as handle:\n",
        "  eval_img_emb = pickle.load(handle)\n",
        "\n",
        "with open('/content/gdrive/MyDrive/embeddings/eval_sentence_embeddings.pickle', 'rb') as handle:\n",
        "  eval_sent_emb = pickle.load(handle)\n",
        "\n",
        "with open('/content/gdrive/MyDrive/embeddings/eval_ann_embeddings.pickle', 'rb') as handle:\n",
        "  eval_ann_emb = pickle.load(handle)\n",
        "  \n",
        "eval_samples = []"
      ],
      "execution_count": null,
      "outputs": []
    },
    {
      "cell_type": "code",
      "metadata": {
        "colab": {
          "base_uri": "https://localhost:8080/",
          "height": 81,
          "referenced_widgets": [
            "01d1421e1b94449eb10c105c5b96669f",
            "ff0d1495491d47d98e8229d375f3587a",
            "44f44dce18cf4481bed2712418bd5419",
            "3ca84ad83e204db0a2ece3daa3b532cb",
            "3f61de4f87df40cbb9536f3f6e86913b",
            "da6fb925ad1f415c844c23d231fff0ee",
            "e31d54dad3d54859a4c5c615db38c00e",
            "8e922e91b47e457baef7188ea94b7f7f"
          ]
        },
        "id": "YyYqq7wFRUaE",
        "outputId": "3b568b88-d04e-4818-ae47-bd78c16b5409"
      },
      "source": [
        "# Eval Positive Samples\n",
        "create_positive_samples(EVAL_IDS, eval_img_emb, eval_ann_emb, eval_sent_emb, eval_samples) \n",
        "eval_pos_size = len(eval_samples)\n",
        "eval_pos_size # 10829"
      ],
      "execution_count": null,
      "outputs": [
        {
          "output_type": "display_data",
          "data": {
            "application/vnd.jupyter.widget-view+json": {
              "model_id": "01d1421e1b94449eb10c105c5b96669f",
              "version_minor": 0,
              "version_major": 2
            },
            "text/plain": [
              "HBox(children=(FloatProgress(value=0.0, max=3811.0), HTML(value='')))"
            ]
          },
          "metadata": {
            "tags": []
          }
        },
        {
          "output_type": "stream",
          "text": [
            "\n"
          ],
          "name": "stdout"
        },
        {
          "output_type": "execute_result",
          "data": {
            "text/plain": [
              "10829"
            ]
          },
          "metadata": {
            "tags": []
          },
          "execution_count": 7
        }
      ]
    },
    {
      "cell_type": "code",
      "metadata": {
        "colab": {
          "base_uri": "https://localhost:8080/",
          "height": 81,
          "referenced_widgets": [
            "c60683f829614019816d52d43c2f0be3",
            "a30934b9158141e8a26481a078fd2040",
            "2980790e657b4e1cbc055271368eec11",
            "37851bb27a93414d9136172112738d2a",
            "12836a2ffcb74c1791f12ae92dde27d7",
            "f5ce6e15763a43a89f470e0d9aeba9ad",
            "f6cffc4163144e29a93e0f0fc62a957e",
            "dec1114a0b0e4217b17727deafba32fa"
          ]
        },
        "id": "LpfxuSWMRf26",
        "outputId": "e39251af-5c56-472f-edbe-dd784b4fe4dd"
      },
      "source": [
        "# eval Negative Samples\n",
        "related_negative_samples(EVAL_IDS, eval_img_emb, eval_ann_emb, eval_sent_emb, eval_samples)\n",
        "eval_neg_size = len(eval_samples) - eval_pos_size\n",
        "eval_neg_size # 30530"
      ],
      "execution_count": null,
      "outputs": [
        {
          "output_type": "display_data",
          "data": {
            "application/vnd.jupyter.widget-view+json": {
              "model_id": "c60683f829614019816d52d43c2f0be3",
              "version_minor": 0,
              "version_major": 2
            },
            "text/plain": [
              "HBox(children=(FloatProgress(value=0.0, max=3811.0), HTML(value='')))"
            ]
          },
          "metadata": {
            "tags": []
          }
        },
        {
          "output_type": "stream",
          "text": [
            "\n"
          ],
          "name": "stdout"
        },
        {
          "output_type": "execute_result",
          "data": {
            "text/plain": [
              "30530"
            ]
          },
          "metadata": {
            "tags": []
          },
          "execution_count": 8
        }
      ]
    },
    {
      "cell_type": "code",
      "metadata": {
        "colab": {
          "base_uri": "https://localhost:8080/"
        },
        "id": "SW-KVQixRrYg",
        "outputId": "01083d6a-7fc1-460e-bc62-9fcabd1b109e"
      },
      "source": [
        "# eval sample list to Tensor\n",
        "eval_x = torch.stack(eval_samples)\n",
        "\n",
        "torch.save(eval_x, '/content/gdrive/MyDrive/Final_Tensors/eval_x.pt')\n",
        "\n",
        "# Create Label Vectors and save\n",
        "eval_y = torch.ones(eval_pos_size)\n",
        "y_neg = torch.zeros(eval_neg_size) \n",
        "\n",
        "eval_y = torch.cat((eval_y, y_neg), 0)\n",
        "print(eval_y.shape)\n",
        "torch.save(eval_y, '/content/gdrive/MyDrive/Final_Tensors/eval_y.pt')"
      ],
      "execution_count": null,
      "outputs": [
        {
          "output_type": "stream",
          "text": [
            "torch.Size([41359])\n"
          ],
          "name": "stdout"
        }
      ]
    },
    {
      "cell_type": "code",
      "metadata": {
        "colab": {
          "base_uri": "https://localhost:8080/"
        },
        "id": "satZmWXXSixU",
        "outputId": "16f91639-a82b-4338-b91b-d6fa6558087c"
      },
      "source": [
        "eval_x.shape, eval_y.shape"
      ],
      "execution_count": null,
      "outputs": [
        {
          "output_type": "execute_result",
          "data": {
            "text/plain": [
              "(torch.Size([41359, 1545]), torch.Size([41359]))"
            ]
          },
          "metadata": {
            "tags": []
          },
          "execution_count": 11
        }
      ]
    },
    {
      "cell_type": "markdown",
      "metadata": {
        "id": "94phE_L78AWE"
      },
      "source": [
        "# Creating Label Vectors"
      ]
    },
    {
      "cell_type": "code",
      "metadata": {
        "colab": {
          "base_uri": "https://localhost:8080/"
        },
        "id": "lO85cGMQ4Lgu",
        "outputId": "69cdcc67-af4f-4df9-e837-71e362c8124e"
      },
      "source": [
        "# Load files\n",
        "train_x = torch.load('/content/gdrive/MyDrive/sample_list/train_x.pt')\n",
        "train_x.shape"
      ],
      "execution_count": null,
      "outputs": [
        {
          "output_type": "execute_result",
          "data": {
            "text/plain": [
              "torch.Size([455932, 1545])"
            ]
          },
          "metadata": {
            "tags": []
          },
          "execution_count": 5
        }
      ]
    },
    {
      "cell_type": "code",
      "metadata": {
        "id": "rl54SKfQYfSC"
      },
      "source": [
        "# Create label vectors\n",
        "train_y = torch.ones(120264)\n",
        "train_y_neg = torch.zeros(335668) \n",
        "train_y = torch.cat((train_y, train_y_neg), 0)\n",
        "train_y.shape\n",
        "\n",
        "torch.save(train_y, '/content/gdrive/MyDrive/Final_Tensors/train_y.pt')"
      ],
      "execution_count": null,
      "outputs": []
    },
    {
      "cell_type": "code",
      "metadata": {
        "colab": {
          "base_uri": "https://localhost:8080/"
        },
        "id": "2YUvT7rlUH74",
        "outputId": "8047c191-89ba-4394-a44d-48a65c7869bc"
      },
      "source": [
        "train_y.shape,"
      ],
      "execution_count": null,
      "outputs": [
        {
          "output_type": "execute_result",
          "data": {
            "text/plain": [
              "(torch.Size([455932]),)"
            ]
          },
          "metadata": {
            "tags": []
          },
          "execution_count": 13
        }
      ]
    }
  ]
}