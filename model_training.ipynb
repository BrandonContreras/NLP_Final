{
  "nbformat": 4,
  "nbformat_minor": 0,
  "metadata": {
    "colab": {
      "name": "model_training.ipynb",
      "provenance": [],
      "collapsed_sections": [
        "qqIriy6NUqB-",
        "dkYwyXiMxzJd",
        "rbRUjZfjpDWv",
        "UdI27bhQ1-mj"
      ],
      "toc_visible": true,
      "machine_shape": "hm"
    },
    "kernelspec": {
      "name": "python3",
      "display_name": "Python 3"
    },
    "language_info": {
      "name": "python"
    },
    "accelerator": "GPU"
  },
  "cells": [
    {
      "cell_type": "code",
      "metadata": {
        "colab": {
          "base_uri": "https://localhost:8080/"
        },
        "id": "ixqGgAdRUSd1",
        "outputId": "0d591950-bd95-41c0-9df2-75dfa8cf6217"
      },
      "source": [
        "from google.colab import drive\n",
        "drive.mount('/content/gdrive')"
      ],
      "execution_count": 1,
      "outputs": [
        {
          "output_type": "stream",
          "text": [
            "Drive already mounted at /content/gdrive; to attempt to forcibly remount, call drive.mount(\"/content/gdrive\", force_remount=True).\n"
          ],
          "name": "stdout"
        }
      ]
    },
    {
      "cell_type": "code",
      "metadata": {
        "id": "c0CHf7-iUfRK",
        "colab": {
          "base_uri": "https://localhost:8080/",
          "height": 35
        },
        "outputId": "a4c8c018-1004-444a-dafe-15c8568eb0e2"
      },
      "source": [
        "import sys\n",
        "sys.path.append('/content/gdrive/MyDrive/coco')\n",
        "sys.path.append('/content/gdrive/MyDrive')\n",
        "\n",
        "import glob\n",
        "import pickle\n",
        "import zipfile\n",
        "import tqdm.notebook as tq\n",
        "\n",
        "import torch\n",
        "from torch import cuda\n",
        "device = 'cuda' if cuda.is_available() else 'cpu'\n",
        "device"
      ],
      "execution_count": 2,
      "outputs": [
        {
          "output_type": "execute_result",
          "data": {
            "application/vnd.google.colaboratory.intrinsic+json": {
              "type": "string"
            },
            "text/plain": [
              "'cuda'"
            ]
          },
          "metadata": {
            "tags": []
          },
          "execution_count": 2
        }
      ]
    },
    {
      "cell_type": "markdown",
      "metadata": {
        "id": "qqIriy6NUqB-"
      },
      "source": [
        "# Fast Loader Class\n",
        "* Normal dataset loading slowed down training too much"
      ]
    },
    {
      "cell_type": "code",
      "metadata": {
        "id": "eb7QjtWAUujL"
      },
      "source": [
        "class FastTensorDataLoader:\n",
        "    \"\"\"\n",
        "    A DataLoader-like object for a set of tensors that can be much faster than\n",
        "    TensorDataset + DataLoader because dataloader grabs individual indices of\n",
        "    the dataset and calls cat (slow).\n",
        "    Source: https://discuss.pytorch.org/t/dataloader-much-slower-than-manual-batching/27014/6\n",
        "    \"\"\"\n",
        "    def __init__(self, *tensors, batch_size=32, shuffle=False):\n",
        "        \"\"\"\n",
        "        Initialize a FastTensorDataLoader.\n",
        "        :param *tensors: tensors to store. Must have the same length @ dim 0.\n",
        "        :param batch_size: batch size to load.\n",
        "        :param shuffle: if True, shuffle the data *in-place* whenever an\n",
        "            iterator is created out of this object.\n",
        "        :returns: A FastTensorDataLoader.\n",
        "        \"\"\"\n",
        "        assert all(t.shape[0] == tensors[0].shape[0] for t in tensors)\n",
        "        self.tensors = tensors\n",
        "\n",
        "        self.dataset_len = self.tensors[0].shape[0]\n",
        "        self.batch_size = batch_size\n",
        "        self.shuffle = shuffle\n",
        "\n",
        "        # Calculate # batches\n",
        "        n_batches, remainder = divmod(self.dataset_len, self.batch_size)\n",
        "        if remainder > 0:\n",
        "            n_batches += 1\n",
        "        self.n_batches = n_batches\n",
        "    def __iter__(self):\n",
        "        if self.shuffle:\n",
        "            r = torch.randperm(self.dataset_len)\n",
        "            self.tensors = [t[r] for t in self.tensors]\n",
        "        self.i = 0\n",
        "        return self\n",
        "\n",
        "    def __next__(self):\n",
        "        if self.i >= self.dataset_len:\n",
        "            raise StopIteration\n",
        "        batch = tuple(t[self.i:self.i+self.batch_size] for t in self.tensors)\n",
        "        self.i += self.batch_size\n",
        "        return batch\n",
        "\n",
        "    def __len__(self):\n",
        "        return self.n_batches"
      ],
      "execution_count": 3,
      "outputs": []
    },
    {
      "cell_type": "markdown",
      "metadata": {
        "id": "Rg_UiIw6U1jO"
      },
      "source": [
        "# Train and Test dataset + dataloader"
      ]
    },
    {
      "cell_type": "code",
      "metadata": {
        "id": "7hh1cr8Ff2up"
      },
      "source": [
        "import numpy as np\n",
        "import seaborn as sns\n",
        "import matplotlib.pyplot as plt\n",
        "\n",
        "import torch.nn as nn\n",
        "import torch.optim as optim\n",
        "\n",
        "from sklearn.metrics import confusion_matrix, classification_report, accuracy_score"
      ],
      "execution_count": 4,
      "outputs": []
    },
    {
      "cell_type": "code",
      "metadata": {
        "id": "6JCVLDBXU8A2"
      },
      "source": [
        "# Loading in train and test tensors. Ram after loading: 7.44gb\n",
        "train_x = torch.load('/content/gdrive/MyDrive/Final_Tensors/train_x.pt').to('cpu')\n",
        "train_y = torch.load('/content/gdrive/MyDrive/Final_Tensors/train_y.pt').to('cpu')\n",
        "\n",
        "eval_x = torch.load('/content/gdrive/MyDrive/Final_Tensors/eval_x.pt').to('cpu')\n",
        "eval_y = torch.load('/content/gdrive/MyDrive/Final_Tensors/eval_y.pt').to('cpu')"
      ],
      "execution_count": 5,
      "outputs": []
    },
    {
      "cell_type": "code",
      "metadata": {
        "id": "VobIfyjuiYrN"
      },
      "source": [
        "test_x = torch.load('/content/gdrive/MyDrive/Final_Tensors/test_x.pt').to('cpu')\n",
        "test_y = torch.load('/content/gdrive/MyDrive/Final_Tensors/test_y.pt').to('cpu')"
      ],
      "execution_count": 6,
      "outputs": []
    },
    {
      "cell_type": "code",
      "metadata": {
        "id": "JjGA9fhfgWF3"
      },
      "source": [
        "# Model Parameters\n",
        "EPOCHS = 50\n",
        "BATCH_SIZE = 256\n",
        "LEARNING_RATE = 0.001\n",
        "INPUT_SIZE = train_x.shape[1]\n",
        "\n",
        "criterion = nn.BCEWithLogitsLoss() # no need for last sigmoid node in model\n",
        "\n",
        "# Dataset setup\n",
        "train_batches = FastTensorDataLoader(train_x, train_y, batch_size=BATCH_SIZE, shuffle=True) # serves as dataset and dataloader for tabular data\n",
        "eval_batches = FastTensorDataLoader(eval_x, eval_y, batch_size=BATCH_SIZE, shuffle=True) \n",
        "test_batches = FastTensorDataLoader(test_x, test_y, batch_size=BATCH_SIZE, shuffle=True)"
      ],
      "execution_count": 7,
      "outputs": []
    },
    {
      "cell_type": "code",
      "metadata": {
        "id": "gfJz-10Nd3TP"
      },
      "source": [
        "def get_accuracy(y_pred, y_true):\n",
        "    y_pred = torch.round(torch.sigmoid(y_pred))\n",
        "\n",
        "    y_pred = y_pred.to('cpu').numpy()\n",
        "    y_true = y_true.to('cpu').numpy()\n",
        "    acc = accuracy_score(y_pred, y_true) * 100\n",
        "\n",
        "    return acc\n",
        "\n",
        "def get_outputs(y_pred):\n",
        "    y_pred = torch.round(torch.sigmoid(y_pred))\n",
        "    y_pred = y_pred.to('cpu').numpy()\n",
        "\n",
        "    ones = len(np.where(y_pred == 1)[0])\n",
        "    zeros = len(np.where(y_pred == 0)[0])\n",
        "\n",
        "    return ones, zeros\n",
        "\n",
        "\n",
        "def validation(model, eval_loader):\n",
        "  model.eval()\n",
        "\n",
        "  y_pred = []\n",
        "  y_actual = [] \n",
        "  \n",
        "  with torch.no_grad():\n",
        "    # Run through each batch of eval dataset\n",
        "    for x_batch, y_batch in eval_loader:\n",
        "      x_batch, y_batch = x_batch.to(device), y_batch.to(device)\n",
        "      y_actual_batch = y_batch.unsqueeze(1)\n",
        "      y_pred_batch = model(x_batch.float().to(device))\n",
        "\n",
        "      y_actual.extend(y_actual_batch)\n",
        "      y_pred.extend(y_pred_batch)\n",
        "\n",
        "  return torch.stack(y_pred), torch.stack(y_actual)\n",
        "\n",
        "def binary_acc(y_pred, y_test):\n",
        "    y_pred_tag = torch.round(torch.sigmoid(y_pred))\n",
        "\n",
        "    correct_results_sum = (y_pred_tag == y_test).sum().float()\n",
        "    acc = correct_results_sum/y_test.shape[0]\n",
        "    acc = torch.round(acc * 100)\n",
        "    \n",
        "    return acc"
      ],
      "execution_count": 19,
      "outputs": []
    },
    {
      "cell_type": "markdown",
      "metadata": {
        "id": "dba8_9YauUjN"
      },
      "source": [
        "# Final Model Training\n"
      ]
    },
    {
      "cell_type": "code",
      "metadata": {
        "id": "D3AqBP4oglWR"
      },
      "source": [
        "import numpy as np\n",
        "import seaborn as sns\n",
        "import matplotlib.pyplot as plt\n",
        "\n",
        "import torch.nn as nn\n",
        "import torch.optim as optim\n",
        "from torch.utils.data import Dataset, DataLoader\n",
        "\n",
        "from sklearn.metrics import confusion_matrix, classification_report"
      ],
      "execution_count": 12,
      "outputs": []
    },
    {
      "cell_type": "code",
      "metadata": {
        "id": "SCfOKLHGE5zd"
      },
      "source": [
        "class NLQ_Security(nn.Module): # MODEL 3, same as base just two more hidden layers\n",
        "    def __init__(self):\n",
        "        super(NLQ_Security, self).__init__()\n",
        "\n",
        "        # Input Layer\n",
        "        self.input_layer = nn.Linear(INPUT_SIZE, 64) \n",
        "\n",
        "        # Hidden Layers\n",
        "        self.layer_2 = nn.Linear(64, 64)\n",
        "        self.layer_3 = nn.Linear(64, 64)\n",
        "        self.layer_4 = nn.Linear(64, 64)\n",
        "        \n",
        "        # Out Layer\n",
        "        self.output_layer = nn.Linear(64, 1) \n",
        "        \n",
        "        # Reg features\n",
        "        self.relu = nn.ReLU()\n",
        "        self.dropout = nn.Dropout(p=0.1)\n",
        "        self.batchnorm1 = nn.BatchNorm1d(64)\n",
        "        self.batchnorm2 = nn.BatchNorm1d(64)\n",
        "        self.batchnorm3 = nn.BatchNorm1d(64)\n",
        "        self.batchnorm4 = nn.BatchNorm1d(64)\n",
        "        \n",
        "    def forward(self, inputs):\n",
        "        # Relu on input layer outputs, then normalization\n",
        "        x = self.relu(self.input_layer(inputs))\n",
        "        x = self.batchnorm1(x)\n",
        "        \n",
        "        # HL 1\n",
        "        x = self.relu(self.layer_2(x))\n",
        "        x = self.batchnorm2(x)\n",
        "        \n",
        "        x = self.relu(self.layer_3(x))\n",
        "        x = self.batchnorm3(x)\n",
        "        \n",
        "        x = self.relu(self.layer_4(x))\n",
        "        x = self.batchnorm4(x)\n",
        "        \n",
        "        # Out layer\n",
        "        x = self.dropout(x)\n",
        "        x = self.output_layer(x)\n",
        "        return x"
      ],
      "execution_count": 9,
      "outputs": []
    },
    {
      "cell_type": "code",
      "metadata": {
        "id": "bBWLhdkww3hl",
        "colab": {
          "base_uri": "https://localhost:8080/"
        },
        "outputId": "df70176b-f3ce-4a4c-f7bd-40940f2859c6"
      },
      "source": [
        "# RUN NEW MODEL AND TRAIN.\n",
        "del model\n",
        "torch.cuda.empty_cache() \n",
        "model = NLQ_Security()\n",
        "model.to(device)\n",
        "optimizer = optim.Adam(model.parameters(), lr=LEARNING_RATE)\n",
        "\n",
        "for epoch in range(EPOCHS):\n",
        "  epoch_loss = 0\n",
        "  epoch_acc = 0\n",
        "  model.train()\n",
        "  # Go through each batch in training data\n",
        "  for x_batch, y_batch in train_batches:\n",
        "\n",
        "    # Since training on GPU now\n",
        "    x_batch, y_batch = x_batch.to(device), y_batch.to(device)\n",
        "    \n",
        "    # Clear out gradients for new batch\n",
        "    optimizer.zero_grad()\n",
        "\n",
        "    y_pred = model(x_batch.float())\n",
        "        \n",
        "    loss = criterion(y_pred, y_batch.unsqueeze(1))\n",
        "    acc = binary_acc(y_pred, y_batch.unsqueeze(1))\n",
        "        \n",
        "    loss.backward()\n",
        "    optimizer.step()\n",
        "        \n",
        "    epoch_loss += loss.item()\n",
        "    epoch_acc += acc.item()\n",
        "\n",
        "  # Check Model's performance on eval set after going through one full epoch of training data\n",
        "  eval_pred, eval_true = validation(model, eval_batches)\n",
        "  eval_acc = get_accuracy(eval_pred, eval_true)\n",
        "  \n",
        "  ones, zeros = get_outputs(eval_pred)\n",
        "  print(f'Ones: {ones}\\nZeros: {zeros}')\n",
        "  print(f'Epoch {epoch+0:03}: | Loss: {epoch_loss/len(train_batches):.5f} | Acc: {epoch_acc/len(train_batches):.3f} | Eval Acc: {eval_acc:.3f}')"
      ],
      "execution_count": 20,
      "outputs": [
        {
          "output_type": "stream",
          "text": [
            "Ones: 8662\n",
            "Zeros: 32697\n",
            "Epoch 000: | Loss: 0.44530 | Acc: 75.390 | Eval Acc: 78.658\n",
            "Ones: 10223\n",
            "Zeros: 31136\n",
            "Epoch 001: | Loss: 0.34168 | Acc: 82.934 | Eval Acc: 84.555\n",
            "Ones: 9929\n",
            "Zeros: 31430\n",
            "Epoch 002: | Loss: 0.28771 | Acc: 86.271 | Eval Acc: 85.643\n",
            "Ones: 10245\n",
            "Zeros: 31114\n",
            "Epoch 003: | Loss: 0.26469 | Acc: 87.623 | Eval Acc: 86.416\n",
            "Ones: 10605\n",
            "Zeros: 30754\n",
            "Epoch 004: | Loss: 0.24768 | Acc: 88.533 | Eval Acc: 86.499\n",
            "Ones: 10288\n",
            "Zeros: 31071\n",
            "Epoch 005: | Loss: 0.23497 | Acc: 89.246 | Eval Acc: 86.719\n",
            "Ones: 10837\n",
            "Zeros: 30522\n",
            "Epoch 006: | Loss: 0.22378 | Acc: 89.777 | Eval Acc: 86.615\n",
            "Ones: 9933\n",
            "Zeros: 31426\n",
            "Epoch 007: | Loss: 0.21486 | Acc: 90.255 | Eval Acc: 86.760\n",
            "Ones: 11434\n",
            "Zeros: 29925\n",
            "Epoch 008: | Loss: 0.20741 | Acc: 90.666 | Eval Acc: 86.748\n",
            "Ones: 11243\n",
            "Zeros: 30116\n",
            "Epoch 009: | Loss: 0.20023 | Acc: 91.031 | Eval Acc: 86.562\n",
            "Ones: 10646\n",
            "Zeros: 30713\n",
            "Epoch 010: | Loss: 0.19418 | Acc: 91.380 | Eval Acc: 86.932\n",
            "Ones: 10791\n",
            "Zeros: 30568\n",
            "Epoch 011: | Loss: 0.18901 | Acc: 91.589 | Eval Acc: 86.774\n",
            "Ones: 10832\n",
            "Zeros: 30527\n",
            "Epoch 012: | Loss: 0.18346 | Acc: 91.824 | Eval Acc: 86.651\n",
            "Ones: 11479\n",
            "Zeros: 29880\n",
            "Epoch 013: | Loss: 0.17948 | Acc: 92.058 | Eval Acc: 86.586\n",
            "Ones: 10933\n",
            "Zeros: 30426\n",
            "Epoch 014: | Loss: 0.17449 | Acc: 92.309 | Eval Acc: 86.663\n",
            "Ones: 11322\n",
            "Zeros: 30037\n",
            "Epoch 015: | Loss: 0.17034 | Acc: 92.533 | Eval Acc: 86.506\n",
            "Ones: 11315\n",
            "Zeros: 30044\n",
            "Epoch 016: | Loss: 0.16693 | Acc: 92.670 | Eval Acc: 86.649\n",
            "Ones: 11389\n",
            "Zeros: 29970\n",
            "Epoch 017: | Loss: 0.16277 | Acc: 92.858 | Eval Acc: 86.600\n",
            "Ones: 11110\n",
            "Zeros: 30249\n",
            "Epoch 018: | Loss: 0.15969 | Acc: 93.048 | Eval Acc: 86.733\n",
            "Ones: 10686\n",
            "Zeros: 30673\n",
            "Epoch 019: | Loss: 0.15687 | Acc: 93.161 | Eval Acc: 86.545\n",
            "Ones: 10998\n",
            "Zeros: 30361\n",
            "Epoch 020: | Loss: 0.15438 | Acc: 93.270 | Eval Acc: 86.346\n",
            "Ones: 11439\n",
            "Zeros: 29920\n",
            "Epoch 021: | Loss: 0.15054 | Acc: 93.452 | Eval Acc: 86.300\n",
            "Ones: 10354\n",
            "Zeros: 31005\n",
            "Epoch 022: | Loss: 0.14814 | Acc: 93.575 | Eval Acc: 86.569\n",
            "Ones: 11151\n",
            "Zeros: 30208\n",
            "Epoch 023: | Loss: 0.14566 | Acc: 93.747 | Eval Acc: 86.296\n",
            "Ones: 11074\n",
            "Zeros: 30285\n",
            "Epoch 024: | Loss: 0.14271 | Acc: 93.863 | Eval Acc: 86.346\n",
            "Ones: 11398\n",
            "Zeros: 29961\n",
            "Epoch 025: | Loss: 0.14155 | Acc: 93.882 | Eval Acc: 85.931\n",
            "Ones: 11068\n",
            "Zeros: 30291\n",
            "Epoch 026: | Loss: 0.13849 | Acc: 94.060 | Eval Acc: 86.255\n",
            "Ones: 10674\n",
            "Zeros: 30685\n",
            "Epoch 027: | Loss: 0.13656 | Acc: 94.116 | Eval Acc: 86.221\n",
            "Ones: 11073\n",
            "Zeros: 30286\n",
            "Epoch 028: | Loss: 0.13429 | Acc: 94.185 | Eval Acc: 86.068\n",
            "Ones: 11152\n",
            "Zeros: 30207\n",
            "Epoch 029: | Loss: 0.13292 | Acc: 94.291 | Eval Acc: 86.124\n",
            "Ones: 11432\n",
            "Zeros: 29927\n",
            "Epoch 030: | Loss: 0.13060 | Acc: 94.410 | Eval Acc: 86.163\n",
            "Ones: 11190\n",
            "Zeros: 30169\n",
            "Epoch 031: | Loss: 0.12898 | Acc: 94.500 | Eval Acc: 86.071\n",
            "Ones: 11196\n",
            "Zeros: 30163\n",
            "Epoch 032: | Loss: 0.12810 | Acc: 94.510 | Eval Acc: 86.037\n",
            "Ones: 11116\n",
            "Zeros: 30243\n",
            "Epoch 033: | Loss: 0.12546 | Acc: 94.647 | Eval Acc: 85.843\n",
            "Ones: 11537\n",
            "Zeros: 29822\n",
            "Epoch 034: | Loss: 0.12363 | Acc: 94.702 | Eval Acc: 85.827\n",
            "Ones: 10875\n",
            "Zeros: 30484\n",
            "Epoch 035: | Loss: 0.12271 | Acc: 94.806 | Eval Acc: 85.967\n",
            "Ones: 11530\n",
            "Zeros: 29829\n",
            "Epoch 036: | Loss: 0.12167 | Acc: 94.815 | Eval Acc: 85.742\n",
            "Ones: 11075\n",
            "Zeros: 30284\n",
            "Epoch 037: | Loss: 0.12020 | Acc: 94.907 | Eval Acc: 85.967\n",
            "Ones: 11165\n",
            "Zeros: 30194\n",
            "Epoch 038: | Loss: 0.11843 | Acc: 94.962 | Eval Acc: 85.967\n",
            "Ones: 11407\n",
            "Zeros: 29952\n",
            "Epoch 039: | Loss: 0.11718 | Acc: 95.031 | Eval Acc: 85.701\n",
            "Ones: 11586\n",
            "Zeros: 29773\n",
            "Epoch 040: | Loss: 0.11573 | Acc: 95.072 | Eval Acc: 85.607\n",
            "Ones: 10946\n",
            "Zeros: 30413\n",
            "Epoch 041: | Loss: 0.11441 | Acc: 95.129 | Eval Acc: 85.882\n",
            "Ones: 11656\n",
            "Zeros: 29703\n",
            "Epoch 042: | Loss: 0.11282 | Acc: 95.198 | Eval Acc: 85.457\n",
            "Ones: 11126\n",
            "Zeros: 30233\n",
            "Epoch 043: | Loss: 0.11237 | Acc: 95.255 | Eval Acc: 85.969\n",
            "Ones: 11176\n",
            "Zeros: 30183\n",
            "Epoch 044: | Loss: 0.11152 | Acc: 95.257 | Eval Acc: 85.950\n",
            "Ones: 10686\n",
            "Zeros: 30673\n",
            "Epoch 045: | Loss: 0.11016 | Acc: 95.320 | Eval Acc: 85.892\n",
            "Ones: 11465\n",
            "Zeros: 29894\n",
            "Epoch 046: | Loss: 0.10812 | Acc: 95.435 | Eval Acc: 85.585\n",
            "Ones: 11434\n",
            "Zeros: 29925\n",
            "Epoch 047: | Loss: 0.10816 | Acc: 95.403 | Eval Acc: 85.694\n",
            "Ones: 11347\n",
            "Zeros: 30012\n",
            "Epoch 048: | Loss: 0.10705 | Acc: 95.488 | Eval Acc: 85.512\n",
            "Ones: 11275\n",
            "Zeros: 30084\n",
            "Epoch 049: | Loss: 0.10590 | Acc: 95.517 | Eval Acc: 85.556\n"
          ],
          "name": "stdout"
        }
      ]
    },
    {
      "cell_type": "markdown",
      "metadata": {
        "id": "QArdUtObkOx8"
      },
      "source": [
        "# Evaluation"
      ]
    },
    {
      "cell_type": "code",
      "metadata": {
        "id": "5o4RlL9GmB-J"
      },
      "source": [
        "def get_predictions(y_pred, y_true):\n",
        "    y_pred = torch.round(torch.sigmoid(y_pred))\n",
        "\n",
        "    y_pred = y_pred.to('cpu').numpy()\n",
        "    y_true = y_true.to('cpu').numpy()\n",
        "\n",
        "    return y_pred, y_true"
      ],
      "execution_count": 24,
      "outputs": []
    },
    {
      "cell_type": "code",
      "metadata": {
        "colab": {
          "base_uri": "https://localhost:8080/"
        },
        "id": "x8HLHir0lzOJ",
        "outputId": "48827778-2ca5-4c87-e7f1-d316c80022bb"
      },
      "source": [
        "test_pred, test_true = validation(model, test_batches)\n",
        "test_acc = get_accuracy(test_pred, test_true)\n",
        "test_y_hat, test_y_actual = get_predictions(test_pred, test_true)\n",
        "test_acc"
      ],
      "execution_count": 25,
      "outputs": [
        {
          "output_type": "execute_result",
          "data": {
            "text/plain": [
              "85.10929964994737"
            ]
          },
          "metadata": {
            "tags": []
          },
          "execution_count": 25
        }
      ]
    },
    {
      "cell_type": "code",
      "metadata": {
        "id": "bJ7JgUV8kOCN"
      },
      "source": [
        "cf_matrix= confusion_matrix(test_y_actual, test_y_hat)"
      ],
      "execution_count": 29,
      "outputs": []
    },
    {
      "cell_type": "code",
      "metadata": {
        "colab": {
          "base_uri": "https://localhost:8080/",
          "height": 281
        },
        "id": "X_c-luManFIA",
        "outputId": "a9e0a8c6-a9e5-425b-cbd2-444be422a436"
      },
      "source": [
        "group_names = ['True Neg','False Pos','False Neg','True Pos']\n",
        "\n",
        "\n",
        "group_percentages = ['{0:.2%}'.format(value) for value in\n",
        "                     cf_matrix.flatten()/np.sum(cf_matrix)]\n",
        "                     \n",
        "labels = [f'{v1}\\n{v3}' for v1, v3 in\n",
        "          zip(group_names, group_percentages)]\n",
        "\n",
        "labels = np.asarray(labels).reshape(2,2)\n",
        "sns.heatmap(cf_matrix, annot=labels, fmt='', cmap='Blues')"
      ],
      "execution_count": 31,
      "outputs": [
        {
          "output_type": "execute_result",
          "data": {
            "text/plain": [
              "<matplotlib.axes._subplots.AxesSubplot at 0x7fc5de36ee10>"
            ]
          },
          "metadata": {
            "tags": []
          },
          "execution_count": 31
        },
        {
          "output_type": "display_data",
          "data": {
            "image/png": "[encoded data removed]",
            "text/plain": [
              "<Figure size 432x288 with 2 Axes>"
            ]
          },
          "metadata": {
            "tags": [],
            "needs_background": "light"
          }
        }
      ]
    },
    {
      "cell_type": "code",
      "metadata": {
        "colab": {
          "base_uri": "https://localhost:8080/"
        },
        "id": "JVMnO4Svw9k1",
        "outputId": "9c990fad-fa6c-4273-b175-31c88c0b0121"
      },
      "source": [
        "print(classification_report(test_y_actual, test_y_hat))"
      ],
      "execution_count": 34,
      "outputs": [
        {
          "output_type": "stream",
          "text": [
            "              precision    recall  f1-score   support\n",
            "\n",
            "         0.0       0.90      0.89      0.90     30121\n",
            "         1.0       0.71      0.73      0.72     10730\n",
            "\n",
            "    accuracy                           0.85     40851\n",
            "   macro avg       0.81      0.81      0.81     40851\n",
            "weighted avg       0.85      0.85      0.85     40851\n",
            "\n"
          ],
          "name": "stdout"
        }
      ]
    },
    {
      "cell_type": "markdown",
      "metadata": {
        "id": "UdI27bhQ1-mj"
      },
      "source": [
        "# Experimental Models with Training Stats logged"
      ]
    },
    {
      "cell_type": "code",
      "metadata": {
        "id": "6WRbYIQ-yFJU"
      },
      "source": [
        "class Clip_nlp(nn.Module): # MODEL 3, same as base just two more hidden layers\n",
        "    def __init__(self):\n",
        "        super(Clip_nlp, self).__init__()\n",
        "\n",
        "        # Input Layer\n",
        "        self.layer_1 = nn.Linear(INPUT_SIZE, 64) \n",
        "\n",
        "        # Hidden Layers\n",
        "        self.layer_2 = nn.Linear(64, 64)\n",
        "        self.layer_3 = nn.Linear(64, 64)\n",
        "        self.layer_4 = nn.Linear(64, 64)\n",
        "        \n",
        "        # Out Layer\n",
        "        self.layer_out = nn.Linear(64, 1) \n",
        "        \n",
        "        # Reg features\n",
        "        self.relu = nn.ReLU()\n",
        "        self.dropout = nn.Dropout(p=0.1)\n",
        "        self.batchnorm1 = nn.BatchNorm1d(64)\n",
        "        self.batchnorm2 = nn.BatchNorm1d(64)\n",
        "        self.batchnorm3 = nn.BatchNorm1d(64)\n",
        "        self.batchnorm4 = nn.BatchNorm1d(64)\n",
        "        \n",
        "    def forward(self, inputs):\n",
        "        # Relu on input layer outputs, then normalization\n",
        "        x = self.relu(self.layer_1(inputs))\n",
        "        x = self.batchnorm1(x)\n",
        "        \n",
        "        # HL 1\n",
        "        x = self.relu(self.layer_2(x))\n",
        "        x = self.batchnorm2(x)\n",
        "        \n",
        "        x = self.relu(self.layer_3(x))\n",
        "        x = self.batchnorm3(x)\n",
        "        \n",
        "        x = self.relu(self.layer_4(x))\n",
        "        x = self.batchnorm4(x)\n",
        "        \n",
        "        # Out layer\n",
        "        x = self.dropout(x)\n",
        "        x = self.layer_out(x)\n",
        "        return x\n",
        "\n",
        "Epoch 000: | Loss: 0.46768 | Acc: 74.186 | Eval Acc: 79.000\n",
        "Epoch 001: | Loss: 0.34383 | Acc: 82.783 | Eval Acc: 84.000\n",
        "Epoch 002: | Loss: 0.29810 | Acc: 85.520 | Eval Acc: 85.000\n",
        "Epoch 003: | Loss: 0.27298 | Acc: 87.072 | Eval Acc: 85.000\n",
        "Epoch 004: | Loss: 0.25464 | Acc: 88.087 | Eval Acc: 86.000\n",
        "Epoch 005: | Loss: 0.24009 | Acc: 88.859 | Eval Acc: 86.000\n",
        "Epoch 006: | Loss: 0.22869 | Acc: 89.460 | Eval Acc: 86.000\n",
        "Epoch 007: | Loss: 0.21797 | Acc: 90.040 | Eval Acc: 86.000\n",
        "Epoch 008: | Loss: 0.20903 | Acc: 90.484 | Eval Acc: 86.000\n",
        "Epoch 009: | Loss: 0.20111 | Acc: 90.951 | Eval Acc: 86.000\n",
        "Epoch 010: | Loss: 0.19349 | Acc: 91.316 | Eval Acc: 86.000\n",
        "Epoch 011: | Loss: 0.18750 | Acc: 91.581 | Eval Acc: 86.000\n",
        "Epoch 012: | Loss: 0.18111 | Acc: 91.939 | Eval Acc: 86.000\n",
        "Epoch 013: | Loss: 0.17548 | Acc: 92.206 | Eval Acc: 86.000\n",
        "Epoch 014: | Loss: 0.17009 | Acc: 92.475 | Eval Acc: 86.000\n",
        "Epoch 015: | Loss: 0.16564 | Acc: 92.740 | Eval Acc: 86.000\n",
        "Epoch 016: | Loss: 0.16137 | Acc: 92.904 | Eval Acc: 86.000\n",
        "Epoch 017: | Loss: 0.15739 | Acc: 93.128 | Eval Acc: 86.000\n",
        "Epoch 018: | Loss: 0.15315 | Acc: 93.300 | Eval Acc: 86.000\n",
        "Epoch 019: | Loss: 0.14974 | Acc: 93.453 | Eval Acc: 86.000\n",
        "Epoch 020: | Loss: 0.14623 | Acc: 93.628 | Eval Acc: 86.000\n",
        "Epoch 021: | Loss: 0.14271 | Acc: 93.794 | Eval Acc: 86.000\n",
        "Epoch 022: | Loss: 0.13975 | Acc: 93.987 | Eval Acc: 85.000\n",
        "Epoch 023: | Loss: 0.13694 | Acc: 94.045 | Eval Acc: 85.000\n",
        "Epoch 024: | Loss: 0.13382 | Acc: 94.191 | Eval Acc: 86.000\n",
        "Epoch 025: | Loss: 0.13061 | Acc: 94.336 | Eval Acc: 85.000\n",
        "Epoch 026: | Loss: 0.12873 | Acc: 94.424 | Eval Acc: 85.000\n",
        "Epoch 027: | Loss: 0.12690 | Acc: 94.534 | Eval Acc: 85.000\n",
        "Epoch 028: | Loss: 0.12491 | Acc: 94.623 | Eval Acc: 85.000\n",
        "Epoch 029: | Loss: 0.12201 | Acc: 94.771 | Eval Acc: 85.000\n",
        "Epoch 030: | Loss: 0.12000 | Acc: 94.821 | Eval Acc: 85.000\n",
        "Epoch 031: | Loss: 0.11785 | Acc: 94.935 | Eval Acc: 85.000\n",
        "Epoch 032: | Loss: 0.11654 | Acc: 95.025 | Eval Acc: 85.000\n",
        "Epoch 033: | Loss: 0.11376 | Acc: 95.179 | Eval Acc: 85.000\n",
        "Epoch 034: | Loss: 0.11154 | Acc: 95.280 | Eval Acc: 85.000\n",
        "Epoch 035: | Loss: 0.11076 | Acc: 95.303 | Eval Acc: 85.000\n",
        "Epoch 036: | Loss: 0.10847 | Acc: 95.410 | Eval Acc: 85.000\n",
        "Epoch 037: | Loss: 0.10660 | Acc: 95.455 | Eval Acc: 85.000\n",
        "Epoch 038: | Loss: 0.10718 | Acc: 95.493 | Eval Acc: 85.000\n",
        "Epoch 039: | Loss: 0.10453 | Acc: 95.554 | Eval Acc: 85.000\n",
        "Epoch 040: | Loss: 0.10231 | Acc: 95.641 | Eval Acc: 85.000\n",
        "Epoch 041: | Loss: 0.10184 | Acc: 95.686 | Eval Acc: 85.000\n",
        "Epoch 042: | Loss: 0.09975 | Acc: 95.774 | Eval Acc: 85.000\n",
        "Epoch 043: | Loss: 0.09869 | Acc: 95.852 | Eval Acc: 85.000\n",
        "Epoch 044: | Loss: 0.09733 | Acc: 95.859 | Eval Acc: 85.000\n",
        "Epoch 045: | Loss: 0.09572 | Acc: 95.922 | Eval Acc: 85.000\n",
        "Epoch 046: | Loss: 0.09523 | Acc: 95.944 | Eval Acc: 85.000\n",
        "Epoch 047: | Loss: 0.09390 | Acc: 96.020 | Eval Acc: 84.000\n",
        "Epoch 048: | Loss: 0.09205 | Acc: 96.103 | Eval Acc: 85.000\n",
        "Epoch 049: | Loss: 0.09159 | Acc: 96.114 | Eval Acc: 85.000"
      ],
      "execution_count": null,
      "outputs": []
    },
    {
      "cell_type": "code",
      "metadata": {
        "id": "h3q-rAmO2Rkf"
      },
      "source": [
        "# MODEL 3: 128 at 3 hidden layers\n",
        "class Clip_nlp(nn.Module):\n",
        "    def __init__(self):\n",
        "        super(Clip_nlp, self).__init__()\n",
        "\n",
        "        # Input Layer\n",
        "        self.layer_1 = nn.Linear(INPUT_SIZE, 128) \n",
        "\n",
        "        # Hidden Layers\n",
        "        self.layer_2 = nn.Linear(128, 128)\n",
        "        self.layer_3 = nn.Linear(128, 128)\n",
        "        self.layer_4 = nn.Linear(128, 128)\n",
        "        \n",
        "        # Out Layer\n",
        "        self.layer_out = nn.Linear(128, 1) \n",
        "        \n",
        "        # Reg features\n",
        "        self.relu = nn.ReLU()\n",
        "        self.dropout = nn.Dropout(p=0.1)\n",
        "        self.batchnorm1 = nn.BatchNorm1d(128)\n",
        "        self.batchnorm2 = nn.BatchNorm1d(128)\n",
        "        self.batchnorm3 = nn.BatchNorm1d(128)\n",
        "        self.batchnorm4 = nn.BatchNorm1d(128)\n",
        "        \n",
        "    def forward(self, inputs):\n",
        "        # Relu on input layer outputs, then normalization\n",
        "        x = self.relu(self.layer_1(inputs))\n",
        "        x = self.batchnorm1(x)\n",
        "        \n",
        "        # HL 1\n",
        "        x = self.relu(self.layer_2(x))\n",
        "        x = self.batchnorm2(x)\n",
        "        \n",
        "        x = self.relu(self.layer_3(x))\n",
        "        x = self.batchnorm3(x)\n",
        "        \n",
        "        x = self.relu(self.layer_4(x))\n",
        "        x = self.batchnorm4(x)\n",
        "        \n",
        "        # Out layer\n",
        "        x = self.dropout(x)\n",
        "        x = self.layer_out(x)\n",
        "        return x\n",
        "\n",
        "Epoch 000: | Loss: 0.46243 | Acc: 74.522 | Eval Acc: 79.000\n",
        "Epoch 001: | Loss: 0.33179 | Acc: 83.482 | Eval Acc: 84.000\n",
        "Epoch 002: | Loss: 0.28039 | Acc: 86.540 | Eval Acc: 85.000\n",
        "Epoch 003: | Loss: 0.25104 | Acc: 88.283 | Eval Acc: 86.000\n",
        "Epoch 004: | Loss: 0.22831 | Acc: 89.453 | Eval Acc: 86.000\n",
        "Epoch 005: | Loss: 0.21008 | Acc: 90.462 | Eval Acc: 86.000\n",
        "Epoch 006: | Loss: 0.19428 | Acc: 91.280 | Eval Acc: 86.000\n",
        "Epoch 007: | Loss: 0.18085 | Acc: 91.939 | Eval Acc: 86.000\n",
        "Epoch 008: | Loss: 0.16815 | Acc: 92.587 | Eval Acc: 86.000\n",
        "Epoch 009: | Loss: 0.15665 | Acc: 93.112 | Eval Acc: 86.000\n",
        "Epoch 010: | Loss: 0.14697 | Acc: 93.585 | Eval Acc: 86.000\n",
        "Epoch 011: | Loss: 0.13709 | Acc: 94.052 | Eval Acc: 86.000\n",
        "Epoch 012: | Loss: 0.12824 | Acc: 94.527 | Eval Acc: 86.000\n",
        "Epoch 013: | Loss: 0.12176 | Acc: 94.854 | Eval Acc: 86.000\n",
        "Epoch 014: | Loss: 0.11399 | Acc: 95.184 | Eval Acc: 86.000\n",
        "Epoch 015: | Loss: 0.10805 | Acc: 95.433 | Eval Acc: 86.000\n",
        "Epoch 016: | Loss: 0.10220 | Acc: 95.749 | Eval Acc: 86.000\n",
        "Epoch 017: | Loss: 0.09671 | Acc: 95.908 | Eval Acc: 85.000\n",
        "Epoch 018: | Loss: 0.09137 | Acc: 96.179 | Eval Acc: 86.000\n",
        "Epoch 019: | Loss: 0.08704 | Acc: 96.361 | Eval Acc: 86.000\n",
        "Epoch 020: | Loss: 0.08304 | Acc: 96.545 | Eval Acc: 86.000\n",
        "Epoch 021: | Loss: 0.07889 | Acc: 96.726 | Eval Acc: 86.000\n",
        "Epoch 022: | Loss: 0.07587 | Acc: 96.850 | Eval Acc: 86.000\n",
        "Epoch 023: | Loss: 0.07294 | Acc: 96.960 | Eval Acc: 85.000\n",
        "Epoch 024: | Loss: 0.07009 | Acc: 97.126 | Eval Acc: 86.000\n",
        "Epoch 025: | Loss: 0.06714 | Acc: 97.280 | Eval Acc: 85.000\n",
        "Epoch 026: | Loss: 0.06463 | Acc: 97.381 | Eval Acc: 86.000\n",
        "Epoch 027: | Loss: 0.06148 | Acc: 97.507 | Eval Acc: 86.000\n",
        "Epoch 028: | Loss: 0.06007 | Acc: 97.585 | Eval Acc: 85.000\n",
        "Epoch 029: | Loss: 0.05807 | Acc: 97.648 | Eval Acc: 85.000\n",
        "Epoch 030: | Loss: 0.05525 | Acc: 97.767 | Eval Acc: 86.000\n",
        "Epoch 031: | Loss: 0.05463 | Acc: 97.836 | Eval Acc: 85.000\n",
        "Epoch 032: | Loss: 0.05228 | Acc: 97.922 | Eval Acc: 85.000\n",
        "Epoch 033: | Loss: 0.04993 | Acc: 98.025 | Eval Acc: 86.000\n",
        "Epoch 034: | Loss: 0.05048 | Acc: 98.007 | Eval Acc: 85.000\n",
        "Epoch 035: | Loss: 0.04758 | Acc: 98.126 | Eval Acc: 85.000\n",
        "Epoch 036: | Loss: 0.04580 | Acc: 98.229 | Eval Acc: 85.000\n",
        "Epoch 037: | Loss: 0.04513 | Acc: 98.217 | Eval Acc: 85.000\n",
        "Epoch 038: | Loss: 0.04368 | Acc: 98.298 | Eval Acc: 85.000\n",
        "Epoch 039: | Loss: 0.04244 | Acc: 98.352 | Eval Acc: 85.000\n",
        "Epoch 040: | Loss: 0.04151 | Acc: 98.406 | Eval Acc: 85.000\n",
        "Epoch 041: | Loss: 0.04181 | Acc: 98.399 | Eval Acc: 85.000\n",
        "Epoch 042: | Loss: 0.03917 | Acc: 98.491 | Eval Acc: 86.000\n",
        "Epoch 043: | Loss: 0.03946 | Acc: 98.464 | Eval Acc: 85.000\n",
        "Epoch 044: | Loss: 0.03796 | Acc: 98.552 | Eval Acc: 85.000\n",
        "Epoch 045: | Loss: 0.03555 | Acc: 98.661 | Eval Acc: 85.000\n",
        "Epoch 046: | Loss: 0.03697 | Acc: 98.608 | Eval Acc: 85.000\n",
        "Epoch 047: | Loss: 0.03471 | Acc: 98.688 | Eval Acc: 85.000\n",
        "Epoch 048: | Loss: 0.03548 | Acc: 98.673 | Eval Acc: 85.000\n",
        "Epoch 049: | Loss: 0.03338 | Acc: 98.769 | Eval Acc: 85.000"
      ],
      "execution_count": null,
      "outputs": []
    },
    {
      "cell_type": "code",
      "metadata": {
        "id": "4Vzb-Z2jJTdx"
      },
      "source": [
        "# Model 4, 3 hidden layers with leakyrelu \n",
        "class Clip_nlp(nn.Module): # MODEL 3\n",
        "    def __init__(self):\n",
        "        super(Clip_nlp, self).__init__()\n",
        "\n",
        "        # Input Layer\n",
        "        self.layer_1 = nn.Linear(INPUT_SIZE, 64) \n",
        "\n",
        "        # Hidden Layers\n",
        "        self.layer_2 = nn.Linear(64, 64)\n",
        "        self.layer_3 = nn.Linear(64, 64)\n",
        "        self.layer_4 = nn.Linear(64, 64)\n",
        "        \n",
        "        # Out Layer\n",
        "        self.layer_out = nn.Linear(64, 1) \n",
        "        \n",
        "        # Reg features\n",
        "        self.relu = nn.LeakyReLU()\n",
        "        self.dropout = nn.Dropout(p=0.1)\n",
        "        self.batchnorm1 = nn.BatchNorm1d(64)\n",
        "        self.batchnorm2 = nn.BatchNorm1d(64)\n",
        "        self.batchnorm3 = nn.BatchNorm1d(64)\n",
        "        self.batchnorm4 = nn.BatchNorm1d(64)\n",
        "        \n",
        "    def forward(self, inputs):\n",
        "        # Relu on input layer outputs, then normalization\n",
        "        x = self.relu(self.layer_1(inputs))\n",
        "        x = self.batchnorm1(x)\n",
        "        \n",
        "        # HL 1\n",
        "        x = self.relu(self.layer_2(x))\n",
        "        x = self.batchnorm2(x)\n",
        "        \n",
        "        x = self.relu(self.layer_3(x))\n",
        "        x = self.batchnorm3(x)\n",
        "        \n",
        "        x = self.relu(self.layer_4(x))\n",
        "        x = self.batchnorm4(x)\n",
        "        \n",
        "        # Out layer\n",
        "        x = self.dropout(x)\n",
        "        x = self.layer_out(x)\n",
        "        return x\n",
        "        \n",
        "Epoch 000: | Loss: 0.47582 | Acc: 73.446 | Eval Acc: 78.000\n",
        "Epoch 001: | Loss: 0.36522 | Acc: 81.155 | Eval Acc: 83.000\n",
        "Epoch 002: | Loss: 0.30022 | Acc: 85.397 | Eval Acc: 84.000\n",
        "Epoch 003: | Loss: 0.27188 | Acc: 87.126 | Eval Acc: 86.000\n",
        "Epoch 004: | Loss: 0.25211 | Acc: 88.240 | Eval Acc: 86.000\n",
        "Epoch 005: | Loss: 0.23767 | Acc: 88.987 | Eval Acc: 85.000\n",
        "Epoch 006: | Loss: 0.22469 | Acc: 89.709 | Eval Acc: 86.000\n",
        "Epoch 007: | Loss: 0.21363 | Acc: 90.285 | Eval Acc: 86.000\n",
        "Epoch 008: | Loss: 0.20492 | Acc: 90.767 | Eval Acc: 86.000\n",
        "Epoch 009: | Loss: 0.19612 | Acc: 91.204 | Eval Acc: 86.000\n",
        "Epoch 010: | Loss: 0.18808 | Acc: 91.610 | Eval Acc: 86.000\n",
        "Epoch 011: | Loss: 0.18179 | Acc: 91.879 | Eval Acc: 86.000\n",
        "Epoch 012: | Loss: 0.17500 | Acc: 92.314 | Eval Acc: 86.000\n",
        "Epoch 013: | Loss: 0.16994 | Acc: 92.507 | Eval Acc: 86.000\n",
        "Epoch 014: | Loss: 0.16363 | Acc: 92.812 | Eval Acc: 86.000\n",
        "Epoch 015: | Loss: 0.15873 | Acc: 93.056 | Eval Acc: 85.000\n",
        "Epoch 016: | Loss: 0.15450 | Acc: 93.251 | Eval Acc: 86.000\n",
        "Epoch 017: | Loss: 0.14998 | Acc: 93.446 | Eval Acc: 86.000\n",
        "Epoch 018: | Loss: 0.14567 | Acc: 93.704 | Eval Acc: 86.000\n",
        "Epoch 019: | Loss: 0.14198 | Acc: 93.870 | Eval Acc: 86.000\n",
        "Epoch 020: | Loss: 0.13837 | Acc: 94.036 | Eval Acc: 85.000\n",
        "Epoch 021: | Loss: 0.13466 | Acc: 94.229 | Eval Acc: 86.000\n",
        "Epoch 022: | Loss: 0.13112 | Acc: 94.348 | Eval Acc: 85.000\n",
        "Epoch 023: | Loss: 0.12788 | Acc: 94.543 | Eval Acc: 85.000\n",
        "Epoch 024: | Loss: 0.12453 | Acc: 94.717 | Eval Acc: 85.000\n",
        "Epoch 025: | Loss: 0.12187 | Acc: 94.821 | Eval Acc: 85.000\n",
        "Epoch 026: | Loss: 0.11956 | Acc: 94.922 | Eval Acc: 85.000\n",
        "Epoch 027: | Loss: 0.11734 | Acc: 95.047 | Eval Acc: 85.000\n",
        "Epoch 028: | Loss: 0.11406 | Acc: 95.197 | Eval Acc: 85.000\n",
        "Epoch 029: | Loss: 0.11156 | Acc: 95.316 | Eval Acc: 85.000\n",
        "Epoch 030: | Loss: 0.10962 | Acc: 95.401 | Eval Acc: 85.000\n",
        "Epoch 031: | Loss: 0.10743 | Acc: 95.500 | Eval Acc: 85.000\n",
        "Epoch 032: | Loss: 0.10545 | Acc: 95.581 | Eval Acc: 85.000\n",
        "Epoch 033: | Loss: 0.10307 | Acc: 95.711 | Eval Acc: 85.000\n",
        "Epoch 034: | Loss: 0.10205 | Acc: 95.711 | Eval Acc: 85.000\n",
        "Epoch 035: | Loss: 0.09929 | Acc: 95.870 | Eval Acc: 85.000\n",
        "Epoch 036: | Loss: 0.09718 | Acc: 95.928 | Eval Acc: 85.000\n",
        "Epoch 037: | Loss: 0.09609 | Acc: 95.973 | Eval Acc: 85.000\n",
        "Epoch 038: | Loss: 0.09295 | Acc: 96.087 | Eval Acc: 85.000\n",
        "Epoch 039: | Loss: 0.09235 | Acc: 96.157 | Eval Acc: 85.000\n",
        "Epoch 040: | Loss: 0.09075 | Acc: 96.215 | Eval Acc: 85.000\n",
        "Epoch 041: | Loss: 0.08895 | Acc: 96.305 | Eval Acc: 85.000\n",
        "Epoch 042: | Loss: 0.08793 | Acc: 96.370 | Eval Acc: 85.000\n",
        "Epoch 043: | Loss: 0.08682 | Acc: 96.374 | Eval Acc: 85.000\n",
        "Epoch 044: | Loss: 0.08563 | Acc: 96.487 | Eval Acc: 85.000\n",
        "Epoch 045: | Loss: 0.08374 | Acc: 96.498 | Eval Acc: 85.000\n",
        "Epoch 046: | Loss: 0.08298 | Acc: 96.619 | Eval Acc: 85.000\n",
        "Epoch 047: | Loss: 0.08138 | Acc: 96.641 | Eval Acc: 85.000\n",
        "Epoch 048: | Loss: 0.08055 | Acc: 96.688 | Eval Acc: 85.000\n",
        "Epoch 049: | Loss: 0.07852 | Acc: 96.776 | Eval Acc: 85.000"
      ],
      "execution_count": null,
      "outputs": []
    },
    {
      "cell_type": "code",
      "metadata": {
        "id": "QglIcY1eNOs7"
      },
      "source": [
        "# Fat model 1\n",
        "class Clip_nlp(nn.Module): # MODEL 3\n",
        "    def __init__(self):\n",
        "        super(Clip_nlp, self).__init__()\n",
        "\n",
        "        # Input Layer\n",
        "        self.layer_1 = nn.Linear(INPUT_SIZE, 512) \n",
        "\n",
        "        # Hidden Layers\n",
        "        self.layer_2 = nn.Linear(512, 512)\n",
        "        self.layer_3 = nn.Linear(512, 512)\n",
        "\n",
        "        self.layer_4 = nn.Linear(512, 128)\n",
        "\n",
        "        self.layer_5 = nn.Linear(128, 64)\n",
        "        self.layer_6 = nn.Linear(64, 64)\n",
        "        \n",
        "        # Out Layer\n",
        "        self.layer_out = nn.Linear(64, 1) \n",
        "        \n",
        "        # Reg features\n",
        "        self.relu = nn.ReLU()\n",
        "        self.dropout = nn.Dropout(p=0.1)\n",
        "        self.batchnorm1 = nn.BatchNorm1d(512)\n",
        "        self.batchnorm2 = nn.BatchNorm1d(512)\n",
        "        self.batchnorm3 = nn.BatchNorm1d(512)\n",
        "        self.batchnorm4 = nn.BatchNorm1d(128)\n",
        "        self.batchnorm5 = nn.BatchNorm1d(64)\n",
        "        self.batchnorm6 = nn.BatchNorm1d(64)\n",
        "        \n",
        "    def forward(self, inputs):\n",
        "        # Relu on input layer outputs, then normalization\n",
        "        x = self.relu(self.layer_1(inputs))\n",
        "        x = self.batchnorm1(x)\n",
        "        \n",
        "        # HL 1\n",
        "        x = self.relu(self.layer_2(x))\n",
        "        x = self.batchnorm2(x)\n",
        "        # HL 2\n",
        "        x = self.relu(self.layer_3(x))\n",
        "        x = self.batchnorm3(x)\n",
        "        # HL 3\n",
        "        x = self.relu(self.layer_4(x))\n",
        "        x = self.batchnorm4(x)\n",
        "        # HL 4\n",
        "        x = self.relu(self.layer_5(x))\n",
        "        x = self.batchnorm5(x)\n",
        "        # HL 5\n",
        "        x = self.relu(self.layer_6(x))\n",
        "        x = self.batchnorm6(x)    \n",
        "\n",
        "        # Out layer\n",
        "        x = self.dropout(x)\n",
        "        x = self.layer_out(x)\n",
        "        return x\n",
        "\n",
        "Epoch 000: | Loss: 0.46227 | Acc: 74.480 | Eval Acc: 78.000\n",
        "Epoch 001: | Loss: 0.33834 | Acc: 83.036 | Eval Acc: 85.000\n",
        "Epoch 002: | Loss: 0.27191 | Acc: 87.038 | Eval Acc: 86.000\n",
        "Epoch 003: | Loss: 0.23435 | Acc: 89.186 | Eval Acc: 86.000\n",
        "Epoch 004: | Loss: 0.20497 | Acc: 90.767 | Eval Acc: 87.000\n",
        "Epoch 005: | Loss: 0.18020 | Acc: 91.964 | Eval Acc: 86.000\n",
        "Epoch 006: | Loss: 0.15955 | Acc: 92.984 | Eval Acc: 87.000\n",
        "Epoch 007: | Loss: 0.14030 | Acc: 93.960 | Eval Acc: 87.000\n",
        "Epoch 008: | Loss: 0.12399 | Acc: 94.720 | Eval Acc: 86.000\n",
        "Epoch 009: | Loss: 0.10927 | Acc: 95.390 | Eval Acc: 86.000\n",
        "Epoch 010: | Loss: 0.09530 | Acc: 96.018 | Eval Acc: 86.000\n",
        "Epoch 011: | Loss: 0.08552 | Acc: 96.426 | Eval Acc: 86.000\n",
        "Epoch 012: | Loss: 0.07547 | Acc: 96.897 | Eval Acc: 86.000\n",
        "Epoch 013: | Loss: 0.06741 | Acc: 97.244 | Eval Acc: 86.000\n",
        "Epoch 014: | Loss: 0.06086 | Acc: 97.547 | Eval Acc: 86.000\n",
        "Epoch 015: | Loss: 0.05580 | Acc: 97.776 | Eval Acc: 86.000\n",
        "Epoch 016: | Loss: 0.05125 | Acc: 97.942 | Eval Acc: 86.000\n",
        "Epoch 017: | Loss: 0.04683 | Acc: 98.139 | Eval Acc: 86.000\n",
        "Epoch 018: | Loss: 0.04367 | Acc: 98.276 | Eval Acc: 86.000\n",
        "Epoch 019: | Loss: 0.04096 | Acc: 98.413 | Eval Acc: 86.000\n",
        "Epoch 020: | Loss: 0.03806 | Acc: 98.554 | Eval Acc: 86.000\n",
        "Epoch 021: | Loss: 0.03584 | Acc: 98.628 | Eval Acc: 86.000\n",
        "Epoch 022: | Loss: 0.03330 | Acc: 98.744 | Eval Acc: 86.000\n",
        "Epoch 023: | Loss: 0.03220 | Acc: 98.787 | Eval Acc: 86.000\n",
        "Epoch 024: | Loss: 0.03082 | Acc: 98.852 | Eval Acc: 86.000\n",
        "Epoch 025: | Loss: 0.02930 | Acc: 98.910 | Eval Acc: 86.000\n",
        "Epoch 026: | Loss: 0.02819 | Acc: 98.978 | Eval Acc: 86.000\n",
        "Epoch 027: | Loss: 0.02683 | Acc: 98.975 | Eval Acc: 86.000\n",
        "Epoch 028: | Loss: 0.02539 | Acc: 99.029 | Eval Acc: 86.000\n",
        "Epoch 029: | Loss: 0.02479 | Acc: 99.043 | Eval Acc: 86.000\n",
        "Epoch 030: | Loss: 0.02384 | Acc: 99.085 | Eval Acc: 86.000\n",
        "Epoch 031: | Loss: 0.02342 | Acc: 99.128 | Eval Acc: 86.000\n",
        "Epoch 032: | Loss: 0.02211 | Acc: 99.168 | Eval Acc: 86.000\n",
        "Epoch 033: | Loss: 0.02127 | Acc: 99.164 | Eval Acc: 86.000\n",
        "Epoch 034: | Loss: 0.02096 | Acc: 99.184 | Eval Acc: 86.000\n",
        "Epoch 035: | Loss: 0.02030 | Acc: 99.229 | Eval Acc: 86.000\n",
        "Epoch 036: | Loss: 0.01950 | Acc: 99.249 | Eval Acc: 86.000\n",
        "Epoch 037: | Loss: 0.01863 | Acc: 99.307 | Eval Acc: 86.000\n",
        "Epoch 038: | Loss: 0.01888 | Acc: 99.278 | Eval Acc: 86.000\n",
        "Epoch 039: | Loss: 0.01841 | Acc: 99.289 | Eval Acc: 86.000\n",
        "Epoch 040: | Loss: 0.01713 | Acc: 99.408 | Eval Acc: 86.000\n",
        "Epoch 041: | Loss: 0.01741 | Acc: 99.379 | Eval Acc: 86.000\n",
        "Epoch 042: | Loss: 0.01725 | Acc: 99.379 | Eval Acc: 86.000\n",
        "Epoch 043: | Loss: 0.01573 | Acc: 99.491 | Eval Acc: 86.000\n",
        "Epoch 044: | Loss: 0.01678 | Acc: 99.383 | Eval Acc: 86.000\n",
        "Epoch 045: | Loss: 0.01525 | Acc: 99.513 | Eval Acc: 86.000\n",
        "Epoch 046: | Loss: 0.01520 | Acc: 99.502 | Eval Acc: 86.000\n",
        "Epoch 047: | Loss: 0.01521 | Acc: 99.525 | Eval Acc: 86.000\n",
        "Epoch 048: | Loss: 0.01470 | Acc: 99.540 | Eval Acc: 86.000\n",
        "Epoch 049: | Loss: 0.01382 | Acc: 99.561 | Eval Acc: 86.000"
      ],
      "execution_count": null,
      "outputs": []
    }
  ]
}